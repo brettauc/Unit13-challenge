{
 "cells": [
  {
   "cell_type": "markdown",
   "metadata": {},
   "source": [
    "# Clustering Crypto"
   ]
  },
  {
   "cell_type": "code",
   "execution_count": 51,
   "metadata": {},
   "outputs": [],
   "source": [
    "# Initial imports\n",
    "import requests\n",
    "import pandas as pd\n",
    "import matplotlib.pyplot as plt\n",
    "import hvplot.pandas\n",
    "import plotly.express as px\n",
    "from sklearn.preprocessing import StandardScaler, MinMaxScaler\n",
    "from sklearn.decomposition import PCA\n",
    "from sklearn.cluster import KMeans"
   ]
  },
  {
   "cell_type": "markdown",
   "metadata": {},
   "source": [
    "### Fetching Cryptocurrency Data"
   ]
  },
  {
   "cell_type": "code",
   "execution_count": 52,
   "metadata": {
    "scrolled": true
   },
   "outputs": [],
   "source": [
    "# Use the following endpoint to fetch json data\n",
    "import json\n",
    "import pprint\n",
    "url = \"https://min-api.cryptocompare.com/data/all/coinlist\"\n",
    "r = requests.get(url)\n",
    "content = r.content\n",
    "content_d = content.decode('utf-8')\n",
    "data = json.loads(content_d)"
   ]
  },
  {
   "cell_type": "code",
   "execution_count": 53,
   "metadata": {},
   "outputs": [
    {
     "data": {
      "text/html": [
       "<div>\n",
       "<style scoped>\n",
       "    .dataframe tbody tr th:only-of-type {\n",
       "        vertical-align: middle;\n",
       "    }\n",
       "\n",
       "    .dataframe tbody tr th {\n",
       "        vertical-align: top;\n",
       "    }\n",
       "\n",
       "    .dataframe thead th {\n",
       "        text-align: right;\n",
       "    }\n",
       "</style>\n",
       "<table border=\"1\" class=\"dataframe\">\n",
       "  <thead>\n",
       "    <tr style=\"text-align: right;\">\n",
       "      <th></th>\n",
       "      <th>Algorithm</th>\n",
       "      <th>BlockNumber</th>\n",
       "      <th>BlockReward</th>\n",
       "      <th>BlockTime</th>\n",
       "      <th>BuiltOn</th>\n",
       "      <th>CoinName</th>\n",
       "      <th>ContentCreatedOn</th>\n",
       "      <th>DecimalPlaces</th>\n",
       "      <th>FullName</th>\n",
       "      <th>FullyPremined</th>\n",
       "      <th>...</th>\n",
       "      <th>Rating</th>\n",
       "      <th>SmartContractAddress</th>\n",
       "      <th>SortOrder</th>\n",
       "      <th>Sponsored</th>\n",
       "      <th>Symbol</th>\n",
       "      <th>Taxonomy</th>\n",
       "      <th>TotalCoinSupply</th>\n",
       "      <th>TotalCoinsFreeFloat</th>\n",
       "      <th>TotalCoinsMined</th>\n",
       "      <th>Url</th>\n",
       "    </tr>\n",
       "  </thead>\n",
       "  <tbody>\n",
       "    <tr>\n",
       "      <th>42</th>\n",
       "      <td>Scrypt</td>\n",
       "      <td>195131</td>\n",
       "      <td>0</td>\n",
       "      <td>0</td>\n",
       "      <td>N/A</td>\n",
       "      <td>42 Coin</td>\n",
       "      <td>1427211129</td>\n",
       "      <td>0</td>\n",
       "      <td>42 Coin (42)</td>\n",
       "      <td>0</td>\n",
       "      <td>...</td>\n",
       "      <td>{'Weiss': {'Rating': '', 'TechnologyAdoptionRa...</td>\n",
       "      <td>N/A</td>\n",
       "      <td>34</td>\n",
       "      <td>False</td>\n",
       "      <td>42</td>\n",
       "      <td>{'Access': '', 'FCA': '', 'FINMA': '', 'Indust...</td>\n",
       "      <td>42</td>\n",
       "      <td>N/A</td>\n",
       "      <td>42</td>\n",
       "      <td>/coins/42/overview</td>\n",
       "    </tr>\n",
       "    <tr>\n",
       "      <th>300</th>\n",
       "      <td>N/A</td>\n",
       "      <td>0</td>\n",
       "      <td>0</td>\n",
       "      <td>0</td>\n",
       "      <td>7605</td>\n",
       "      <td>300 token</td>\n",
       "      <td>1517935016</td>\n",
       "      <td>18</td>\n",
       "      <td>300 token (300)</td>\n",
       "      <td>0</td>\n",
       "      <td>...</td>\n",
       "      <td>{'Weiss': {'Rating': '', 'TechnologyAdoptionRa...</td>\n",
       "      <td>0xaec98a708810414878c3bcdf46aad31ded4a4557</td>\n",
       "      <td>2212</td>\n",
       "      <td>False</td>\n",
       "      <td>300</td>\n",
       "      <td>{'Access': '', 'FCA': '', 'FINMA': '', 'Indust...</td>\n",
       "      <td>300</td>\n",
       "      <td>N/A</td>\n",
       "      <td>300</td>\n",
       "      <td>/coins/300/overview</td>\n",
       "    </tr>\n",
       "    <tr>\n",
       "      <th>365</th>\n",
       "      <td>X11</td>\n",
       "      <td>NaN</td>\n",
       "      <td>NaN</td>\n",
       "      <td>NaN</td>\n",
       "      <td>N/A</td>\n",
       "      <td>365Coin</td>\n",
       "      <td>1480032918</td>\n",
       "      <td>0</td>\n",
       "      <td>365Coin (365)</td>\n",
       "      <td>0</td>\n",
       "      <td>...</td>\n",
       "      <td>{'Weiss': {'Rating': '', 'TechnologyAdoptionRa...</td>\n",
       "      <td>N/A</td>\n",
       "      <td>916</td>\n",
       "      <td>False</td>\n",
       "      <td>365</td>\n",
       "      <td>{'Access': '', 'FCA': '', 'FINMA': '', 'Indust...</td>\n",
       "      <td>2300000000</td>\n",
       "      <td>N/A</td>\n",
       "      <td>NaN</td>\n",
       "      <td>/coins/365/overview</td>\n",
       "    </tr>\n",
       "    <tr>\n",
       "      <th>404</th>\n",
       "      <td>Scrypt</td>\n",
       "      <td>44853</td>\n",
       "      <td>72.0302</td>\n",
       "      <td>60</td>\n",
       "      <td>N/A</td>\n",
       "      <td>404Coin</td>\n",
       "      <td>1466100361</td>\n",
       "      <td>0</td>\n",
       "      <td>404Coin (404)</td>\n",
       "      <td>0</td>\n",
       "      <td>...</td>\n",
       "      <td>{'Weiss': {'Rating': '', 'TechnologyAdoptionRa...</td>\n",
       "      <td>N/A</td>\n",
       "      <td>602</td>\n",
       "      <td>False</td>\n",
       "      <td>404</td>\n",
       "      <td>{'Access': '', 'FCA': '', 'FINMA': '', 'Indust...</td>\n",
       "      <td>532000000</td>\n",
       "      <td>N/A</td>\n",
       "      <td>1.1994e+06</td>\n",
       "      <td>/coins/404/overview</td>\n",
       "    </tr>\n",
       "    <tr>\n",
       "      <th>433</th>\n",
       "      <td>N/A</td>\n",
       "      <td>10821077</td>\n",
       "      <td>2</td>\n",
       "      <td>0</td>\n",
       "      <td>7605</td>\n",
       "      <td>433 Token</td>\n",
       "      <td>1541597321</td>\n",
       "      <td>18</td>\n",
       "      <td>433 Token (433)</td>\n",
       "      <td>0</td>\n",
       "      <td>...</td>\n",
       "      <td>{'Weiss': {'Rating': '', 'TechnologyAdoptionRa...</td>\n",
       "      <td>0x738505a5f31bf72e0b70298bca81150eb1b7c751</td>\n",
       "      <td>3505</td>\n",
       "      <td>False</td>\n",
       "      <td>433</td>\n",
       "      <td>{'Access': '', 'FCA': '', 'FINMA': '', 'Indust...</td>\n",
       "      <td>1000000000</td>\n",
       "      <td>N/A</td>\n",
       "      <td>1.12517e+08</td>\n",
       "      <td>/coins/433/overview</td>\n",
       "    </tr>\n",
       "  </tbody>\n",
       "</table>\n",
       "<p>5 rows × 27 columns</p>\n",
       "</div>"
      ],
      "text/plain": [
       "    Algorithm BlockNumber BlockReward BlockTime BuiltOn   CoinName  \\\n",
       "42     Scrypt      195131           0         0     N/A    42 Coin   \n",
       "300       N/A           0           0         0    7605  300 token   \n",
       "365       X11         NaN         NaN       NaN     N/A    365Coin   \n",
       "404    Scrypt       44853     72.0302        60     N/A    404Coin   \n",
       "433       N/A    10821077           2         0    7605  433 Token   \n",
       "\n",
       "    ContentCreatedOn DecimalPlaces         FullName FullyPremined  ...  \\\n",
       "42        1427211129             0     42 Coin (42)             0  ...   \n",
       "300       1517935016            18  300 token (300)             0  ...   \n",
       "365       1480032918             0    365Coin (365)             0  ...   \n",
       "404       1466100361             0    404Coin (404)             0  ...   \n",
       "433       1541597321            18  433 Token (433)             0  ...   \n",
       "\n",
       "                                                Rating  \\\n",
       "42   {'Weiss': {'Rating': '', 'TechnologyAdoptionRa...   \n",
       "300  {'Weiss': {'Rating': '', 'TechnologyAdoptionRa...   \n",
       "365  {'Weiss': {'Rating': '', 'TechnologyAdoptionRa...   \n",
       "404  {'Weiss': {'Rating': '', 'TechnologyAdoptionRa...   \n",
       "433  {'Weiss': {'Rating': '', 'TechnologyAdoptionRa...   \n",
       "\n",
       "                           SmartContractAddress SortOrder Sponsored Symbol  \\\n",
       "42                                          N/A        34     False     42   \n",
       "300  0xaec98a708810414878c3bcdf46aad31ded4a4557      2212     False    300   \n",
       "365                                         N/A       916     False    365   \n",
       "404                                         N/A       602     False    404   \n",
       "433  0x738505a5f31bf72e0b70298bca81150eb1b7c751      3505     False    433   \n",
       "\n",
       "                                              Taxonomy TotalCoinSupply  \\\n",
       "42   {'Access': '', 'FCA': '', 'FINMA': '', 'Indust...              42   \n",
       "300  {'Access': '', 'FCA': '', 'FINMA': '', 'Indust...             300   \n",
       "365  {'Access': '', 'FCA': '', 'FINMA': '', 'Indust...      2300000000   \n",
       "404  {'Access': '', 'FCA': '', 'FINMA': '', 'Indust...       532000000   \n",
       "433  {'Access': '', 'FCA': '', 'FINMA': '', 'Indust...      1000000000   \n",
       "\n",
       "    TotalCoinsFreeFloat TotalCoinsMined                  Url  \n",
       "42                  N/A              42   /coins/42/overview  \n",
       "300                 N/A             300  /coins/300/overview  \n",
       "365                 N/A             NaN  /coins/365/overview  \n",
       "404                 N/A      1.1994e+06  /coins/404/overview  \n",
       "433                 N/A     1.12517e+08  /coins/433/overview  \n",
       "\n",
       "[5 rows x 27 columns]"
      ]
     },
     "execution_count": 53,
     "metadata": {},
     "output_type": "execute_result"
    }
   ],
   "source": [
    "# Create a DataFrame \n",
    "# HINT: You will need to use the 'Data' key from the json response, then transpose the DataFrame.\n",
    "# dataframe creation\n",
    "crypto_df = pd.DataFrame(data=data['Data'])\n",
    "\n",
    "# Transpose Dataframe\n",
    "crypto_df = crypto_df.T\n",
    "\n",
    "crypto_df.head()"
   ]
  },
  {
   "cell_type": "code",
   "execution_count": 54,
   "metadata": {},
   "outputs": [],
   "source": [
    "# Alternatively, use the provided csv file:\n",
    "# file_path = Path(\"Resources/crypto_data.csv\")\n",
    "\n",
    "# Create a DataFrame"
   ]
  },
  {
   "cell_type": "markdown",
   "metadata": {},
   "source": [
    "### Data Preprocessing"
   ]
  },
  {
   "cell_type": "code",
   "execution_count": 55,
   "metadata": {},
   "outputs": [
    {
     "data": {
      "text/html": [
       "<div>\n",
       "<style scoped>\n",
       "    .dataframe tbody tr th:only-of-type {\n",
       "        vertical-align: middle;\n",
       "    }\n",
       "\n",
       "    .dataframe tbody tr th {\n",
       "        vertical-align: top;\n",
       "    }\n",
       "\n",
       "    .dataframe thead th {\n",
       "        text-align: right;\n",
       "    }\n",
       "</style>\n",
       "<table border=\"1\" class=\"dataframe\">\n",
       "  <thead>\n",
       "    <tr style=\"text-align: right;\">\n",
       "      <th></th>\n",
       "      <th>CoinName</th>\n",
       "      <th>Algorithm</th>\n",
       "      <th>IsTrading</th>\n",
       "      <th>ProofType</th>\n",
       "      <th>TotalCoinsMined</th>\n",
       "      <th>TotalCoinSupply</th>\n",
       "    </tr>\n",
       "  </thead>\n",
       "  <tbody>\n",
       "    <tr>\n",
       "      <th>42</th>\n",
       "      <td>42 Coin</td>\n",
       "      <td>Scrypt</td>\n",
       "      <td>True</td>\n",
       "      <td>PoW/PoS</td>\n",
       "      <td>42</td>\n",
       "      <td>42</td>\n",
       "    </tr>\n",
       "    <tr>\n",
       "      <th>300</th>\n",
       "      <td>300 token</td>\n",
       "      <td>N/A</td>\n",
       "      <td>True</td>\n",
       "      <td>N/A</td>\n",
       "      <td>300</td>\n",
       "      <td>300</td>\n",
       "    </tr>\n",
       "    <tr>\n",
       "      <th>365</th>\n",
       "      <td>365Coin</td>\n",
       "      <td>X11</td>\n",
       "      <td>True</td>\n",
       "      <td>PoW/PoS</td>\n",
       "      <td>NaN</td>\n",
       "      <td>2300000000</td>\n",
       "    </tr>\n",
       "    <tr>\n",
       "      <th>404</th>\n",
       "      <td>404Coin</td>\n",
       "      <td>Scrypt</td>\n",
       "      <td>True</td>\n",
       "      <td>PoW/PoS</td>\n",
       "      <td>1.1994e+06</td>\n",
       "      <td>532000000</td>\n",
       "    </tr>\n",
       "    <tr>\n",
       "      <th>433</th>\n",
       "      <td>433 Token</td>\n",
       "      <td>N/A</td>\n",
       "      <td>False</td>\n",
       "      <td>N/A</td>\n",
       "      <td>1.12517e+08</td>\n",
       "      <td>1000000000</td>\n",
       "    </tr>\n",
       "  </tbody>\n",
       "</table>\n",
       "</div>"
      ],
      "text/plain": [
       "      CoinName Algorithm IsTrading ProofType TotalCoinsMined TotalCoinSupply\n",
       "42     42 Coin    Scrypt      True   PoW/PoS              42              42\n",
       "300  300 token       N/A      True       N/A             300             300\n",
       "365    365Coin       X11      True   PoW/PoS             NaN      2300000000\n",
       "404    404Coin    Scrypt      True   PoW/PoS      1.1994e+06       532000000\n",
       "433  433 Token       N/A     False       N/A     1.12517e+08      1000000000"
      ]
     },
     "execution_count": 55,
     "metadata": {},
     "output_type": "execute_result"
    }
   ],
   "source": [
    "# Keep only necessary columns:\n",
    "# 'CoinName','Algorithm','IsTrading','ProofType','TotalCoinsMined','TotalCoinSupply'\n",
    "crypto_df.drop(columns = ['BlockNumber', 'BlockReward', 'BlockTime', 'BuiltOn',\n",
    "                          'ContentCreatedOn', 'DecimalPlaces', 'FullName',\n",
    "                          'FullyPremined', 'Id', 'ImageUrl', 'Name',\n",
    "                          'NetHashesPerSecond', 'PreMinedValue', 'Rating',\n",
    "                          'SmartContractAddress', 'SortOrder', 'Sponsored', 'Symbol', 'Taxonomy',\n",
    "                          'TotalCoinsFreeFloat', 'Url'], inplace=True)\n",
    "\n",
    "# Reorder Columns that are still in the dataframe\n",
    "crypto_df = crypto_df[['CoinName', 'Algorithm', 'IsTrading', 'ProofType', 'TotalCoinsMined', 'TotalCoinSupply']]\n",
    "\n",
    "crypto_df.head()"
   ]
  },
  {
   "cell_type": "code",
   "execution_count": 56,
   "metadata": {},
   "outputs": [],
   "source": [
    "# Keep only cryptocurrencies that are trading\n",
    "\n",
    "# determine the count of false values(1094)\n",
    "# crypto_df['IsTrading'].value_counts() \n",
    "\n",
    "crypto_df.drop(crypto_df[crypto_df['IsTrading'] == False].index,\n",
    "              inplace=True)"
   ]
  },
  {
   "cell_type": "code",
   "execution_count": 57,
   "metadata": {},
   "outputs": [],
   "source": [
    "# Keep only cryptocurrencies with a working algorithm\n",
    "crypto_df.drop(crypto_df[crypto_df['Algorithm'] == 'N/A'].index, inplace=True)"
   ]
  },
  {
   "cell_type": "code",
   "execution_count": 58,
   "metadata": {},
   "outputs": [],
   "source": [
    "# Remove the \"IsTrading\" column\n",
    "crypto_df.drop(columns = ['IsTrading'], inplace=True)"
   ]
  },
  {
   "cell_type": "code",
   "execution_count": 59,
   "metadata": {},
   "outputs": [],
   "source": [
    "# Remove rows with at least 1 null value\n",
    "crypto_df.dropna(inplace=True)"
   ]
  },
  {
   "cell_type": "code",
   "execution_count": 60,
   "metadata": {},
   "outputs": [],
   "source": [
    "# Remove rows with cryptocurrencies having no coins mined\n",
    "crypto_df.drop(crypto_df[crypto_df['TotalCoinsMined'] == 0].index, inplace=True)"
   ]
  },
  {
   "cell_type": "code",
   "execution_count": 61,
   "metadata": {},
   "outputs": [],
   "source": [
    "# Drop rows where there are 'N/A' text values\n",
    "crypto_df = crypto_df[crypto_df != 'N/A'].dropna()"
   ]
  },
  {
   "cell_type": "code",
   "execution_count": 62,
   "metadata": {},
   "outputs": [],
   "source": [
    "# Store the 'CoinName'column in its own DataFrame prior to dropping it from crypto_df\n",
    "CoinName_df = crypto_df['CoinName'].to_frame()"
   ]
  },
  {
   "cell_type": "code",
   "execution_count": 63,
   "metadata": {},
   "outputs": [],
   "source": [
    "# Drop the 'CoinName' column since it's not going to be used on the clustering algorithm\n",
    "crypto_df.drop(columns = ['CoinName'], inplace=True)"
   ]
  },
  {
   "cell_type": "code",
   "execution_count": 64,
   "metadata": {},
   "outputs": [],
   "source": [
    "# Create dummy variables for text features\n",
    "X = pd.get_dummies(crypto_df, columns=['Algorithm', 'ProofType'], drop_first=True)"
   ]
  },
  {
   "cell_type": "code",
   "execution_count": 65,
   "metadata": {},
   "outputs": [],
   "source": [
    "# Standardize data\n",
    "X_scaled = StandardScaler().fit_transform(X)"
   ]
  },
  {
   "cell_type": "markdown",
   "metadata": {},
   "source": [
    "### Reducing Dimensions Using PCA"
   ]
  },
  {
   "cell_type": "code",
   "execution_count": 66,
   "metadata": {},
   "outputs": [],
   "source": [
    "# Use PCA to reduce dimensions to 3 principal components\n",
    "pca = PCA(n_components=3)\n",
    "crypto_pca = pca.fit_transform(X_scaled)"
   ]
  },
  {
   "cell_type": "code",
   "execution_count": 69,
   "metadata": {},
   "outputs": [
    {
     "data": {
      "text/html": [
       "<div>\n",
       "<style scoped>\n",
       "    .dataframe tbody tr th:only-of-type {\n",
       "        vertical-align: middle;\n",
       "    }\n",
       "\n",
       "    .dataframe tbody tr th {\n",
       "        vertical-align: top;\n",
       "    }\n",
       "\n",
       "    .dataframe thead th {\n",
       "        text-align: right;\n",
       "    }\n",
       "</style>\n",
       "<table border=\"1\" class=\"dataframe\">\n",
       "  <thead>\n",
       "    <tr style=\"text-align: right;\">\n",
       "      <th></th>\n",
       "      <th>PC 1</th>\n",
       "      <th>PC 2</th>\n",
       "      <th>PC 3</th>\n",
       "    </tr>\n",
       "  </thead>\n",
       "  <tbody>\n",
       "    <tr>\n",
       "      <th>42</th>\n",
       "      <td>-0.352753</td>\n",
       "      <td>0.753911</td>\n",
       "      <td>-0.388786</td>\n",
       "    </tr>\n",
       "    <tr>\n",
       "      <th>404</th>\n",
       "      <td>-0.348866</td>\n",
       "      <td>0.753763</td>\n",
       "      <td>-0.388837</td>\n",
       "    </tr>\n",
       "    <tr>\n",
       "      <th>1337</th>\n",
       "      <td>2.342678</td>\n",
       "      <td>1.445835</td>\n",
       "      <td>-0.477154</td>\n",
       "    </tr>\n",
       "    <tr>\n",
       "      <th>BTCD</th>\n",
       "      <td>-0.341285</td>\n",
       "      <td>0.738660</td>\n",
       "      <td>-0.252875</td>\n",
       "    </tr>\n",
       "    <tr>\n",
       "      <th>XPY</th>\n",
       "      <td>-0.299597</td>\n",
       "      <td>0.447210</td>\n",
       "      <td>-0.029130</td>\n",
       "    </tr>\n",
       "  </tbody>\n",
       "</table>\n",
       "</div>"
      ],
      "text/plain": [
       "          PC 1      PC 2      PC 3\n",
       "42   -0.352753  0.753911 -0.388786\n",
       "404  -0.348866  0.753763 -0.388837\n",
       "1337  2.342678  1.445835 -0.477154\n",
       "BTCD -0.341285  0.738660 -0.252875\n",
       "XPY  -0.299597  0.447210 -0.029130"
      ]
     },
     "execution_count": 69,
     "metadata": {},
     "output_type": "execute_result"
    }
   ],
   "source": [
    "# Create a DataFrame with the principal components data\n",
    "pca_df = pd.DataFrame(data=crypto_pca,\n",
    "                            columns=['PC 1', 'PC 2', 'PC 3'],\n",
    "                            index=crypto_df.index\n",
    "                            )\n",
    "pca_df.head()"
   ]
  },
  {
   "cell_type": "markdown",
   "metadata": {},
   "source": [
    "### Clustering Crytocurrencies Using K-Means\n",
    "\n",
    "#### Find the Best Value for `k` Using the Elbow Curve"
   ]
  },
  {
   "cell_type": "code",
   "execution_count": 71,
   "metadata": {},
   "outputs": [
    {
     "data": {
      "application/vnd.holoviews_exec.v0+json": "",
      "text/html": [
       "<div id='1001'>\n",
       "\n",
       "\n",
       "\n",
       "\n",
       "\n",
       "  <div class=\"bk-root\" id=\"8293d7df-05bd-4fb7-a1c2-f1e621688f79\" data-root-id=\"1001\"></div>\n",
       "</div>\n",
       "<script type=\"application/javascript\">(function(root) {\n",
       "  function embed_document(root) {\n",
       "  var docs_json = {\"62bd607e-730d-4118-94c9-546f2958f52d\":{\"roots\":{\"references\":[{\"attributes\":{\"axis\":{\"id\":\"1019\"},\"dimension\":1,\"grid_line_color\":null,\"ticker\":null},\"id\":\"1022\",\"type\":\"Grid\"},{\"attributes\":{\"source\":{\"id\":\"1036\"}},\"id\":\"1043\",\"type\":\"CDSView\"},{\"attributes\":{},\"id\":\"1013\",\"type\":\"LinearScale\"},{\"attributes\":{\"callback\":null,\"renderers\":[{\"id\":\"1042\"}],\"tags\":[\"hv_created\"],\"tooltips\":[[\"k\",\"@{k}\"],[\"inertia\",\"@{inertia}\"]]},\"id\":\"1005\",\"type\":\"HoverTool\"},{\"attributes\":{},\"id\":\"1020\",\"type\":\"BasicTicker\"},{\"attributes\":{\"end\":4020.3373335071274,\"reset_end\":4020.3373335071274,\"reset_start\":-188.0066389857735,\"start\":-188.0066389857735,\"tags\":[[[\"inertia\",\"inertia\",null]]]},\"id\":\"1004\",\"type\":\"Range1d\"},{\"attributes\":{\"active_drag\":\"auto\",\"active_inspect\":\"auto\",\"active_multi\":null,\"active_scroll\":\"auto\",\"active_tap\":\"auto\",\"tools\":[{\"id\":\"1005\"},{\"id\":\"1023\"},{\"id\":\"1024\"},{\"id\":\"1025\"},{\"id\":\"1026\"},{\"id\":\"1027\"}]},\"id\":\"1029\",\"type\":\"Toolbar\"},{\"attributes\":{\"line_color\":\"#1f77b3\",\"line_width\":2,\"x\":{\"field\":\"k\"},\"y\":{\"field\":\"inertia\"}},\"id\":\"1039\",\"type\":\"Line\"},{\"attributes\":{\"axis\":{\"id\":\"1015\"},\"grid_line_color\":null,\"ticker\":null},\"id\":\"1018\",\"type\":\"Grid\"},{\"attributes\":{\"data\":{\"inertia\":{\"__ndarray__\":\"SxeMtEirrEB2bg7h0ZSjQCNI+9r+55pA08kJrFCtjUDmEX0KS2CEQCehXTpWz3xAGeESoGeHckBMr2q0a7BuQOW0MP+aQGlAI9HrwwlWZEA=\",\"dtype\":\"float64\",\"shape\":[10]},\"k\":[1,2,3,4,5,6,7,8,9,10]},\"selected\":{\"id\":\"1037\"},\"selection_policy\":{\"id\":\"1057\"}},\"id\":\"1036\",\"type\":\"ColumnDataSource\"},{\"attributes\":{\"axis_label\":\"inertia\",\"bounds\":\"auto\",\"formatter\":{\"id\":\"1050\"},\"major_label_orientation\":\"horizontal\",\"ticker\":{\"id\":\"1020\"}},\"id\":\"1019\",\"type\":\"LinearAxis\"},{\"attributes\":{},\"id\":\"1023\",\"type\":\"SaveTool\"},{\"attributes\":{\"text\":\"Elbow Curve\",\"text_color\":{\"value\":\"black\"},\"text_font_size\":{\"value\":\"12pt\"}},\"id\":\"1007\",\"type\":\"Title\"},{\"attributes\":{},\"id\":\"1046\",\"type\":\"BasicTickFormatter\"},{\"attributes\":{},\"id\":\"1057\",\"type\":\"UnionRenderers\"},{\"attributes\":{\"bottom_units\":\"screen\",\"fill_alpha\":0.5,\"fill_color\":\"lightgrey\",\"left_units\":\"screen\",\"level\":\"overlay\",\"line_alpha\":1.0,\"line_color\":\"black\",\"line_dash\":[4,4],\"line_width\":2,\"render_mode\":\"css\",\"right_units\":\"screen\",\"top_units\":\"screen\"},\"id\":\"1028\",\"type\":\"BoxAnnotation\"},{\"attributes\":{},\"id\":\"1011\",\"type\":\"LinearScale\"},{\"attributes\":{\"axis_label\":\"k\",\"bounds\":\"auto\",\"formatter\":{\"id\":\"1046\"},\"major_label_orientation\":\"horizontal\",\"ticker\":{\"id\":\"1044\"}},\"id\":\"1015\",\"type\":\"LinearAxis\"},{\"attributes\":{},\"id\":\"1025\",\"type\":\"WheelZoomTool\"},{\"attributes\":{},\"id\":\"1037\",\"type\":\"Selection\"},{\"attributes\":{\"align\":null,\"below\":[{\"id\":\"1015\"}],\"center\":[{\"id\":\"1018\"},{\"id\":\"1022\"}],\"left\":[{\"id\":\"1019\"}],\"margin\":null,\"min_border_bottom\":10,\"min_border_left\":10,\"min_border_right\":10,\"min_border_top\":10,\"plot_height\":300,\"plot_width\":700,\"renderers\":[{\"id\":\"1042\"}],\"sizing_mode\":\"fixed\",\"title\":{\"id\":\"1007\"},\"toolbar\":{\"id\":\"1029\"},\"x_range\":{\"id\":\"1003\"},\"x_scale\":{\"id\":\"1011\"},\"y_range\":{\"id\":\"1004\"},\"y_scale\":{\"id\":\"1013\"}},\"id\":\"1006\",\"subtype\":\"Figure\",\"type\":\"Plot\"},{\"attributes\":{},\"id\":\"1027\",\"type\":\"ResetTool\"},{\"attributes\":{\"data_source\":{\"id\":\"1036\"},\"glyph\":{\"id\":\"1039\"},\"hover_glyph\":null,\"muted_glyph\":{\"id\":\"1041\"},\"nonselection_glyph\":{\"id\":\"1040\"},\"selection_glyph\":null,\"view\":{\"id\":\"1043\"}},\"id\":\"1042\",\"type\":\"GlyphRenderer\"},{\"attributes\":{\"children\":[{\"id\":\"1002\"},{\"id\":\"1006\"},{\"id\":\"1058\"}],\"margin\":[0,0,0,0],\"name\":\"Row01521\",\"tags\":[\"embedded\"]},\"id\":\"1001\",\"type\":\"Row\"},{\"attributes\":{},\"id\":\"1050\",\"type\":\"BasicTickFormatter\"},{\"attributes\":{\"margin\":[5,5,5,5],\"name\":\"HSpacer01526\",\"sizing_mode\":\"stretch_width\"},\"id\":\"1058\",\"type\":\"Spacer\"},{\"attributes\":{\"end\":10.0,\"reset_end\":10.0,\"reset_start\":1.0,\"start\":1.0,\"tags\":[[[\"k\",\"k\",null]]]},\"id\":\"1003\",\"type\":\"Range1d\"},{\"attributes\":{\"line_alpha\":0.2,\"line_color\":\"#1f77b3\",\"line_width\":2,\"x\":{\"field\":\"k\"},\"y\":{\"field\":\"inertia\"}},\"id\":\"1041\",\"type\":\"Line\"},{\"attributes\":{\"margin\":[5,5,5,5],\"name\":\"HSpacer01525\",\"sizing_mode\":\"stretch_width\"},\"id\":\"1002\",\"type\":\"Spacer\"},{\"attributes\":{},\"id\":\"1024\",\"type\":\"PanTool\"},{\"attributes\":{\"ticks\":[1,2,3,4,5,6,7,8,9,10]},\"id\":\"1044\",\"type\":\"FixedTicker\"},{\"attributes\":{\"line_alpha\":0.1,\"line_color\":\"#1f77b3\",\"line_width\":2,\"x\":{\"field\":\"k\"},\"y\":{\"field\":\"inertia\"}},\"id\":\"1040\",\"type\":\"Line\"},{\"attributes\":{\"overlay\":{\"id\":\"1028\"}},\"id\":\"1026\",\"type\":\"BoxZoomTool\"}],\"root_ids\":[\"1001\"]},\"title\":\"Bokeh Application\",\"version\":\"2.0.2\"}};\n",
       "  var render_items = [{\"docid\":\"62bd607e-730d-4118-94c9-546f2958f52d\",\"root_ids\":[\"1001\"],\"roots\":{\"1001\":\"8293d7df-05bd-4fb7-a1c2-f1e621688f79\"}}];\n",
       "  root.Bokeh.embed.embed_items_notebook(docs_json, render_items);\n",
       "  }\n",
       "if (root.Bokeh !== undefined) {\n",
       "    embed_document(root);\n",
       "  } else {\n",
       "    var attempts = 0;\n",
       "    var timer = setInterval(function(root) {\n",
       "      if (root.Bokeh !== undefined) {\n",
       "        clearInterval(timer);\n",
       "        embed_document(root);\n",
       "      } else if (document.readyState == \"complete\") {\n",
       "        attempts++;\n",
       "        if (attempts > 100) {\n",
       "          clearInterval(timer);\n",
       "          console.log(\"Bokeh: ERROR: Unable to run BokehJS code because BokehJS library is missing\");\n",
       "        }\n",
       "      }\n",
       "    }, 10, root)\n",
       "  }\n",
       "})(window);</script>"
      ],
      "text/plain": [
       ":Curve   [k]   (inertia)"
      ]
     },
     "execution_count": 71,
     "metadata": {
      "application/vnd.holoviews_exec.v0+json": {
       "id": "1001"
      }
     },
     "output_type": "execute_result"
    }
   ],
   "source": [
    "inertia = []\n",
    "k = list(range(1, 11))\n",
    "\n",
    "# Calculate the inertia for the range of k values\n",
    "for i in k:\n",
    "    km = KMeans(n_clusters=i, random_state=6)\n",
    "    km.fit(pca_df)\n",
    "    inertia.append(km.inertia_)\n",
    "\n",
    "# Create the Elbow Curve using hvPlot\n",
    "elbow_data = {'k': k, 'inertia': inertia}\n",
    "elbow_df = pd.DataFrame(elbow_data)\n",
    "elbow_df.hvplot.line(x='k', y='inertia',\n",
    "                     title='Elbow Curve',\n",
    "                     xticks=k)"
   ]
  },
  {
   "cell_type": "markdown",
   "metadata": {},
   "source": [
    "Running K-Means with `k=<your best value for k here>`"
   ]
  },
  {
   "cell_type": "code",
   "execution_count": 82,
   "metadata": {},
   "outputs": [
    {
     "data": {
      "text/html": [
       "<div>\n",
       "<style scoped>\n",
       "    .dataframe tbody tr th:only-of-type {\n",
       "        vertical-align: middle;\n",
       "    }\n",
       "\n",
       "    .dataframe tbody tr th {\n",
       "        vertical-align: top;\n",
       "    }\n",
       "\n",
       "    .dataframe thead th {\n",
       "        text-align: right;\n",
       "    }\n",
       "</style>\n",
       "<table border=\"1\" class=\"dataframe\">\n",
       "  <thead>\n",
       "    <tr style=\"text-align: right;\">\n",
       "      <th></th>\n",
       "      <th>Algorithm</th>\n",
       "      <th>ProofType</th>\n",
       "      <th>TotalCoinsMined</th>\n",
       "      <th>TotalCoinSupply</th>\n",
       "      <th>CoinName</th>\n",
       "      <th>PC 1</th>\n",
       "      <th>PC 2</th>\n",
       "      <th>PC 3</th>\n",
       "      <th>class</th>\n",
       "    </tr>\n",
       "  </thead>\n",
       "  <tbody>\n",
       "    <tr>\n",
       "      <th>42</th>\n",
       "      <td>Scrypt</td>\n",
       "      <td>PoW/PoS</td>\n",
       "      <td>42</td>\n",
       "      <td>42</td>\n",
       "      <td>42 Coin</td>\n",
       "      <td>-0.352753</td>\n",
       "      <td>0.753911</td>\n",
       "      <td>-0.388786</td>\n",
       "      <td>0</td>\n",
       "    </tr>\n",
       "    <tr>\n",
       "      <th>404</th>\n",
       "      <td>Scrypt</td>\n",
       "      <td>PoW/PoS</td>\n",
       "      <td>1.1994e+06</td>\n",
       "      <td>532000000</td>\n",
       "      <td>404Coin</td>\n",
       "      <td>-0.348866</td>\n",
       "      <td>0.753763</td>\n",
       "      <td>-0.388837</td>\n",
       "      <td>0</td>\n",
       "    </tr>\n",
       "    <tr>\n",
       "      <th>1337</th>\n",
       "      <td>X13</td>\n",
       "      <td>PoW/PoS</td>\n",
       "      <td>2.94803e+10</td>\n",
       "      <td>314159265359</td>\n",
       "      <td>EliteCoin</td>\n",
       "      <td>2.342678</td>\n",
       "      <td>1.445835</td>\n",
       "      <td>-0.477154</td>\n",
       "      <td>0</td>\n",
       "    </tr>\n",
       "    <tr>\n",
       "      <th>BTCD</th>\n",
       "      <td>SHA-256</td>\n",
       "      <td>PoW/PoS</td>\n",
       "      <td>1288862</td>\n",
       "      <td>22000000</td>\n",
       "      <td>BitcoinDark</td>\n",
       "      <td>-0.341285</td>\n",
       "      <td>0.738660</td>\n",
       "      <td>-0.252875</td>\n",
       "      <td>0</td>\n",
       "    </tr>\n",
       "    <tr>\n",
       "      <th>XPY</th>\n",
       "      <td>SHA-256</td>\n",
       "      <td>PoS</td>\n",
       "      <td>1.19953e+07</td>\n",
       "      <td>12500000</td>\n",
       "      <td>PayCoin</td>\n",
       "      <td>-0.299597</td>\n",
       "      <td>0.447210</td>\n",
       "      <td>-0.029130</td>\n",
       "      <td>0</td>\n",
       "    </tr>\n",
       "  </tbody>\n",
       "</table>\n",
       "</div>"
      ],
      "text/plain": [
       "     Algorithm ProofType TotalCoinsMined TotalCoinSupply     CoinName  \\\n",
       "42      Scrypt   PoW/PoS              42              42      42 Coin   \n",
       "404     Scrypt   PoW/PoS      1.1994e+06       532000000      404Coin   \n",
       "1337       X13   PoW/PoS     2.94803e+10    314159265359    EliteCoin   \n",
       "BTCD   SHA-256   PoW/PoS         1288862        22000000  BitcoinDark   \n",
       "XPY    SHA-256       PoS     1.19953e+07        12500000      PayCoin   \n",
       "\n",
       "          PC 1      PC 2      PC 3  class  \n",
       "42   -0.352753  0.753911 -0.388786      0  \n",
       "404  -0.348866  0.753763 -0.388837      0  \n",
       "1337  2.342678  1.445835 -0.477154      0  \n",
       "BTCD -0.341285  0.738660 -0.252875      0  \n",
       "XPY  -0.299597  0.447210 -0.029130      0  "
      ]
     },
     "execution_count": 82,
     "metadata": {},
     "output_type": "execute_result"
    }
   ],
   "source": [
    "# Initialize the K-Means model\n",
    "model = KMeans(n_clusters=4, random_state=0)\n",
    "\n",
    "# Fit the model\n",
    "model.fit(pca_df)\n",
    "\n",
    "# Predict clusters\n",
    "predictions = model.predict(pca_df)\n",
    "pca_df['class'] = model.labels_\n",
    "\n",
    "# Create a new DataFrame including predicted clusters and cryptocurrencies features\n",
    "clustered_df = pd.concat([crypto_df, CoinName_df, pca_df], axis=1)\n",
    "clustered_df.head()"
   ]
  },
  {
   "cell_type": "markdown",
   "metadata": {},
   "source": [
    "### Visualizing Results\n",
    "\n",
    "#### 3D-Scatter with Clusters"
   ]
  },
  {
   "cell_type": "code",
   "execution_count": 101,
   "metadata": {},
   "outputs": [
    {
     "data": {
      "application/vnd.plotly.v1+json": {
       "config": {
        "plotlyServerURL": "https://plot.ly"
       },
       "data": [
        {
         "customdata": [
          [
           "Scrypt"
          ],
          [
           "Scrypt"
          ],
          [
           "X13"
          ],
          [
           "SHA-256"
          ],
          [
           "SHA-256"
          ],
          [
           "Scrypt"
          ],
          [
           "X15"
          ],
          [
           "Scrypt"
          ],
          [
           "Scrypt"
          ],
          [
           "Multiple"
          ],
          [
           "Scrypt"
          ],
          [
           "SHA-256"
          ],
          [
           "Scrypt"
          ],
          [
           "Scrypt"
          ],
          [
           "Scrypt"
          ],
          [
           "Quark"
          ],
          [
           "Groestl"
          ],
          [
           "Scrypt"
          ],
          [
           "Scrypt"
          ],
          [
           "Scrypt"
          ],
          [
           "Scrypt"
          ],
          [
           "Scrypt"
          ],
          [
           "X11"
          ],
          [
           "Groestl"
          ],
          [
           "SHA-256"
          ],
          [
           "Scrypt"
          ],
          [
           "Scrypt"
          ],
          [
           "Scrypt"
          ],
          [
           "PoS"
          ],
          [
           "Scrypt"
          ],
          [
           "Scrypt"
          ],
          [
           "Scrypt"
          ],
          [
           "Scrypt"
          ],
          [
           "Scrypt"
          ],
          [
           "Scrypt"
          ],
          [
           "X11"
          ],
          [
           "Scrypt"
          ],
          [
           "SHA-256"
          ],
          [
           "Scrypt"
          ],
          [
           "Scrypt"
          ],
          [
           "Scrypt"
          ],
          [
           "SHA3"
          ],
          [
           "HybridScryptHash256"
          ],
          [
           "Scrypt"
          ],
          [
           "SHA-256"
          ],
          [
           "Scrypt"
          ],
          [
           "Scrypt"
          ],
          [
           "Scrypt"
          ],
          [
           "NeoScrypt"
          ],
          [
           "Scrypt"
          ],
          [
           "Scrypt"
          ],
          [
           "Scrypt"
          ],
          [
           "Scrypt"
          ],
          [
           "X11"
          ],
          [
           "X11"
          ],
          [
           "Multiple"
          ],
          [
           "SHA-256"
          ],
          [
           "X11"
          ],
          [
           "SHA-256"
          ],
          [
           "SHA-256"
          ],
          [
           "SHA-256"
          ],
          [
           "X11"
          ],
          [
           "Scrypt"
          ],
          [
           "Scrypt"
          ],
          [
           "Scrypt"
          ],
          [
           "Scrypt"
          ],
          [
           "X11"
          ],
          [
           "Multiple"
          ],
          [
           "SHA-256"
          ],
          [
           "X13"
          ],
          [
           "Scrypt"
          ],
          [
           "Counterparty"
          ],
          [
           "Scrypt"
          ],
          [
           "SHA-256"
          ],
          [
           "Scrypt"
          ],
          [
           "Scrypt"
          ],
          [
           "X13"
          ],
          [
           "Scrypt"
          ],
          [
           "Scrypt"
          ],
          [
           "Scrypt"
          ],
          [
           "Scrypt"
          ],
          [
           "X13"
          ],
          [
           "Multiple"
          ],
          [
           "Scrypt"
          ],
          [
           "Scrypt"
          ],
          [
           "X13"
          ],
          [
           "Stanford Folding"
          ],
          [
           "Scrypt"
          ],
          [
           "X11"
          ],
          [
           "X11"
          ],
          [
           "Multiple"
          ],
          [
           "QuBit"
          ],
          [
           "NeoScrypt"
          ],
          [
           "Scrypt"
          ],
          [
           "NeoScrypt"
          ],
          [
           "Blake"
          ],
          [
           "Scrypt"
          ],
          [
           "Scrypt"
          ],
          [
           "SHA-256"
          ],
          [
           "Scrypt"
          ],
          [
           "Scrypt"
          ],
          [
           "X11"
          ],
          [
           "Scrypt"
          ],
          [
           "M7 POW"
          ],
          [
           "Scrypt"
          ],
          [
           "Scrypt"
          ],
          [
           "SHA-256"
          ],
          [
           "Scrypt"
          ],
          [
           "X11"
          ],
          [
           "Scrypt"
          ],
          [
           "Scrypt"
          ],
          [
           "X11"
          ],
          [
           "Lyra2RE"
          ],
          [
           "SHA-256"
          ],
          [
           "QUAIT"
          ],
          [
           "X11"
          ],
          [
           "SHA-256"
          ],
          [
           "X11"
          ],
          [
           "X11"
          ],
          [
           "Scrypt"
          ],
          [
           "Scrypt"
          ],
          [
           "Scrypt"
          ],
          [
           "Scrypt"
          ],
          [
           "Scrypt"
          ],
          [
           "X13"
          ],
          [
           "X11"
          ],
          [
           "Scrypt"
          ],
          [
           "PoS"
          ],
          [
           "X15"
          ],
          [
           "X11"
          ],
          [
           "SHA-256"
          ],
          [
           "Scrypt"
          ],
          [
           "X11"
          ],
          [
           "SHA-256"
          ],
          [
           "Scrypt"
          ],
          [
           "1GB AES Pattern Search"
          ],
          [
           "SHA-256"
          ],
          [
           "X11"
          ],
          [
           "SHA-256"
          ],
          [
           "Scrypt"
          ],
          [
           "SHA-256"
          ],
          [
           "NIST5"
          ],
          [
           "Scrypt"
          ],
          [
           "X11"
          ],
          [
           "Scrypt"
          ],
          [
           "Dagger"
          ],
          [
           "Scrypt"
          ],
          [
           "X11"
          ],
          [
           "Scrypt"
          ],
          [
           "SHA-256"
          ],
          [
           "PoS"
          ],
          [
           "Scrypt"
          ],
          [
           "X11"
          ],
          [
           "X11"
          ],
          [
           "SHA-256"
          ],
          [
           "POS 3.0"
          ],
          [
           "Scrypt"
          ],
          [
           "Scrypt"
          ],
          [
           "X11"
          ],
          [
           "X11"
          ],
          [
           "Scrypt"
          ],
          [
           "CryptoNight"
          ],
          [
           "SHA-256"
          ],
          [
           "SHA-256"
          ],
          [
           "X11"
          ],
          [
           "Scrypt"
          ],
          [
           "Multiple"
          ],
          [
           "Scrypt"
          ],
          [
           "Scrypt"
          ],
          [
           "Scrypt"
          ],
          [
           "SHA-256"
          ],
          [
           "Scrypt"
          ],
          [
           "Scrypt"
          ],
          [
           "SHA-256D"
          ],
          [
           "PoS"
          ],
          [
           "Scrypt"
          ],
          [
           "X11"
          ],
          [
           "PoS"
          ],
          [
           "X13"
          ],
          [
           "X14"
          ],
          [
           "PoS"
          ],
          [
           "Ethash"
          ],
          [
           "Equihash"
          ],
          [
           "X11"
          ],
          [
           "Scrypt"
          ],
          [
           "X11"
          ],
          [
           "X13"
          ],
          [
           "X11"
          ],
          [
           "PoS"
          ],
          [
           "Scrypt"
          ],
          [
           "Scrypt"
          ],
          [
           "X11"
          ],
          [
           "PoS"
          ],
          [
           "X11"
          ],
          [
           "SHA-256"
          ],
          [
           "Scrypt"
          ],
          [
           "X11"
          ],
          [
           "Scrypt"
          ],
          [
           "Scrypt"
          ],
          [
           "X11"
          ],
          [
           "CryptoNight"
          ],
          [
           "Scrypt"
          ],
          [
           "Scrypt"
          ],
          [
           "Scrypt"
          ],
          [
           "Scrypt"
          ],
          [
           "QuBit"
          ],
          [
           "Scrypt"
          ],
          [
           "CryptoNight"
          ],
          [
           "Lyra2RE"
          ],
          [
           "Scrypt"
          ],
          [
           "SHA-256"
          ],
          [
           "X11"
          ],
          [
           "Scrypt"
          ],
          [
           "Scrypt"
          ],
          [
           "CryptoNight-V7"
          ],
          [
           "Scrypt"
          ],
          [
           "Scrypt"
          ],
          [
           "Scrypt"
          ],
          [
           "X13"
          ],
          [
           "X11"
          ],
          [
           "Equihash"
          ],
          [
           "Scrypt"
          ],
          [
           "Scrypt"
          ],
          [
           "Lyra2RE"
          ],
          [
           "Scrypt"
          ],
          [
           "Dagger-Hashimoto"
          ],
          [
           "X11"
          ],
          [
           "Blake2S"
          ],
          [
           "X11"
          ],
          [
           "Scrypt"
          ],
          [
           "PoS"
          ],
          [
           "X11"
          ],
          [
           "NIST5"
          ],
          [
           "PoS"
          ],
          [
           "X11"
          ],
          [
           "Scrypt"
          ],
          [
           "Scrypt"
          ],
          [
           "Scrypt"
          ],
          [
           "SHA-256"
          ],
          [
           "X11"
          ],
          [
           "Scrypt"
          ],
          [
           "Scrypt"
          ],
          [
           "Scrypt"
          ],
          [
           "SHA-256"
          ],
          [
           "PoS"
          ],
          [
           "Scrypt"
          ],
          [
           "X15"
          ],
          [
           "SHA-256"
          ],
          [
           "Scrypt"
          ],
          [
           "X11"
          ],
          [
           "536"
          ],
          [
           "Argon2d"
          ],
          [
           "Cloverhash"
          ],
          [
           "CryptoNight"
          ],
          [
           "X11"
          ],
          [
           "NIST5"
          ],
          [
           "Skein"
          ],
          [
           "Scrypt"
          ],
          [
           "X13"
          ],
          [
           "Scrypt"
          ],
          [
           "X11"
          ],
          [
           "X11"
          ],
          [
           "Scrypt"
          ],
          [
           "Ethash"
          ],
          [
           "CryptoNight"
          ],
          [
           "X13"
          ],
          [
           "Time Travel"
          ],
          [
           "Scrypt"
          ],
          [
           "SkunkHash v2 Raptor"
          ],
          [
           "X11"
          ],
          [
           "Skein"
          ],
          [
           "X11"
          ],
          [
           "Scrypt"
          ],
          [
           "Scrypt"
          ],
          [
           "DPoS"
          ],
          [
           "Scrypt"
          ],
          [
           "Scrypt"
          ],
          [
           "Scrypt"
          ],
          [
           "X11"
          ],
          [
           "Equihash"
          ],
          [
           "NeoScrypt"
          ],
          [
           "X11"
          ],
          [
           "Scrypt"
          ],
          [
           "NeoScrypt"
          ],
          [
           "Lyra2REv2"
          ],
          [
           "NIST5"
          ],
          [
           "PHI1612"
          ],
          [
           "Quark"
          ],
          [
           "Scrypt"
          ],
          [
           "NeoScrypt"
          ],
          [
           "SHA-256"
          ],
          [
           "X11"
          ],
          [
           "DPoS"
          ],
          [
           "Multiple"
          ],
          [
           "Scrypt"
          ],
          [
           "CryptoNight"
          ],
          [
           "SHA-256"
          ],
          [
           "NIST5"
          ],
          [
           "Quark"
          ],
          [
           "X11"
          ],
          [
           "CryptoNight-V7"
          ],
          [
           "Scrypt"
          ],
          [
           "Scrypt"
          ],
          [
           "Scrypt"
          ],
          [
           "BLAKE256"
          ],
          [
           "X11"
          ],
          [
           "NeoScrypt"
          ],
          [
           "Quark"
          ],
          [
           "NeoScrypt"
          ],
          [
           "Scrypt"
          ],
          [
           "Scrypt"
          ],
          [
           "Scrypt"
          ],
          [
           "X11"
          ],
          [
           "SHA-256"
          ],
          [
           "C11"
          ],
          [
           "POS 3.0"
          ],
          [
           "Ethash"
          ],
          [
           "CryptoNight"
          ],
          [
           "SkunkHash"
          ],
          [
           "Scrypt"
          ],
          [
           "Lyra2REv2"
          ],
          [
           "X13"
          ],
          [
           "Proof-of-BibleHash"
          ],
          [
           "SHA-256 + Hive"
          ],
          [
           "Scrypt"
          ],
          [
           "DPoS"
          ],
          [
           "Scrypt"
          ],
          [
           "X11"
          ],
          [
           "C11"
          ],
          [
           "X11"
          ],
          [
           "XEVAN"
          ],
          [
           "Scrypt"
          ],
          [
           "Ethash"
          ],
          [
           "CryptoNight"
          ],
          [
           "Scrypt"
          ],
          [
           "IMesh"
          ],
          [
           "NIST5"
          ],
          [
           "Scrypt"
          ],
          [
           "Scrypt"
          ],
          [
           "Scrypt"
          ],
          [
           "Lyra2Z"
          ],
          [
           "Scrypt"
          ],
          [
           "X11"
          ],
          [
           "CryptoNight"
          ],
          [
           "X16R"
          ],
          [
           "Scrypt"
          ],
          [
           "NIST5"
          ],
          [
           "XEVAN"
          ],
          [
           "Scrypt"
          ],
          [
           "CryptoNight"
          ],
          [
           "CryptoNight"
          ],
          [
           "SHA-256D"
          ],
          [
           "CryptoNight"
          ],
          [
           "Scrypt"
          ],
          [
           "X15"
          ],
          [
           "SHA-256"
          ],
          [
           "X16R"
          ],
          [
           "HMQ1725"
          ],
          [
           "X11"
          ],
          [
           "Quark"
          ],
          [
           "Scrypt"
          ],
          [
           "CryptoNight-V7"
          ],
          [
           "XEVAN"
          ],
          [
           "CryptoNight Heavy"
          ],
          [
           "PoS"
          ],
          [
           "SHA-256"
          ],
          [
           "X16R"
          ],
          [
           "Equihash"
          ],
          [
           "XEVAN"
          ],
          [
           "SHA-256"
          ],
          [
           "XEVAN"
          ],
          [
           "SHA3-256"
          ],
          [
           "X11"
          ],
          [
           "CryptoNight"
          ],
          [
           "Quark"
          ],
          [
           "Blake"
          ],
          [
           "Blake"
          ],
          [
           "Equihash"
          ],
          [
           "Exosis"
          ],
          [
           "Scrypt"
          ],
          [
           "Equihash"
          ],
          [
           "TRC10"
          ],
          [
           "Quark"
          ],
          [
           "Equihash"
          ],
          [
           "Quark"
          ],
          [
           "Scrypt"
          ],
          [
           "Lyra2REv2"
          ],
          [
           "QuBit"
          ],
          [
           "Equihash+Scrypt"
          ],
          [
           "Scrypt"
          ],
          [
           "PHI2"
          ],
          [
           "XEVAN"
          ],
          [
           "SHA-256D"
          ],
          [
           "SHA-256"
          ],
          [
           "X13"
          ],
          [
           "CryptoNight"
          ],
          [
           "Quark"
          ],
          [
           "Cryptonight Haven"
          ],
          [
           "Quark"
          ],
          [
           "Quark"
          ],
          [
           "Scrypt"
          ],
          [
           "Multiple"
          ],
          [
           "Scrypt"
          ],
          [
           "VeChainThor Authority"
          ],
          [
           "X11"
          ],
          [
           "X13"
          ],
          [
           "PoS"
          ],
          [
           "Scrypt"
          ],
          [
           "Scrypt"
          ],
          [
           "X11"
          ],
          [
           "CryptoNight"
          ],
          [
           "Scrypt"
          ],
          [
           "SHA-512"
          ],
          [
           "Scrypt"
          ],
          [
           "Scrypt"
          ],
          [
           "SHA-256"
          ],
          [
           "Dagger"
          ],
          [
           "Scrypt"
          ],
          [
           "NIST5"
          ],
          [
           "Ethash"
          ],
          [
           "Scrypt"
          ],
          [
           "Semux BFT consensus"
          ],
          [
           "SHA-256"
          ],
          [
           "NIST5"
          ],
          [
           "PoS"
          ],
          [
           "X11"
          ],
          [
           "Scrypt"
          ],
          [
           "Quark"
          ],
          [
           "PoS"
          ],
          [
           "CryptoNight"
          ],
          [
           "Ethash"
          ],
          [
           "X11"
          ],
          [
           "ProgPowZ"
          ],
          [
           "Quark"
          ],
          [
           "Scrypt"
          ],
          [
           "SHA-256"
          ],
          [
           "Tribus"
          ],
          [
           "Quark"
          ],
          [
           "Scrypt"
          ],
          [
           "SkunkHash v2 Raptor"
          ],
          [
           "Quark"
          ],
          [
           "X11"
          ],
          [
           "X13"
          ],
          [
           "Equihash"
          ],
          [
           "SHA-256"
          ],
          [
           "CryptoNight-Heavy"
          ],
          [
           "X11"
          ],
          [
           "Scrypt"
          ],
          [
           "Jump Consistent Hash"
          ],
          [
           "Scrypt"
          ],
          [
           "Quark"
          ],
          [
           "DPoS"
          ],
          [
           "X16R"
          ],
          [
           "Quark"
          ],
          [
           "Lyra2REv2"
          ],
          [
           "Quark"
          ],
          [
           "Cryptonight-GPU"
          ],
          [
           "X11"
          ],
          [
           "Scrypt"
          ],
          [
           "X11"
          ],
          [
           "Scrypt"
          ],
          [
           "PoS"
          ],
          [
           "X11"
          ],
          [
           "Quark"
          ],
          [
           "SHA-256D"
          ],
          [
           "RandomX"
          ],
          [
           "DPoS"
          ],
          [
           "Equihash"
          ],
          [
           "Scrypt"
          ],
          [
           "Eaglesong"
          ],
          [
           "SHA-512"
          ],
          [
           "ECC 256K1"
          ],
          [
           "X11"
          ],
          [
           "X11"
          ],
          [
           "C31"
          ],
          [
           "DPoS"
          ],
          [
           "HEX"
          ],
          [
           "Dagger"
          ],
          [
           "Groestl"
          ],
          [
           "SHA-256"
          ],
          [
           "Ed25519"
          ],
          [
           "Green Protocol"
          ],
          [
           "Scrypt"
          ],
          [
           "Scrypt"
          ],
          [
           "SHA-256"
          ],
          [
           "NeoScrypt"
          ],
          [
           "X13"
          ],
          [
           "CryptoNight-V7"
          ],
          [
           "Scrypt"
          ],
          [
           "Equihash"
          ],
          [
           "BMW512 / Echo512"
          ],
          [
           "Scrypt"
          ],
          [
           "PoS"
          ],
          [
           "Equihash210,9"
          ],
          [
           "VeChainThor Authority"
          ],
          [
           "Scrypt"
          ],
          [
           "BLAKE256"
          ],
          [
           "SHA-512"
          ],
          [
           "DPoS"
          ],
          [
           "Dagger"
          ],
          [
           "SHA-256"
          ],
          [
           "Ethash"
          ],
          [
           "Scrypt"
          ],
          [
           "Scrypt"
          ],
          [
           "X13"
          ],
          [
           "SHA-256"
          ],
          [
           "Scrypt"
          ],
          [
           "Scrypt"
          ],
          [
           "X11GOST"
          ],
          [
           "Groestl"
          ],
          [
           "Scrypt"
          ],
          [
           "SHA-256"
          ],
          [
           "X11"
          ],
          [
           "Keccak"
          ],
          [
           "Lyra2Z"
          ],
          [
           "Multiple"
          ],
          [
           "CryptoNight"
          ],
          [
           "Shabal256"
          ],
          [
           "Blake2b"
          ],
          [
           "Proof-of-Authority"
          ],
          [
           "Equihash"
          ],
          [
           "SHA-256"
          ],
          [
           "X13"
          ],
          [
           "SHA3"
          ],
          [
           "Multiple"
          ],
          [
           "POS 3.0"
          ],
          [
           "Equihash"
          ],
          [
           "Lyra2REv2"
          ],
          [
           "Blake2b"
          ],
          [
           "VBFT"
          ],
          [
           "DPoS"
          ],
          [
           "X11"
          ],
          [
           "Ethash"
          ],
          [
           "DPoS"
          ],
          [
           "Equihash"
          ],
          [
           "PoS"
          ],
          [
           "SHA-256"
          ],
          [
           "Ethash"
          ],
          [
           "Leased POS"
          ],
          [
           "Ouroboros"
          ],
          [
           "Loopchain"
          ]
         ],
         "hovertemplate": "<b>%{hovertext}</b><br><br>PC 3=%{x}<br>PC 2=%{y}<br>PC 1=%{z}<br>Algorithm=%{customdata[0]}<br>class=%{marker.color}<extra></extra>",
         "hovertext": [
          "42 Coin",
          "404Coin",
          "EliteCoin",
          "BitcoinDark",
          "PayCoin",
          "ProsperCoin",
          "KoboCoin",
          "Argentum",
          "BlueCoin",
          "MyriadCoin",
          "MoonCoin",
          "ZetaCoin",
          "SexCoin",
          "Quatloo",
          "EnergyCoin",
          "QuarkCoin",
          "Riecoin",
          "Digitalcoin ",
          "BitBar",
          "Catcoin",
          "CryptoBullion",
          "CannaCoin",
          "CryptCoin",
          "Diamond",
          "DevCoin",
          "EarthCoin",
          "E-Gulden",
          "Emerald",
          "Exclusive Coin",
          "FlutterCoin",
          "Franko",
          "GrandCoin",
          "GlobalCoin",
          "GoldCoin",
          "HoboNickels",
          "HyperStake",
          "Infinite Coin",
          "IXcoin",
          "KrugerCoin",
          "LuckyCoin",
          "Litebar ",
          "MaxCoin",
          "MediterraneanCoin",
          "MintCoin",
          "MazaCoin",
          "Nautilus Coin",
          "NobleCoin",
          "NyanCoin",
          "Orbitcoin",
          "PhoenixCoin",
          "RonPaulCoin",
          "StableCoin",
          "SmartCoin",
          "SuperCoin",
          "SyncCoin",
          "TeslaCoin",
          "TigerCoin",
          "TorCoin",
          "TerraCoin",
          "UnbreakableCoin",
          "Unobtanium",
          "UroCoin",
          "UnitaryStatus Dollar",
          "UltraCoin",
          "VeriCoin",
          "WorldCoin",
          "X11 Coin",
          "Crypti",
          "JouleCoin",
          "StealthCoin",
          "ZCC Coin",
          "StorjCoin",
          "MonaCoin",
          "Neutron",
          "RubyCoin",
          "PesetaCoin",
          "Kore",
          "Wild Beast Coin",
          "Dnotes",
          "Flo",
          "8BIT Coin",
          "Sativa Coin",
          "JoinCoin",
          "ArtByte",
          "LiteDoge",
          "Triangles Coin",
          "Folding Coin",
          "SolarCoin",
          "TruckCoin",
          "Ucoin",
          "Unitus",
          "CypherPunkCoin",
          "UFO Coin",
          "OrangeCoin",
          "FriendshipCoin",
          "BlakeCoin",
          "OmniCron",
          "BitstarCoin",
          "NeosCoin",
          "HyperCoin",
          "Vtorrent",
          "PinkCoin",
          "GreenCoin",
          "Cryptonite",
          "BitcoinPlus",
          "MasterCoin",
          "SoonCoin",
          "1Credit",
          "IslaCoin",
          "Crypto Escudo",
          "AudioCoin",
          "MarsCoin ",
          "Crypto",
          "Anarchists Prime",
          "Droidz",
          "BowsCoin",
          "IncaKoin",
          "Squall Coin",
          "Piggy Coin",
          "Song Coin",
          "SmileyCoin",
          "BitZeny",
          "Diggits",
          "XiaoMiCoin",
          "Paycon",
          "CapriCoin",
          " ClubCoin",
          "Radium",
          "EverGreenCoin",
          "MindCoin",
          "I0coin",
          "Pakcoin",
          "Creditbit ",
          "OKCash",
          "Revolution VR",
          "HOdlcoin",
          "EDRCoin",
          "Hitcoin",
          "DubaiCoin",
          "HiCoin",
          "CarpeDiemCoin",
          "PWR Coin",
          "BillaryCoin",
          "Influxcoin",
          "Gapcoin",
          "SoilCoin",
          "YoCoin",
          "EuropeCoin",
          "ZeitCoin",
          "SwingCoin",
          "Nebuchadnezzar",
          "Francs",
          "BolivarCoin",
          "Ratecoin",
          "Clockcoin",
          "Let it Ride",
          "iBankCoin",
          "Frankywillcoin",
          "Lutetium Coin",
          "GoldBlocks",
          "CarterCoin",
          "Karbo",
          "BitTokens",
          "ZayedCoin",
          "MustangCoin",
          "ZoneCoin",
          "Circuits of Value",
          "RootCoin",
          "DopeCoin",
          "BitCurrency",
          "DollarCoin",
          "Swiscoin",
          "Shilling",
          "BuzzCoin",
          "Opair",
          "PesoBit",
          "Halloween Coin",
          "CoffeeCoin",
          "RoyalCoin",
          "GanjaCoin V2",
          "TeamUP",
          "Elementrem",
          "ZClassic",
          "InsaneCoin",
          "KiloCoin",
          "ArtexCoin",
          "EmberCoin",
          "XenixCoin",
          "FreeCoin",
          "PLNCoin",
          "AquariusCoin",
          "Kurrent",
          "Creatio",
          "Eternity",
          "Eurocoin",
          "BitcoinFast",
          "Stakenet",
          "BitConnect Coin",
          "MoneyCoin",
          "Enigma",
          "Cannabis Industry Coin",
          "Russiacoin",
          "PandaCoin",
          "GameUnits",
          "GAKHcoin",
          "LiteCreed",
          "OsmiumCoin",
          "Bikercoins",
          "HexxCoin",
          "Klingon Empire Darsek",
          "Internet of People",
          "KushCoin",
          "Printerium",
          "Impeach",
          "Citadel",
          "Zilbercoin",
          "FirstCoin",
          "BeaverCoin",
          "FindCoin",
          "VaultCoin",
          "Zero",
          "OpenChat",
          "Canada eCoin",
          "Zoin",
          "RenosCoin",
          "DubaiCoin",
          "VirtacoinPlus",
          "TajCoin",
          "Impact",
          "EB3coin",
          "Atmos",
          "HappyCoin",
          "Coinonat",
          "MacronCoin",
          "Condensate",
          "Independent Money System",
          "ArgusCoin",
          "LomoCoin",
          "ProCurrency",
          "GoldReserve",
          "BenjiRolls",
          "ParallelCoin",
          "GrowthCoin",
          "ILCoin",
          "Phreak",
          "Degas Coin",
          "HTML5 Coin",
          "Ultimate Secure Cash",
          "EquiTrader",
          "Insane Coin",
          "Espers",
          "Dynamic",
          "ChanCoin",
          "Dinastycoin",
          "DigitalPrice",
          "Virta Unique Coin",
          "Bitcoin Planet",
          "Unify",
          "BritCoin",
          "SocialCoin",
          "ArcticCoin",
          "DAS",
          "Metrix",
          "Reality Clash",
          "LeviarCoin",
          "DeepOnion",
          "Bitcore",
          "gCn Coin",
          "Signatum",
          "Onix",
          "Cream",
          "Monoeci",
          "Draftcoin",
          "Sojourn Coin",
          "Oxycoin",
          "Kronecoin",
          "AdCoin",
          "Ethereum Dark",
          "Regalcoin",
          "BitcoinZ",
          "TrezarCoin",
          "Elements",
          "TerraNovaCoin",
          "VIVO Coin",
          "Rupee",
          "NamoCoin",
          "LUXCoin",
          "Bitcloud 2.0",
          "BlackholeCoin",
          "Innova",
          "Zeph",
          "Magnet",
          "Lamden Tau",
          "SHIELD",
          "Cash & Back Coin",
          "UltraNote",
          "GlobalToken",
          "Bulwark",
          "Kalkulus",
          "AC3",
          "Lethean",
          "GermanCoin",
          "LiteCoin Ultra",
          "PopularCoin",
          "Photon",
          "Sucre",
          "SparksPay",
          "Digiwage",
          "GunCoin",
          "IrishCoin",
          "Trollcoin",
          "Litecoin Plus",
          "Pioneer Coin",
          "UnitedBitcoin",
          "Interzone",
          "TokenPay",
          "1717 Masonic Commemorative Token",
          "TurtleCoin",
          "MUNcoin",
          "ShareChain",
          "KREDS",
          "Tokyo Coin",
          "BiblePay",
          "LitecoinCash",
          "BitFlip",
          "ALAX",
          "LottoCoin",
          "Crypto Improvement Fund",
          "Stipend",
          "Pushi",
          "Ellerium",
          "Velox",
          "Callisto Network",
          "BitTube",
          "Poseidon",
          "Aidos Kuneen",
          "Bitspace",
          "Briacoin",
          "Ignition",
          "MedicCoin",
          "Alpenschillling",
          "Abjcoin",
          "FuturoCoin",
          "Monero Classic",
          "Proton",
          "iDealCash",
          "Jumpcoin",
          "Bitcoin Incognito",
          "HollyWoodCoin",
          "PlatinCoin",
          "Newton Coin",
          "TheVig",
          "PluraCoin",
          "EmaratCoin",
          "Dekado",
          "BitcoinWSpectrum",
          "Motion",
          "PlusOneCoin",
          "Axe",
          "Dystem",
          "TPCash",
          "Webchain",
          "Urals Coin",
          "Qwertycoin",
          "Ketan",
          "Project Pai",
          "Xchange",
          "CrypticCoin",
          "Bettex coin",
          "TigerCash",
          "BitMoney",
          "Fiii",
          "Junson Ming Chan Coin",
          "FREDEnergy",
          "Zenad",
          "Universal Molecule",
          "Lithium",
          "PirateCash",
          "Exosis",
          "Oduwa",
          "Beam",
          "BitTorrent",
          "Galilel",
          "Bithereum",
          "Crypto Sports",
          "Credit",
          "Scribe Network",
          "SLICE",
          "Vollar",
          "Nasdacoin",
          "Gexan",
          "Beetle Coin",
          "Titan Coin",
          "BLAST",
          "Bitcoin Rhodium",
          "Beldex",
          "STREAMIT COIN",
          "BLOC.MONEY",
          "Lobstex",
          "Bitcoin Turbo Koin",
          "Unified Society USDEX",
          "Crown Coin",
          "Genstake",
          "VeChain Old",
          "PizzaCoin",
          "MudraCoin",
          "Stakecoin",
          "FrazCoin",
          "Linx",
          "CoinonatX",
          "Sumokoin",
          "Omni",
          "Obsidian",
          "ATC Coin",
          "WomenCoin",
          "Theresa May Coin",
          "Pirl",
          "Xios",
          "VIP Tokens",
          "Ellaism",
          "SafeExchangeCoin",
          "Semux",
          "Kahsh",
          "Electra",
          "Particl",
          "Adzcoin",
          "GPU Coin",
          "Carebit",
          "Zealium",
          "BitCoal",
          "DaxxCoin",
          "Monkey Project",
          "Zano",
          "PEPS Coin",
          "Neetcoin",
          "Next.exchange Token",
          "KEYCO",
          "ZCore",
          "Always Evolving",
          "Dextro",
          "GOSSIP-Coin",
          "PENG",
          "X42 Protocol",
          "Bitrolium",
          "Wincash Coin",
          "Loki",
          "Reliance",
          "Xt3ch",
          "MassGrid",
          "Lynx",
          "Poseidon Quark",
          "Muse",
          "Trivechain",
          "Giant",
          "Absolute Coin",
          "Vitae",
          "Ryo",
          "EUNO",
          "MMOCoin",
          "PAC Global",
          "Graviocoin",
          "Deviant Coin",
          "PAXEX",
          "HerbCoin",
          "LanaCoin",
          "Quantum Resistant Ledger",
          "Golos",
          "Pirate Chain",
          "NewYorkCoin",
          "Nervos Network",
          "Kcash",
          "Acute Angle Cloud",
          "Rhypton Club",
          "Pura",
          "MimbleWimbleCoin",
          "ADAMANT Messenger",
          "XDNA",
          "DAPS Coin",
          "FairCoin",
          "Emercoin",
          "DDKoin",
          "BitGreen",
          "MegaCoin",
          "SoulCoin",
          "Infinity Economics",
          "FeatherCoin",
          "CloakCoin",
          "Monero",
          "Gulden",
          "Bitcoin Gold",
          "DigitalNote ",
          "WhiteCoin",
          "Nxt",
          "Aion",
          "VeChain",
          "Litecoin",
          "Decred",
          "Bitshares",
          "EOS",
          "Ambrosus",
          "Bitcoin SV",
          "Expanse",
          "PotCoin",
          "Aurora Coin",
          "Bitcoin Diamond",
          "Namecoin",
          "Einsteinium",
          "Reddcoin",
          "SibCoin",
          "Groestlcoin",
          "ViaCoin",
          "SysCoin",
          "IOCoin",
          "SmartCash",
          "Zcoin",
          "Verge",
          "ByteCoin",
          "BurstCoin",
          "Siacoin",
          "Poa Network",
          "Horizen",
          "Bitcoin Cash",
          "NavCoin",
          "Nexus",
          "DigiByte",
          "QTUM",
          "ZCash",
          "Vertcoin",
          "Nano",
          "Ontology",
          "Lisk",
          "Dash",
          "Ethereum Classic",
          "ARK",
          "Komodo",
          "Steem",
          "Bitcoin",
          "Ethereum",
          "Waves",
          "Cardano",
          "ICON Project"
         ],
         "legendgroup": "",
         "marker": {
          "color": [
           0,
           0,
           0,
           0,
           0,
           1,
           0,
           1,
           0,
           1,
           1,
           1,
           1,
           1,
           0,
           1,
           1,
           1,
           0,
           1,
           0,
           1,
           1,
           0,
           1,
           1,
           1,
           1,
           0,
           0,
           1,
           1,
           1,
           1,
           0,
           0,
           1,
           1,
           1,
           1,
           1,
           0,
           1,
           0,
           0,
           0,
           1,
           1,
           0,
           0,
           1,
           1,
           1,
           0,
           0,
           0,
           1,
           0,
           1,
           1,
           1,
           1,
           0,
           0,
           0,
           1,
           0,
           0,
           1,
           0,
           0,
           0,
           1,
           0,
           0,
           1,
           0,
           1,
           0,
           1,
           0,
           0,
           1,
           1,
           0,
           0,
           1,
           1,
           0,
           0,
           1,
           1,
           1,
           0,
           0,
           1,
           1,
           0,
           0,
           0,
           0,
           0,
           1,
           1,
           0,
           1,
           1,
           1,
           0,
           1,
           0,
           1,
           1,
           1,
           0,
           1,
           0,
           0,
           0,
           1,
           1,
           1,
           0,
           0,
           0,
           0,
           0,
           0,
           0,
           1,
           1,
           1,
           0,
           0,
           1,
           1,
           0,
           0,
           0,
           0,
           1,
           0,
           0,
           0,
           0,
           1,
           1,
           0,
           0,
           0,
           0,
           1,
           1,
           0,
           0,
           0,
           0,
           0,
           0,
           0,
           0,
           1,
           0,
           1,
           0,
           0,
           1,
           0,
           1,
           0,
           1,
           0,
           1,
           0,
           0,
           0,
           0,
           0,
           0,
           0,
           0,
           1,
           1,
           0,
           1,
           1,
           0,
           0,
           0,
           0,
           0,
           1,
           0,
           0,
           0,
           0,
           0,
           0,
           0,
           0,
           1,
           0,
           0,
           0,
           0,
           0,
           1,
           1,
           1,
           0,
           0,
           0,
           0,
           0,
           1,
           0,
           0,
           1,
           0,
           1,
           1,
           0,
           1,
           1,
           0,
           1,
           0,
           0,
           0,
           1,
           0,
           0,
           1,
           0,
           0,
           0,
           0,
           0,
           0,
           0,
           1,
           1,
           0,
           1,
           0,
           0,
           0,
           0,
           1,
           0,
           0,
           1,
           1,
           1,
           1,
           0,
           0,
           1,
           0,
           1,
           1,
           1,
           0,
           1,
           1,
           0,
           1,
           1,
           0,
           1,
           0,
           0,
           0,
           1,
           0,
           1,
           1,
           0,
           0,
           1,
           0,
           1,
           0,
           1,
           0,
           0,
           0,
           0,
           0,
           1,
           0,
           0,
           0,
           1,
           0,
           1,
           1,
           0,
           0,
           1,
           1,
           0,
           0,
           1,
           1,
           1,
           1,
           0,
           1,
           1,
           0,
           0,
           1,
           1,
           1,
           0,
           1,
           1,
           1,
           1,
           1,
           0,
           3,
           3,
           1,
           0,
           1,
           1,
           0,
           0,
           0,
           0,
           1,
           1,
           1,
           1,
           0,
           0,
           0,
           0,
           1,
           0,
           1,
           1,
           0,
           0,
           1,
           0,
           0,
           1,
           1,
           0,
           1,
           0,
           0,
           0,
           1,
           1,
           1,
           0,
           0,
           1,
           1,
           1,
           0,
           1,
           1,
           1,
           0,
           0,
           0,
           3,
           0,
           1,
           0,
           1,
           1,
           1,
           1,
           0,
           1,
           2,
           0,
           1,
           0,
           0,
           1,
           1,
           1,
           0,
           0,
           0,
           0,
           1,
           1,
           1,
           0,
           1,
           0,
           0,
           0,
           0,
           0,
           0,
           1,
           0,
           0,
           1,
           1,
           0,
           1,
           1,
           0,
           1,
           0,
           0,
           1,
           0,
           0,
           1,
           0,
           0,
           0,
           0,
           0,
           1,
           0,
           0,
           0,
           1,
           1,
           0,
           0,
           1,
           0,
           0,
           1,
           0,
           0,
           0,
           0,
           0,
           0,
           1,
           0,
           1,
           0,
           0,
           1,
           1,
           0,
           0,
           0,
           0,
           0,
           0,
           1,
           0,
           0,
           0,
           1,
           0,
           0,
           0,
           0,
           1,
           1,
           1,
           1,
           1,
           0,
           0,
           1,
           1,
           1,
           0,
           0,
           1,
           0,
           0,
           0,
           0,
           1,
           0,
           0,
           1,
           0,
           1,
           1,
           1,
           0,
           0,
           0,
           0,
           0,
           1,
           0,
           0,
           0,
           0,
           1,
           1,
           0,
           0,
           0,
           1,
           1,
           0,
           1,
           1,
           1,
           1,
           0,
           1,
           1,
           1,
           1,
           0,
           1,
           0,
           1,
           1,
           0,
           0,
           1,
           0,
           1,
           1,
           1,
           0,
           0,
           0,
           1,
           0,
           1,
           1,
           1,
           1,
           0,
           0,
           0
          ],
          "coloraxis": "coloraxis",
          "symbol": "circle"
         },
         "mode": "markers",
         "name": "",
         "scene": "scene",
         "showlegend": false,
         "type": "scatter3d",
         "x": [
          -0.3887861047762648,
          -0.38883714708316536,
          -0.47715386086746964,
          -0.2528748433282004,
          -0.029130301885312616,
          0.04139477897396213,
          -0.47741751655056863,
          0.04139198909488125,
          -0.38867023332066525,
          0.2913996556586626,
          0.004398135885351678,
          0.17732333574599768,
          0.04139467566606098,
          0.04138736262893551,
          -0.38876388271471024,
          0.11795659826805306,
          0.13845282362984995,
          0.041397469807688825,
          -0.3887861445196651,
          0.04139494942782061,
          -0.38878601157805587,
          0.041395256370339986,
          0.046029060071490165,
          -0.2917305114813385,
          0.17914357934490302,
          0.042374267062774224,
          0.04139740958988538,
          0.04139611388957847,
          -0.09885443824865192,
          -0.20591063917786864,
          0.04139485253014653,
          0.041417079417859486,
          0.04140069230570857,
          0.041396177059487914,
          -0.38877828863383274,
          -0.16010952428501798,
          0.04888456649725992,
          0.17731059069262242,
          0.04139721894191291,
          0.041397212995493086,
          0.04139577504662399,
          -0.3214334909772162,
          0.38309202773753004,
          -0.16123246421887177,
          -0.2527916883008328,
          -0.16504305770443614,
          0.040374627869180724,
          0.04142369148330229,
          -0.22448138259198208,
          -0.38878230704538236,
          0.04139386039318419,
          0.04137592818747321,
          0.04139595031798128,
          -0.16040073189423368,
          -0.38415188744423523,
          0.08484455030108962,
          0.17731209486757377,
          -0.3841525947135686,
          0.1773088898001758,
          0.17730153062894632,
          0.17730884281940731,
          0.04603011359852675,
          -0.38874353226909464,
          -0.3887867467030108,
          -0.2478279170177473,
          0.04139151897895689,
          -0.3841510786135638,
          0.08485731396408265,
          0.17731173985911497,
          -0.4521561464678516,
          -0.38885131955686625,
          -0.06679272050666898,
          0.041397760039507694,
          -0.2528725026831061,
          -0.16503945437040624,
          0.04140426704677121,
          -0.45216352803816195,
          0.04139545961515693,
          -0.16502818166577254,
          0.04140810419121388,
          -0.38878584201425104,
          -0.45216242695467534,
          0.29127982779380096,
          0.041441208496740975,
          -0.38921838924634733,
          -0.4521627172169094,
          0.3425399385591569,
          0.03195484227083196,
          -0.3841084631667963,
          -0.16041162347713286,
          0.2912911442337634,
          0.17375654630207582,
          0.2060158825028999,
          -0.3888047411313649,
          -0.22448719240038856,
          0.280568245802233,
          0.041397170649597255,
          -0.38878754694649204,
          -0.029132481905777028,
          -0.388784380650933,
          -0.38878595431642204,
          -0.38412022454279504,
          0.041257522440896026,
          0.4121502506702963,
          -0.1650444655017614,
          0.04139573146133587,
          0.17730903831989178,
          0.03253170103427739,
          -0.3841516165829397,
          0.04143994277331333,
          -0.38962219059735625,
          0.04603248613918337,
          0.3828232874024849,
          0.17730629094086559,
          -0.5889965966470933,
          0.04603071403288458,
          -0.24967978146238115,
          -0.189751151536941,
          -0.38415957516459787,
          0.041381253770902834,
          0.04218348417497336,
          0.04138512943396462,
          -0.16503612854139793,
          -0.3887522651940237,
          -0.4521634263342978,
          -0.38413587485304,
          -0.38878297055804534,
          -0.0988556172504616,
          -0.47738848639761555,
          0.046031196462293957,
          0.1773105664800449,
          0.04139104476753995,
          -0.26877245119743165,
          -0.2528694044198595,
          0.04141304035866355,
          0.16679169310976608,
          -0.25287441712406467,
          -0.38474141554440827,
          -0.25287304788420323,
          -0.16421853095090963,
          0.17911696676724387,
          -0.3859896043356264,
          -0.3887885404765646,
          -0.38415249516111943,
          -0.38880729542126796,
          0.312280410442884,
          0.041379573914512316,
          -0.3841869811970154,
          -0.1679644172821588,
          -0.25287595827977927,
          -0.09885383243377532,
          0.041394929568217165,
          0.04603012550368533,
          -0.3841350262951498,
          -0.2529205540890809,
          -0.05633838815259592,
          -0.3887895659179156,
          -0.3887778380617242,
          -0.16035586570091803,
          -0.38415391878120214,
          -0.3887870488092928,
          0.3299444342022044,
          -0.2528748711153081,
          0.1773090103265907,
          -0.3841520584595516,
          -0.3887876658717098,
          0.291342885604897,
          -0.3887857575106008,
          0.04139732773934783,
          -0.16501403457131597,
          0.1773094358894404,
          -0.28073204284494285,
          0.04139478032073563,
          -0.5385052295659177,
          -0.09884936235412663,
          -0.38878010366920024,
          -0.3842490278148336,
          -0.09883271714475214,
          -0.22842081771782724,
          -0.5424572440171688,
          -0.09888129664616545,
          0.31866523093591614,
          0.32489331240624186,
          -0.38415149435395535,
          0.04046734280442265,
          0.04612923190648228,
          -0.43574073579214,
          -0.3841515690149297,
          -0.09885135241837147,
          -0.3887867587289401,
          -0.38878960834718024,
          0.046018915399059675,
          -0.09885383243377532,
          -0.3841561148623022,
          -0.2528726586094124,
          -0.3887848367776536,
          -0.2266154215685772,
          -0.3887868006768352,
          -0.38884684056084934,
          -0.3841522234591574,
          0.3299419969538693,
          -0.38879847909434745,
          -0.16208705014384375,
          -0.38878673558488586,
          -0.3887858306728102,
          -0.2564285625863333,
          0.04139557877944983,
          0.32994311151886013,
          0.38282653826074103,
          -0.3888299885057331,
          -0.25287452550018513,
          -0.384151775732676,
          -0.388785915469104,
          -0.3887881628388513,
          0.2884830097312672,
          -0.16504915507297893,
          -0.1713445034881108,
          0.04139591420008452,
          -0.22841982366751448,
          0.04593898916614222,
          0.3248941922642144,
          -0.38870343759960907,
          0.04140392587277978,
          0.38282846254477704,
          -0.16504125861420021,
          0.3358532797675405,
          -0.38415901472153663,
          -0.4816763731509909,
          -0.3841426813199233,
          0.041021763315201125,
          -0.0988462066809208,
          -0.38415681982133804,
          0.0423641022232465,
          -0.09882216445329507,
          -0.3841782815095209,
          -0.3887871874008689,
          -0.3887886547588456,
          -0.38888236304408724,
          -0.0363393285777178,
          -0.3841526675353376,
          0.04139588766435682,
          0.04139564024247154,
          -0.16515069853415693,
          0.17735739525775787,
          -0.09885633718977734,
          -0.38879239775766766,
          -0.4787811017683733,
          -0.029148670977438416,
          0.04139137486643704,
          -0.3841503497844777,
          -0.48279751699809403,
          0.2065006355609774,
          0.28268456388708146,
          0.33007507128451125,
          0.046027236061142465,
          -0.3878151401988895,
          -0.44307414099594217,
          0.04139706908714019,
          -0.4521618170430419,
          0.041389379276943,
          0.046029249016653784,
          0.046028546034908885,
          -0.16824260597248553,
          0.31866508894719775,
          0.32994117754930224,
          -0.4521605624499305,
          0.3259220040782255,
          0.05131542633043422,
          -0.08220448875724519,
          0.04594630435219858,
          -0.4430666125425014,
          -0.38415055317768576,
          -0.16504259911625616,
          0.04038411550722295,
          0.8120615401941902,
          0.041391776730687446,
          0.04139202236314157,
          -0.38878575757758044,
          -0.38415318886987515,
          0.32426036669746955,
          -0.22447869080901697,
          0.04634032306039659,
          -0.38878741644270864,
          0.20569833351186867,
          -0.036678160493886114,
          -0.38783011416709867,
          -0.6251628205998091,
          -0.31226212212760807,
          -0.3887846004569723,
          0.20569699474818134,
          0.45152270062273586,
          -0.38415892351811215,
          0.8118640156168438,
          0.291302135423958,
          -0.3887864712735622,
          0.3217543553844171,
          0.1773124589017056,
          -0.16407343546188716,
          -0.08850588336812899,
          0.045991283999417966,
          0.2884815629693068,
          -0.39272426138629346,
          -0.38879904974660867,
          0.04165190576746515,
          0.09993366482975848,
          0.046028746847585594,
          0.20569964182156927,
          -0.0885139664695092,
          0.20570851733682372,
          0.04139894416533745,
          -0.3887652185713583,
          -0.38878597786713404,
          0.046029402705706955,
          0.17731049769413412,
          0.10712085379756958,
          -0.05634062931036145,
          0.11222312284588122,
          0.24827951901915943,
          0.34758144274880415,
          0.04222235205211601,
          0.16965538980911948,
          -0.2284568756624953,
          7.450949401700376,
          22.826534402250264,
          0.041394054377957575,
          0.8119432841637868,
          0.04221631700754475,
          0.0460195490226763,
          -0.32306078099933155,
          -0.3841539081794199,
          -0.38942982184884073,
          -0.16505176496844418,
          0.31808113041241026,
          0.32986182736540126,
          0.0413943855764606,
          0.390270323497977,
          -0.38781715991388743,
          -0.38878624244123994,
          -0.3887863462551019,
          -0.16504471886464112,
          0.25758823301998657,
          -0.38878722645523434,
          0.046025955631848886,
          0.32994493961363475,
          -0.027169519928911427,
          -0.38897850451376126,
          0.042368704801791404,
          -0.19502259348542883,
          -0.16503997120384115,
          0.3298860515324535,
          0.3196081916552958,
          -0.540086675420252,
          0.3299785443613809,
          -0.3887903313878166,
          -0.25364991527099895,
          -0.029130555888951037,
          0.17927351308195266,
          0.37679464652804556,
          0.04602891041276184,
          -0.0885077834337208,
          -0.38888148519011884,
          0.2883330508849619,
          0.04074010720770627,
          0.3578631872803024,
          -0.09887404911344666,
          0.17748243170604802,
          0.17926621417557465,
          0.3249202360165968,
          -0.16568598827031739,
          -0.029048577702339744,
          -0.2635606240958508,
          15.288265241018708,
          -0.1558096050519828,
          0.32949958589657835,
          0.05156941230768201,
          0.2812280037270983,
          0.28123824292788635,
          0.11844850923944433,
          0.379273835651994,
          -0.3887854781865343,
          0.32488158814603096,
          1.044611419686557,
          -0.31224521838685787,
          0.3248959847456535,
          -0.0885080259880721,
          -0.3904746551177277,
          0.1697582621948212,
          0.1737481126198014,
          0.4479943653420087,
          -0.38879013373923,
          -0.57733704081828,
          -0.38942964708578465,
          -0.5404016791979019,
          0.17731079763557625,
          -0.021980920554888733,
          0.32998441132671125,
          -0.08858580269916606,
          0.386962793384584,
          -0.08851125365916873,
          -0.08850517181655983,
          -0.3887652314811126,
          0.0848399292546245,
          -0.3887768090991969,
          -9.91513318802622,
          0.04602773544543505,
          -0.22843939887563358,
          -0.09886070473694199,
          0.04139549046401269,
          0.04139208123593616,
          -0.3841530386528672,
          0.32993688249285513,
          0.04139573121085445,
          0.15981609722397813,
          0.04142957379468909,
          -0.38878243411101804,
          -0.252866110710437,
          0.312273304496364,
          -0.38878774325665094,
          -0.3878085784683831,
          0.3186383708022172,
          -0.2896227810772846,
          0.8540232770478986,
          -0.02921438063182683,
          -0.3856214066835654,
          -0.09885375212201167,
          0.0460298796816353,
          -0.16505844719223128,
          -0.31223970477927,
          -0.0988604406227911,
          0.3299434463746328,
          0.31779283429661187,
          -0.16041141237746565,
          -0.5845822471346315,
          0.11793582073548413,
          -0.38898698262364617,
          -0.05846235725125637,
          0.23635364818005875,
          -0.08850790060690036,
          -0.3888227965911623,
          -0.08221260528001172,
          -0.08850142926647091,
          -0.1601223018859061,
          -0.22842155491248906,
          0.3249003601533257,
          -0.25287416510032334,
          0.3944252898495647,
          -0.16041485256379562,
          -0.1650472686772849,
          0.3203170924750186,
          -0.21374495159603926,
          -0.08856943158744009,
          0.33137352086174643,
          -0.25090902553240013,
          -0.31224801447166006,
          -0.26042391076986804,
          -0.08851315975518369,
          0.40642664128192924,
          -0.38414956634795216,
          -0.16504959307637124,
          -0.1699488274006995,
          0.04144406938319902,
          -0.09885873876992467,
          -0.160419006417711,
          -0.31224788267856424,
          -0.5404759715628288,
          0.2648806113938926,
          0.537834372091407,
          0.3249049109716028,
          0.0671241565197919,
          0.25650378727979234,
          0.5993837830019489,
          5.408617357277188,
          0.046204012857615384,
          0.04602754201042652,
          0.2821820728587066,
          0.8118601638368277,
          -0.36191564022267037,
          0.15876270393648803,
          -0.29172119718678563,
          -0.25296159382752176,
          0.9609727810802116,
          -0.02671482804057007,
          0.041398628326292625,
          -0.3889046156796786,
          -0.028387240263106604,
          0.20570878509723098,
          -0.4521617500559731,
          0.2885020371333127,
          0.041308113002894366,
          0.3248953869767024,
          -0.6120100559380861,
          -0.38876987794189666,
          -0.126804127444717,
          -0.5040363021488885,
          -9.905384976292327,
          0.041399377313249705,
          -0.32796563864020245,
          0.1601180759817484,
          0.8120433097124228,
          0.25047708661945206,
          0.17731012097897414,
          0.3186633145159093,
          -0.3887863631848299,
          -0.38878435169476266,
          -0.45215011161379004,
          0.17730944536050916,
          0.041406250388165027,
          -0.3834734970243623,
          0.3582935984652928,
          0.13845451830943606,
          0.04139761214002492,
          0.1773297333522397,
          -0.3841507185761939,
          0.35148542308801634,
          0.25761154405951125,
          0.2926120938188006,
          0.3451215327816825,
          -0.3775101645795173,
          0.379969014372966,
          0.13893875478498044,
          0.3248940788520458,
          0.17731012123743872,
          -0.45215029930168754,
          -0.008452618253054394,
          0.29167791483114835,
          -0.05633380193697033,
          0.3248940960945423,
          0.1697619389244746,
          0.37403499239952015,
          -0.051828741486373966,
          0.8118738369868385,
          -0.3841522713303437,
          0.3186644978200812,
          0.8118799867745287,
          0.3584439146075136,
          0.10759283099980609,
          0.17731011608692876,
          0.31868320683301965,
          -0.7459974259218667,
          -0.12053160378270905,
          -0.08947808820198723
         ],
         "y": [
          0.7539111582187336,
          0.7537634229154255,
          1.4458350008030645,
          0.7386600450867162,
          0.44721042451399584,
          -1.1257228795908003,
          1.5580529150415068,
          -1.1257333535716134,
          0.7540384206135118,
          -1.603099369694403,
          -1.2325244968217273,
          -1.1409768468072292,
          -1.1257624547506393,
          -1.1257446384352319,
          0.7539355648634409,
          -0.5264261309669681,
          -1.086339001944029,
          -1.1257246055247678,
          0.7539110284146261,
          -1.1257226923801993,
          0.7539110882643674,
          -1.1257210008137148,
          -0.8038981935267924,
          0.7933024450316685,
          -1.1425671598722766,
          -1.1269698271029127,
          -1.1257199903679007,
          -1.1257233089841205,
          1.0122068753177433,
          -0.07177327992777503,
          -1.1257211162211116,
          -1.1259395701372195,
          -1.1257248287083894,
          -1.1257301748163395,
          0.7538990641289673,
          0.7846110992251291,
          -1.1331055341798864,
          -1.1409652040577292,
          -1.125762318794193,
          -1.1257200339670075,
          -1.1257183994738926,
          1.188993295007761,
          -2.0265436334946605,
          0.46664345939555746,
          0.7383382849446957,
          0.4624554711513579,
          -1.1294245268058796,
          -1.1257455784843582,
          0.4639884250483683,
          0.7538984417609066,
          -1.1257238884741574,
          -1.1257830452306081,
          -1.1257267972147753,
          0.7842912639781562,
          1.0757352571181407,
          -0.014723235058611358,
          -1.1409680344420008,
          1.0757327572736974,
          -1.1409706909173312,
          -1.1409853217729047,
          -1.140963548080762,
          -0.8038939346383609,
          0.7536822009855692,
          0.7538932210118786,
          0.062424270841499485,
          -1.12576857910128,
          1.0757351978645557,
          -0.014691984461267267,
          -1.1409680776441626,
          1.5274266516068935,
          0.7536672105833069,
          1.0747153941303584,
          -1.125734101178001,
          0.738654689029161,
          0.4624622168840003,
          -1.1257375119572417,
          1.5274164765175025,
          -1.1257189661416453,
          0.4623884368617168,
          -1.1257321971489491,
          0.7539114468192357,
          1.5274180304884255,
          -1.6028868162996028,
          -1.125840588797067,
          0.7474051137339311,
          1.5274194142310424,
          -1.956069924396125,
          -1.1529919761147742,
          1.0757829504621377,
          0.7842758552441422,
          -1.6028739048775122,
          -1.3267911380460176,
          -1.4159831478974465,
          0.7538562254302753,
          0.4639723254664749,
          -1.995014261992168,
          -1.1257172149943633,
          0.7539002247678489,
          0.4472065654476374,
          0.7539130518442516,
          0.7539078770406774,
          1.0756838719564539,
          -1.1275932287621657,
          -1.9948827662884776,
          0.462456540803408,
          -1.125718321459025,
          -1.1409669090389867,
          -1.1513072452286526,
          1.0757355547792185,
          -1.1258419789494951,
          0.751183500549936,
          -0.8038970154811955,
          -1.9501476657300956,
          -1.140975571766301,
          1.8043040311151897,
          -0.8038968939354831,
          0.7421402526417084,
          0.8491607752330066,
          1.0755544919992757,
          -1.1257703445915934,
          -1.1334691115322082,
          -1.1257729394406122,
          0.4624486374823429,
          0.7538793957366106,
          1.5274100399904844,
          1.0757170010875554,
          0.7538870290678991,
          1.012204029515889,
          1.5581405799676649,
          -0.8038955024709811,
          -1.140965230650564,
          -1.1257547247069923,
          0.7500091467844455,
          0.7386517159649887,
          -1.1257353918143764,
          -1.0261368420406964,
          0.7386605131895502,
          1.0705126304308534,
          0.7386639987356588,
          0.46163910177336,
          -1.1427043103502066,
          1.2395677398540788,
          0.7539012455638814,
          1.0757325219691782,
          0.7538448039458996,
          -1.2401779166050675,
          -1.1257649712521045,
          1.0756305420115095,
          0.44218985085503787,
          0.7386557187353107,
          1.0122040942518973,
          -1.1257225418703163,
          -0.8038982296082708,
          1.0757408518659666,
          0.738523162781198,
          1.0259595809180913,
          0.7538997172306678,
          0.7539030054316396,
          0.7842273253818451,
          1.0757244101687624,
          0.7538946124247167,
          -2.0630000656162415,
          0.7386601868897759,
          -1.1409649987512682,
          1.075734552497757,
          0.7539058249063456,
          -1.6030238631670788,
          0.7539115396301544,
          -1.1257509258701255,
          0.4624901356177926,
          -1.140964686838401,
          0.08015333519939341,
          -1.125724429007984,
          1.6568761268626497,
          1.012199698391881,
          0.7539177492816315,
          1.0753700846522536,
          1.012223838894995,
          1.23596484478938,
          1.7304088775996314,
          1.0121255076948608,
          -1.8651686971388743,
          -1.811293759584716,
          1.0757305193696136,
          -1.1284610882932595,
          -0.8038712332523815,
          1.5453093323890952,
          1.075734943011208,
          1.0122016484147403,
          0.7539037987025914,
          0.7539000727145079,
          -0.8039455230693126,
          1.0122040942518973,
          1.0757202749801678,
          0.7386627892214802,
          0.7539068642572918,
          0.6696303820728057,
          0.753905568902891,
          0.7537323288266314,
          1.0757340266339623,
          -2.0630046380022264,
          0.7538727530887787,
          0.4601018324525602,
          0.753908225221065,
          0.7539108878928297,
          0.5528210554904314,
          -1.1257188501316728,
          -2.0630041031553787,
          -1.950134481611679,
          0.7537767995266073,
          0.7386605664811559,
          1.0757337680857326,
          0.753907919706945,
          0.7539051182504026,
          -2.0088944662574812,
          0.4624420848381467,
          -0.04666872544279663,
          -1.1257185930075768,
          1.2359638644385376,
          -0.8041663390232799,
          -1.8112921039436065,
          0.753829630316945,
          -1.1257264469147559,
          -1.9501342636979289,
          0.4624543028473219,
          -1.900996281479056,
          1.0757101971728753,
          1.7270317808785491,
          1.0757264130379354,
          -1.1268182336704324,
          1.0121969107247673,
          1.075712607846308,
          -0.6420777948944377,
          1.0121733931142678,
          1.0756201076051677,
          0.7539063138609651,
          0.7539034291592425,
          0.7536331153155735,
          0.4263707204751095,
          1.0757275076385564,
          -1.125724164090505,
          -1.125718487217551,
          0.46199539304782433,
          -1.1413409840779416,
          1.012199620043612,
          0.7538861528120161,
          1.541106629469382,
          0.4471579247682158,
          -1.1257354067573204,
          1.0757317764578556,
          1.6618625680546792,
          -1.9427028069962207,
          -1.915990153373973,
          -2.0631995064588065,
          -0.8039143272384359,
          1.2375420630999772,
          1.6890801412624885,
          -1.1257200673993664,
          1.5274152539220758,
          -1.1257381154919364,
          -0.8039052235233796,
          -0.8038989131862113,
          0.4503280834044033,
          -1.8651685571069334,
          -2.0630112245796517,
          1.5274185449344837,
          -2.092364083438446,
          -1.1492877114926496,
          1.0247453380847211,
          -0.8041755368876548,
          1.6890884098127912,
          1.0757350844140428,
          0.4624557635739966,
          -1.1286386582937877,
          1.0976895375106752,
          -1.1257370332489542,
          -1.1257395206182734,
          0.7539108158049588,
          1.0757291752370002,
          -1.8156040674492386,
          0.46392310237789924,
          -0.8038634088012393,
          0.7539070064174975,
          -1.415647279479812,
          0.20113892686197626,
          1.2373395095291382,
          1.7336183899760675,
          1.3531708309786323,
          0.7539102620872334,
          -1.4156518516455465,
          0.5441535011977517,
          1.075702715182254,
          1.0973864340499375,
          -1.6029755655796845,
          0.7538745681180005,
          -2.0866409146798968,
          -1.1409884834984072,
          0.9461035924228302,
          1.061763438516034,
          -0.8040313584437103,
          -2.009036408180455,
          0.7409697638754225,
          0.7538710924067169,
          -1.1262984658560848,
          -1.1483506930771188,
          -0.803898847721953,
          -1.415644808623696,
          1.0617373286105267,
          -1.4157176027368035,
          -1.1257257147716417,
          0.7537790080479605,
          0.753910608323846,
          -0.8038986788184462,
          -1.1409651624821895,
          -1.1773109707874945,
          1.0259585841751104,
          -0.2769916313438705,
          -2.325013276888271,
          -2.0026505850477756,
          -1.1265335500064386,
          -1.387338549981261,
          1.2357878154821382,
          7.262385218936712,
          8.177217312294703,
          -1.1257269495339175,
          1.0973873343118565,
          -1.1279888843771295,
          -0.803991698690511,
          0.7023192539870767,
          1.0757287298581943,
          1.4843442467325492,
          0.46242732816729126,
          -1.8669257946387523,
          -2.0632613918513187,
          -1.1257233116618839,
          -1.9112099974159054,
          1.2375519073607981,
          0.7539104900621691,
          0.753910031399083,
          0.462370273946611,
          -2.0213494706379134,
          0.7539047566240199,
          -0.8039157335424142,
          -2.063000958022781,
          0.4428127319534713,
          0.7528172203786347,
          -0.6420680437377653,
          1.2577836159335316,
          0.4624571688751725,
          -2.063165857650593,
          -2.1060579204056373,
          1.6585684185585943,
          -2.063133200801176,
          0.7538920410778729,
          1.2666717878553748,
          0.44719502219749807,
          -1.145355130674119,
          -1.9467118379383999,
          -0.803898874863416,
          1.0617611793395865,
          0.7536340794684041,
          -2.00932885069568,
          -0.3953240522112788,
          -2.0958252066895673,
          1.0121491489934182,
          -1.1411347269914067,
          -1.145376575168324,
          -1.8125702162558492,
          1.1928939348686154,
          0.44713001493147625,
          1.750474861366167,
          1.4686283594179064,
          0.7893337290134366,
          -2.0648792825211615,
          1.3398402125525068,
          -1.9931015072420804,
          -1.9930764944630097,
          -0.22313836580671412,
          -1.8949964404327433,
          0.7539082276554714,
          -1.8113483038327423,
          1.1212440886592734,
          1.3532238608325098,
          -1.8112925281101138,
          1.0617622277559982,
          0.7391669402870429,
          -1.38704164548308,
          -1.326817632996845,
          -1.8809693932084193,
          0.7538922581566255,
          1.6913904562592825,
          1.4842686170765056,
          1.6573780709189923,
          -1.1409723866090413,
          -0.3522103433677019,
          -2.0631957241616217,
          1.0615343586952326,
          -1.984302554521367,
          1.061747442231323,
          1.0617639681946616,
          0.7538941048428262,
          -0.014718315719182406,
          0.7539187829024442,
          7.573555567522304,
          -0.8039008546250852,
          1.235910403443145,
          1.0121893777742328,
          -1.125721925834747,
          -1.1257394559578933,
          1.0757256780380804,
          -2.0630219539851824,
          -1.1257183212119957,
          0.7339608112334162,
          -1.1257516973954198,
          0.7384062262147874,
          0.7386561950769585,
          -1.2402074865188963,
          0.7539057399139516,
          1.237554439546585,
          -1.8652419321243678,
          0.472085757488702,
          1.2453124140196143,
          0.44694791247527965,
          1.2348024792662555,
          1.012207628895178,
          -0.8039086665834583,
          0.46240326475073645,
          1.3531954521008671,
          1.0121864971250911,
          -2.063001581358352,
          -1.8678455585326008,
          0.7842759147744888,
          1.7108216431949308,
          -0.5264193117161582,
          0.7533286569393862,
          0.5120815807803965,
          -2.022940790730723,
          1.061761567612957,
          0.7537976225903121,
          1.0247558098583887,
          1.0617717769217405,
          0.7818399164299054,
          1.2359572284331959,
          -1.811294462766421,
          0.7386611346325299,
          -2.0391816888855203,
          0.7842650712005494,
          0.462446052219025,
          -2.0518636193067783,
          -0.013062828631849184,
          1.0615850803409537,
          1.000362396115756,
          0.7342630503871058,
          1.3532199022443627,
          0.49258394565077585,
          1.0617416610665547,
          -1.9968983037696284,
          1.0757291904750437,
          0.46240627780364,
          0.7565723457133382,
          -1.1260097684834798,
          1.0121869877068366,
          0.7842539607662229,
          1.3532116292451561,
          1.6568646366489503,
          -2.0245629788588584,
          -0.5877867311114165,
          -1.811311866408756,
          -1.097460514970861,
          -2.110297566903547,
          0.25428533229464323,
          5.38811345586078,
          -0.8040648157453434,
          -0.8039570716665517,
          -1.9649190519354065,
          1.0974339001595097,
          1.617017193409557,
          -0.10214049436763936,
          0.793313429752658,
          0.7383962357014464,
          1.2588261913768966,
          1.1159312779591097,
          -1.1257222705797845,
          0.7535397463716527,
          0.44647779168778395,
          -1.4156890478757909,
          1.527420497148926,
          -2.0088416887995857,
          -1.1261039472954932,
          -1.8112914810702316,
          1.5646746144000745,
          0.7538772837206023,
          1.1020224682467432,
          1.6880394847297326,
          7.584262093068992,
          -1.1257286854787585,
          0.7492909454918675,
          0.7336877679624229,
          1.0976695148517408,
          0.477618266860009,
          -1.1409657199473413,
          -1.8651691995106214,
          0.7538384992510087,
          0.7539101940541428,
          1.5273970921455375,
          -1.1409664619835793,
          -1.1257583224834833,
          0.759746030525429,
          -2.004020411610945,
          -1.0863407594243664,
          -1.1257201125493739,
          -1.1410935825631292,
          1.0757327499860057,
          -2.007365018874322,
          -2.0212758591105184,
          -1.6042758848745209,
          -2.078116999011734,
          1.210925338296522,
          -1.9603816779484335,
          1.5036676334233752,
          -1.8112929177922104,
          -1.1409657196634684,
          1.5274330735882398,
          0.618082482993365,
          -1.6060678703236926,
          1.0259531585882755,
          -1.8112928988546617,
          -1.3870464474157478,
          -1.9669576916811558,
          1.1369189750376205,
          1.0974558244049144,
          1.0757310445858328,
          -1.865201174120322,
          1.0974901361867428,
          -1.1013269284174607,
          -0.5759774641073436,
          -1.140965725320308,
          -1.8651444383058684,
          8.692179218666341,
          0.9353992802918116,
          1.040110743458093
         ],
         "z": [
          -0.352753361425409,
          -0.348865609903529,
          2.34267801349751,
          -0.34128548702967576,
          -0.2995974171344274,
          -0.16024671223107906,
          -0.262789911753285,
          -0.1598402403714111,
          -0.34475202785472264,
          -0.08782445090340826,
          2.6350182305646674,
          -0.14581787952491224,
          -0.15706316831459244,
          -0.15965812296814427,
          -0.35121885000142844,
          -0.21848869966464463,
          -0.18608242353623683,
          -0.15968239430493075,
          -0.35274913988787343,
          -0.16023494178893063,
          -0.3527329932540207,
          -0.16032326041173897,
          -0.22176380580783828,
          -0.3795751062240397,
          0.27010550437106945,
          0.09519453235404804,
          -0.1600650588901726,
          -0.16000126758876218,
          -0.38248486964243206,
          -0.29505022464070957,
          -0.16037767821608254,
          -0.1392059004207526,
          -0.15915565431512332,
          -0.15943615850813217,
          -0.35054165886566324,
          -0.351846981592225,
          1.618995019521473,
          -0.14877115294681528,
          -0.15667268671481435,
          -0.1600925675192095,
          -0.16045171511373496,
          -0.44019980173910184,
          -0.1251765008769138,
          -0.04790115094038749,
          -0.3021429338328566,
          -0.31081068196605677,
          -0.021987996486935,
          -0.15384734456613144,
          -0.36107286495900276,
          -0.35112567239497555,
          -0.1603101434853834,
          -0.15835774807100295,
          -0.15974504745157977,
          -0.3719558977878377,
          -0.41423304561645496,
          -0.272891952219667,
          -0.14830485724149634,
          -0.41414256809687994,
          -0.14859601069324732,
          -0.14857473008195154,
          -0.1491809614042144,
          -0.2219418516633332,
          -0.3275206351189257,
          -0.35140438028841103,
          -0.31785363968573266,
          -0.1570662893329243,
          -0.4141005749316866,
          -0.2734038851470088,
          -0.14835740476414314,
          -0.3083507557507408,
          -0.3433235830882163,
          -0.3731976626705441,
          -0.1588688075420373,
          -0.34048293504385,
          -0.31078729639872166,
          -0.15756585094372075,
          -0.3086932822246285,
          -0.16045569028357645,
          -0.3030423310612014,
          -0.15738985925279253,
          -0.35273521736343005,
          -0.3086451146931271,
          -0.12392615719389205,
          -0.14340009387385483,
          0.1050540278478903,
          -0.3088028172605959,
          -0.10592432091928404,
          0.5544358137361892,
          -0.4112344594846929,
          -0.3724293383324243,
          -0.12318372961099554,
          -0.16964992643096066,
          -0.09133172464620917,
          -0.35125365022446203,
          -0.3606882523437644,
          -0.07310339076193188,
          -0.16032718031737223,
          -0.35209699356086954,
          -0.2996295239956462,
          -0.3526343050535803,
          -0.35246431041863807,
          -0.40508007894791714,
          -0.030686452962133966,
          -0.10453395500182128,
          -0.31111939966620245,
          -0.16046490326118173,
          -0.1488783497787522,
          0.509278102035753,
          -0.4142143556182961,
          -0.14348749655677867,
          -0.26419059862735716,
          -0.2213182273510437,
          -0.13214996888378502,
          -0.14861161798506842,
          -0.43953661829151763,
          -0.2216077946479835,
          -0.11831439654405937,
          -0.37796112200529997,
          -0.4008308334907945,
          -0.15854397735715645,
          0.5905780968480678,
          -0.15772236943137596,
          -0.30916432709717356,
          -0.3448433829310902,
          -0.3081568017790731,
          -0.4102292506529559,
          -0.3503076386905645,
          -0.38244088607747445,
          -0.2652954461512342,
          -0.2216441466414381,
          -0.14877282491099045,
          -0.15826134485426668,
          -0.40838216751796835,
          -0.33975346465644457,
          -0.15635234489988376,
          -0.0863784797489196,
          -0.3412560561251663,
          -0.08501851249674867,
          -0.34132173580523284,
          -0.11464561716439338,
          0.27699382751570384,
          -0.23870274400249267,
          -0.3523363659426741,
          -0.41410782746716523,
          -0.35073337846551267,
          -0.07836018222005281,
          -0.15924361642930573,
          -0.41130610070042983,
          0.866609606954148,
          -0.3411116827559297,
          -0.38216437417360183,
          -0.16025024625519937,
          -0.22159270231094988,
          -0.41202375574512173,
          -0.33743363241725327,
          -0.37484430474200076,
          -0.3523746657581572,
          -0.3507892070739184,
          -0.35970368796012664,
          -0.41367667603928043,
          -0.3515645727001678,
          0.38493170666004733,
          -0.3413013389178825,
          -0.14903722514511306,
          -0.41420306949137736,
          -0.3525685662792287,
          -0.10289109635260855,
          -0.35272938208727944,
          -0.15757668778475678,
          -0.3090319692937979,
          -0.1489952667244187,
          -0.278470810747003,
          -0.1601212214184641,
          0.021702558058732037,
          -0.3811033124717095,
          -0.3523389643258275,
          -0.4000413104416735,
          -0.3804276283393233,
          -0.2671316560955345,
          -0.4296402924480718,
          -0.38014567686179457,
          -0.14318556215192033,
          -0.13206332941897714,
          -0.4137879225634274,
          -0.08525115383703999,
          -0.2081308364718555,
          0.8370345833774944,
          -0.41415738212865627,
          -0.381575127620673,
          -0.35226153845505526,
          -0.3524101061885781,
          -0.2195383823719987,
          -0.38216437417360183,
          -0.4136889923090131,
          -0.34116249064459886,
          -0.35220601023623127,
          -0.4054533881275877,
          -0.35241128987811793,
          -0.347881680672903,
          -0.41418659711748534,
          0.3849166700294028,
          -0.35160148746310727,
          0.3461199412328089,
          -0.35261579140401633,
          -0.352688235009065,
          -0.3610573240945729,
          -0.16044625933671125,
          0.38504936704869114,
          -0.13270280019965944,
          -0.3488171436834487,
          -0.34127747297027167,
          -0.41409501534370075,
          -0.352461627873778,
          -0.3525898794064259,
          -0.13204601565558136,
          -0.3106908442787809,
          -0.29993658293721875,
          -0.1604141005631019,
          -0.26689547178823153,
          -0.21430122590826026,
          -0.1320583044730312,
          -0.3331118104860536,
          -0.1585143723522345,
          -0.13241665756773296,
          -0.3104322193566382,
          -0.13008422569618622,
          -0.41333191423923366,
          -0.42508961993433547,
          -0.41206470413934726,
          -0.1305649972719884,
          -0.3803797697995991,
          -0.4131803486112944,
          -0.1719894423147318,
          -0.37468301368970314,
          -0.4090891180029288,
          -0.35253257067297783,
          -0.35253096094953396,
          -0.3454672457645775,
          0.24740138567329037,
          -0.4137296039869439,
          -0.15996783918975607,
          -0.16046590039925476,
          -0.2906029189499302,
          -0.11099900104453649,
          -0.38219800553792266,
          -0.3517249401635351,
          0.8921512532479344,
          -0.2982522403568991,
          -0.15977119029679093,
          -0.41370888598961597,
          0.5859699137583894,
          -0.14123997036008615,
          -0.1394038757061505,
          0.42167950942568094,
          -0.22074724676908,
          -0.3630904863148141,
          -0.4327796954570577,
          -0.16011258131130046,
          -0.3083243363287127,
          -0.15986719354398443,
          -0.22116556868028922,
          -0.2217867620719706,
          0.1646782654626292,
          -0.14321929838183844,
          0.38531987922558014,
          -0.30839238478859005,
          -0.13687212455393563,
          3.311134581027817,
          -0.37436926882334004,
          -0.2124027773815297,
          -0.4322598290987469,
          -0.4140084580554924,
          -0.31076193437615374,
          -0.08403174812506264,
          3.0027854656559456,
          -0.15957624306346477,
          -0.15933635182726916,
          -0.3526708677329378,
          -0.41394673415679667,
          0.11653183167038868,
          -0.35536627942318155,
          -0.17544122763038078,
          -0.35262472327101363,
          -0.16861577450346146,
          -0.33090699392404804,
          -0.3490767542318208,
          -0.44620924491091307,
          -0.4139703640899908,
          -0.35244343705295866,
          -0.16845742524834884,
          2.029351478921568,
          -0.41271256034403336,
          2.9961122395989452,
          -0.11322890938409266,
          -0.3498527209702769,
          1.0035511239513277,
          -0.14659398221357886,
          -0.3227517362685685,
          -0.3738501449861516,
          -0.21695997322683733,
          -0.12079767512960084,
          0.07195750237552768,
          -0.35155729447951845,
          -0.07311834009797467,
          1.2312033465262957,
          -0.22176035546450729,
          -0.16860902962982474,
          -0.3730150027117817,
          -0.1613221936017955,
          -0.15935996813776185,
          -0.3387713143058643,
          -0.35268886612442374,
          -0.22167048025055017,
          -0.14878919501897853,
          -0.1981474256450668,
          -0.37511749588672033,
          -0.2943199104269916,
          8.678631277180068,
          -0.13060258503029237,
          0.03593844687255726,
          -0.17261951981581306,
          -0.2585099469723168,
          -0.19053710185708023,
          -0.3680641445320661,
          -0.1600320194332672,
          3.0085525585308557,
          0.1526569154633448,
          -0.21570482784004574,
          -0.39046432979263535,
          -0.41402427120771723,
          -0.32788473200796586,
          -0.30990968356386395,
          -0.09331980761523469,
          0.3930211716358927,
          -0.16027387772117282,
          -0.13040749632634913,
          -0.3642052711098762,
          -0.35272106899331634,
          -0.3527003715272036,
          -0.3041842831793328,
          -0.1387000927610479,
          -0.35241282520295364,
          -0.2208356649440949,
          0.38508364506735243,
          -0.33526608396601015,
          -0.29467463573966923,
          -0.17205132255312977,
          -0.2917078579118165,
          -0.31046072522742085,
          0.3891207071890825,
          2.234726867558218,
          -0.3647703741816888,
          0.40108089334812075,
          -0.35187484490866044,
          -0.2229997176468194,
          -0.29839215825181453,
          -0.18472985291999128,
          -0.12570923116732055,
          -0.2217323410016857,
          -0.37396741815047885,
          -0.3454066268407586,
          -0.1205959183818435,
          -0.13433717394651537,
          4.527139789856906,
          -0.38091312029657287,
          -0.10793802784683955,
          -0.18414814192784637,
          -0.024605266971214543,
          -0.28625250919788253,
          -0.2801951462907806,
          0.5550180404372186,
          -0.6300479105824662,
          -0.05492233824918058,
          0.4666533957593291,
          -0.3733478672136157,
          -0.12361175677726208,
          -0.12401783504820776,
          -0.2818708227509597,
          -0.12524123729503137,
          -0.35241749887416807,
          -0.1295039098370963,
          34.0401752235416,
          -0.41558971902986663,
          -0.13174105239209416,
          -0.37409047686648655,
          0.5728414190598629,
          -0.18038660479178362,
          -0.16883899300830507,
          -0.10941794284860842,
          -0.3518611965741606,
          -0.4422992357263736,
          -0.32174210424115385,
          -0.31825035726554635,
          -0.1481577399177889,
          -0.1164981350691255,
          0.40706236586127115,
          -0.3679437235858051,
          -0.12851884714543432,
          -0.37340450349629606,
          -0.37378064865428856,
          -0.34807951013177757,
          -0.2740191710760409,
          -0.3519024662499881,
          2.9676925159663536,
          -0.2217577442931542,
          -0.26566296719451943,
          -0.3820593149615911,
          -0.1602115144151392,
          -0.15933228645242808,
          -0.4136402551043453,
          0.38550940040395415,
          -0.16046496277508368,
          -0.3392935860311789,
          -0.15242403454702497,
          0.9014782429790207,
          -0.3395956878139855,
          -0.07709102985984143,
          -0.3525739099833537,
          -0.3630553683078324,
          -0.1415042083014232,
          -0.25762854670291585,
          3.2482087988093715,
          -0.2916444254597642,
          0.2047153180248809,
          -0.382437490169326,
          -0.2207876248622928,
          -0.3090188716777268,
          -0.41242236683719,
          -0.38178470759431005,
          0.3848983263955647,
          -0.06446185861842019,
          -0.37240082806281494,
          -0.43748631707129176,
          -0.2223199533763891,
          -0.33736519865411324,
          -0.3028367158236098,
          -0.14087443845019326,
          -0.3740173086444194,
          -0.34936549830244995,
          -0.37649721611591075,
          -0.37382123530783684,
          -0.12979987437335463,
          -0.2666322066547597,
          -0.13089393610840383,
          -0.34126651917446216,
          -0.135809325950618,
          -0.3720671284011873,
          -0.3107138459728521,
          -0.13293629470387558,
          2.278213735655075,
          -0.3694605275414934,
          0.6993624864586447,
          -0.37621563601500757,
          -0.415711029234238,
          -0.37241380930643836,
          -0.37323795803938187,
          -0.14019516435087345,
          -0.41337612511718247,
          -0.3078648064392297,
          0.36202334654760504,
          -0.12926944917553485,
          -0.38155572390697806,
          -0.3718245092835688,
          -0.41502131092336125,
          -0.28846418358766845,
          -0.13157990731795352,
          0.8511965994897599,
          -0.1287683842509349,
          1.6161652859574411,
          0.4161089979456951,
          -0.29294038108141235,
          -0.3938931586983563,
          -0.18067400251723342,
          -0.2172428472976099,
          -0.1344363471077938,
          2.991666333446155,
          -0.4247134978734667,
          0.39944654090131504,
          -0.3789929481514045,
          -0.3336493537019493,
          3.268547536682131,
          -0.3829553731434883,
          -0.15968830592972924,
          -0.3414306328744641,
          -0.12306273230004233,
          -0.1635887306172037,
          -0.3087377033453726,
          -0.13330972791053142,
          -0.14311630739228515,
          -0.13192007298539554,
          -0.2599028958493324,
          -0.3474529145512446,
          -0.3882293835728465,
          0.20011465477335283,
          3.6408410416597823,
          -0.15905139593399104,
          -0.05714505162201788,
          -0.26954714018585424,
          3.001526586360028,
          -0.20660082735072938,
          -0.14880358833683888,
          -0.14344746352264032,
          -0.3469193080846991,
          -0.35239866733141584,
          -0.30500807874040925,
          -0.1488502421833269,
          -0.15557012996595482,
          0.014101008145033178,
          -0.13120709226544444,
          -0.18567280501460764,
          -0.1600232059053632,
          -0.13536929519783322,
          -0.4138458170859077,
          -0.04156086793754531,
          -0.14097214194321425,
          0.1986948259030214,
          4.00302627518349,
          -0.3054919456728472,
          0.39310939343094325,
          -0.3455386376803232,
          -0.1320104036232635,
          -0.14880357048895368,
          -0.30794698823003863,
          -0.4423137802193306,
          0.1961190467769712,
          -0.3736010598103556,
          -0.132009212967854,
          -0.17941794605924896,
          -0.01191464335654592,
          -0.3506330506478963,
          2.9920520522982246,
          -0.4139530402561955,
          -0.14067536156219898,
          2.9902485593887356,
          -0.24699749516044134,
          -0.22994768565234902,
          -0.14880392614991506,
          -0.1423093869710194,
          -0.4386038891575153,
          0.6389629136783715,
          -0.37964765768549885
         ]
        }
       ],
       "layout": {
        "autosize": true,
        "coloraxis": {
         "colorbar": {
          "title": {
           "text": "class"
          }
         },
         "colorscale": [
          [
           0,
           "#0d0887"
          ],
          [
           0.1111111111111111,
           "#46039f"
          ],
          [
           0.2222222222222222,
           "#7201a8"
          ],
          [
           0.3333333333333333,
           "#9c179e"
          ],
          [
           0.4444444444444444,
           "#bd3786"
          ],
          [
           0.5555555555555556,
           "#d8576b"
          ],
          [
           0.6666666666666666,
           "#ed7953"
          ],
          [
           0.7777777777777778,
           "#fb9f3a"
          ],
          [
           0.8888888888888888,
           "#fdca26"
          ],
          [
           1,
           "#f0f921"
          ]
         ]
        },
        "legend": {
         "tracegroupgap": 0
        },
        "margin": {
         "t": 60
        },
        "scene": {
         "aspectmode": "auto",
         "aspectratio": {
          "x": 1.4105592672459508,
          "y": 0.4746368806899817,
          "z": 1.4936442807771688
         },
         "camera": {
          "center": {
           "x": 0,
           "y": 0,
           "z": 0
          },
          "eye": {
           "x": 0.12350102473674163,
           "y": 1.8649268966597607,
           "z": 1.0928381247943215
          },
          "projection": {
           "type": "perspective"
          },
          "up": {
           "x": 0,
           "y": 0,
           "z": 1
          }
         },
         "domain": {
          "x": [
           0,
           1
          ],
          "y": [
           0,
           1
          ]
         },
         "xaxis": {
          "title": {
           "text": "PC 3"
          },
          "type": "linear"
         },
         "yaxis": {
          "title": {
           "text": "PC 2"
          },
          "type": "linear"
         },
         "zaxis": {
          "title": {
           "text": "PC 1"
          },
          "type": "linear"
         }
        },
        "template": {
         "data": {
          "bar": [
           {
            "error_x": {
             "color": "#2a3f5f"
            },
            "error_y": {
             "color": "#2a3f5f"
            },
            "marker": {
             "line": {
              "color": "#E5ECF6",
              "width": 0.5
             }
            },
            "type": "bar"
           }
          ],
          "barpolar": [
           {
            "marker": {
             "line": {
              "color": "#E5ECF6",
              "width": 0.5
             }
            },
            "type": "barpolar"
           }
          ],
          "carpet": [
           {
            "aaxis": {
             "endlinecolor": "#2a3f5f",
             "gridcolor": "white",
             "linecolor": "white",
             "minorgridcolor": "white",
             "startlinecolor": "#2a3f5f"
            },
            "baxis": {
             "endlinecolor": "#2a3f5f",
             "gridcolor": "white",
             "linecolor": "white",
             "minorgridcolor": "white",
             "startlinecolor": "#2a3f5f"
            },
            "type": "carpet"
           }
          ],
          "choropleth": [
           {
            "colorbar": {
             "outlinewidth": 0,
             "ticks": ""
            },
            "type": "choropleth"
           }
          ],
          "contour": [
           {
            "colorbar": {
             "outlinewidth": 0,
             "ticks": ""
            },
            "colorscale": [
             [
              0,
              "#0d0887"
             ],
             [
              0.1111111111111111,
              "#46039f"
             ],
             [
              0.2222222222222222,
              "#7201a8"
             ],
             [
              0.3333333333333333,
              "#9c179e"
             ],
             [
              0.4444444444444444,
              "#bd3786"
             ],
             [
              0.5555555555555556,
              "#d8576b"
             ],
             [
              0.6666666666666666,
              "#ed7953"
             ],
             [
              0.7777777777777778,
              "#fb9f3a"
             ],
             [
              0.8888888888888888,
              "#fdca26"
             ],
             [
              1,
              "#f0f921"
             ]
            ],
            "type": "contour"
           }
          ],
          "contourcarpet": [
           {
            "colorbar": {
             "outlinewidth": 0,
             "ticks": ""
            },
            "type": "contourcarpet"
           }
          ],
          "heatmap": [
           {
            "colorbar": {
             "outlinewidth": 0,
             "ticks": ""
            },
            "colorscale": [
             [
              0,
              "#0d0887"
             ],
             [
              0.1111111111111111,
              "#46039f"
             ],
             [
              0.2222222222222222,
              "#7201a8"
             ],
             [
              0.3333333333333333,
              "#9c179e"
             ],
             [
              0.4444444444444444,
              "#bd3786"
             ],
             [
              0.5555555555555556,
              "#d8576b"
             ],
             [
              0.6666666666666666,
              "#ed7953"
             ],
             [
              0.7777777777777778,
              "#fb9f3a"
             ],
             [
              0.8888888888888888,
              "#fdca26"
             ],
             [
              1,
              "#f0f921"
             ]
            ],
            "type": "heatmap"
           }
          ],
          "heatmapgl": [
           {
            "colorbar": {
             "outlinewidth": 0,
             "ticks": ""
            },
            "colorscale": [
             [
              0,
              "#0d0887"
             ],
             [
              0.1111111111111111,
              "#46039f"
             ],
             [
              0.2222222222222222,
              "#7201a8"
             ],
             [
              0.3333333333333333,
              "#9c179e"
             ],
             [
              0.4444444444444444,
              "#bd3786"
             ],
             [
              0.5555555555555556,
              "#d8576b"
             ],
             [
              0.6666666666666666,
              "#ed7953"
             ],
             [
              0.7777777777777778,
              "#fb9f3a"
             ],
             [
              0.8888888888888888,
              "#fdca26"
             ],
             [
              1,
              "#f0f921"
             ]
            ],
            "type": "heatmapgl"
           }
          ],
          "histogram": [
           {
            "marker": {
             "colorbar": {
              "outlinewidth": 0,
              "ticks": ""
             }
            },
            "type": "histogram"
           }
          ],
          "histogram2d": [
           {
            "colorbar": {
             "outlinewidth": 0,
             "ticks": ""
            },
            "colorscale": [
             [
              0,
              "#0d0887"
             ],
             [
              0.1111111111111111,
              "#46039f"
             ],
             [
              0.2222222222222222,
              "#7201a8"
             ],
             [
              0.3333333333333333,
              "#9c179e"
             ],
             [
              0.4444444444444444,
              "#bd3786"
             ],
             [
              0.5555555555555556,
              "#d8576b"
             ],
             [
              0.6666666666666666,
              "#ed7953"
             ],
             [
              0.7777777777777778,
              "#fb9f3a"
             ],
             [
              0.8888888888888888,
              "#fdca26"
             ],
             [
              1,
              "#f0f921"
             ]
            ],
            "type": "histogram2d"
           }
          ],
          "histogram2dcontour": [
           {
            "colorbar": {
             "outlinewidth": 0,
             "ticks": ""
            },
            "colorscale": [
             [
              0,
              "#0d0887"
             ],
             [
              0.1111111111111111,
              "#46039f"
             ],
             [
              0.2222222222222222,
              "#7201a8"
             ],
             [
              0.3333333333333333,
              "#9c179e"
             ],
             [
              0.4444444444444444,
              "#bd3786"
             ],
             [
              0.5555555555555556,
              "#d8576b"
             ],
             [
              0.6666666666666666,
              "#ed7953"
             ],
             [
              0.7777777777777778,
              "#fb9f3a"
             ],
             [
              0.8888888888888888,
              "#fdca26"
             ],
             [
              1,
              "#f0f921"
             ]
            ],
            "type": "histogram2dcontour"
           }
          ],
          "mesh3d": [
           {
            "colorbar": {
             "outlinewidth": 0,
             "ticks": ""
            },
            "type": "mesh3d"
           }
          ],
          "parcoords": [
           {
            "line": {
             "colorbar": {
              "outlinewidth": 0,
              "ticks": ""
             }
            },
            "type": "parcoords"
           }
          ],
          "pie": [
           {
            "automargin": true,
            "type": "pie"
           }
          ],
          "scatter": [
           {
            "marker": {
             "colorbar": {
              "outlinewidth": 0,
              "ticks": ""
             }
            },
            "type": "scatter"
           }
          ],
          "scatter3d": [
           {
            "line": {
             "colorbar": {
              "outlinewidth": 0,
              "ticks": ""
             }
            },
            "marker": {
             "colorbar": {
              "outlinewidth": 0,
              "ticks": ""
             }
            },
            "type": "scatter3d"
           }
          ],
          "scattercarpet": [
           {
            "marker": {
             "colorbar": {
              "outlinewidth": 0,
              "ticks": ""
             }
            },
            "type": "scattercarpet"
           }
          ],
          "scattergeo": [
           {
            "marker": {
             "colorbar": {
              "outlinewidth": 0,
              "ticks": ""
             }
            },
            "type": "scattergeo"
           }
          ],
          "scattergl": [
           {
            "marker": {
             "colorbar": {
              "outlinewidth": 0,
              "ticks": ""
             }
            },
            "type": "scattergl"
           }
          ],
          "scattermapbox": [
           {
            "marker": {
             "colorbar": {
              "outlinewidth": 0,
              "ticks": ""
             }
            },
            "type": "scattermapbox"
           }
          ],
          "scatterpolar": [
           {
            "marker": {
             "colorbar": {
              "outlinewidth": 0,
              "ticks": ""
             }
            },
            "type": "scatterpolar"
           }
          ],
          "scatterpolargl": [
           {
            "marker": {
             "colorbar": {
              "outlinewidth": 0,
              "ticks": ""
             }
            },
            "type": "scatterpolargl"
           }
          ],
          "scatterternary": [
           {
            "marker": {
             "colorbar": {
              "outlinewidth": 0,
              "ticks": ""
             }
            },
            "type": "scatterternary"
           }
          ],
          "surface": [
           {
            "colorbar": {
             "outlinewidth": 0,
             "ticks": ""
            },
            "colorscale": [
             [
              0,
              "#0d0887"
             ],
             [
              0.1111111111111111,
              "#46039f"
             ],
             [
              0.2222222222222222,
              "#7201a8"
             ],
             [
              0.3333333333333333,
              "#9c179e"
             ],
             [
              0.4444444444444444,
              "#bd3786"
             ],
             [
              0.5555555555555556,
              "#d8576b"
             ],
             [
              0.6666666666666666,
              "#ed7953"
             ],
             [
              0.7777777777777778,
              "#fb9f3a"
             ],
             [
              0.8888888888888888,
              "#fdca26"
             ],
             [
              1,
              "#f0f921"
             ]
            ],
            "type": "surface"
           }
          ],
          "table": [
           {
            "cells": {
             "fill": {
              "color": "#EBF0F8"
             },
             "line": {
              "color": "white"
             }
            },
            "header": {
             "fill": {
              "color": "#C8D4E3"
             },
             "line": {
              "color": "white"
             }
            },
            "type": "table"
           }
          ]
         },
         "layout": {
          "annotationdefaults": {
           "arrowcolor": "#2a3f5f",
           "arrowhead": 0,
           "arrowwidth": 1
          },
          "coloraxis": {
           "colorbar": {
            "outlinewidth": 0,
            "ticks": ""
           }
          },
          "colorscale": {
           "diverging": [
            [
             0,
             "#8e0152"
            ],
            [
             0.1,
             "#c51b7d"
            ],
            [
             0.2,
             "#de77ae"
            ],
            [
             0.3,
             "#f1b6da"
            ],
            [
             0.4,
             "#fde0ef"
            ],
            [
             0.5,
             "#f7f7f7"
            ],
            [
             0.6,
             "#e6f5d0"
            ],
            [
             0.7,
             "#b8e186"
            ],
            [
             0.8,
             "#7fbc41"
            ],
            [
             0.9,
             "#4d9221"
            ],
            [
             1,
             "#276419"
            ]
           ],
           "sequential": [
            [
             0,
             "#0d0887"
            ],
            [
             0.1111111111111111,
             "#46039f"
            ],
            [
             0.2222222222222222,
             "#7201a8"
            ],
            [
             0.3333333333333333,
             "#9c179e"
            ],
            [
             0.4444444444444444,
             "#bd3786"
            ],
            [
             0.5555555555555556,
             "#d8576b"
            ],
            [
             0.6666666666666666,
             "#ed7953"
            ],
            [
             0.7777777777777778,
             "#fb9f3a"
            ],
            [
             0.8888888888888888,
             "#fdca26"
            ],
            [
             1,
             "#f0f921"
            ]
           ],
           "sequentialminus": [
            [
             0,
             "#0d0887"
            ],
            [
             0.1111111111111111,
             "#46039f"
            ],
            [
             0.2222222222222222,
             "#7201a8"
            ],
            [
             0.3333333333333333,
             "#9c179e"
            ],
            [
             0.4444444444444444,
             "#bd3786"
            ],
            [
             0.5555555555555556,
             "#d8576b"
            ],
            [
             0.6666666666666666,
             "#ed7953"
            ],
            [
             0.7777777777777778,
             "#fb9f3a"
            ],
            [
             0.8888888888888888,
             "#fdca26"
            ],
            [
             1,
             "#f0f921"
            ]
           ]
          },
          "colorway": [
           "#636efa",
           "#EF553B",
           "#00cc96",
           "#ab63fa",
           "#FFA15A",
           "#19d3f3",
           "#FF6692",
           "#B6E880",
           "#FF97FF",
           "#FECB52"
          ],
          "font": {
           "color": "#2a3f5f"
          },
          "geo": {
           "bgcolor": "white",
           "lakecolor": "white",
           "landcolor": "#E5ECF6",
           "showlakes": true,
           "showland": true,
           "subunitcolor": "white"
          },
          "hoverlabel": {
           "align": "left"
          },
          "hovermode": "closest",
          "mapbox": {
           "style": "light"
          },
          "paper_bgcolor": "white",
          "plot_bgcolor": "#E5ECF6",
          "polar": {
           "angularaxis": {
            "gridcolor": "white",
            "linecolor": "white",
            "ticks": ""
           },
           "bgcolor": "#E5ECF6",
           "radialaxis": {
            "gridcolor": "white",
            "linecolor": "white",
            "ticks": ""
           }
          },
          "scene": {
           "xaxis": {
            "backgroundcolor": "#E5ECF6",
            "gridcolor": "white",
            "gridwidth": 2,
            "linecolor": "white",
            "showbackground": true,
            "ticks": "",
            "zerolinecolor": "white"
           },
           "yaxis": {
            "backgroundcolor": "#E5ECF6",
            "gridcolor": "white",
            "gridwidth": 2,
            "linecolor": "white",
            "showbackground": true,
            "ticks": "",
            "zerolinecolor": "white"
           },
           "zaxis": {
            "backgroundcolor": "#E5ECF6",
            "gridcolor": "white",
            "gridwidth": 2,
            "linecolor": "white",
            "showbackground": true,
            "ticks": "",
            "zerolinecolor": "white"
           }
          },
          "shapedefaults": {
           "line": {
            "color": "#2a3f5f"
           }
          },
          "ternary": {
           "aaxis": {
            "gridcolor": "white",
            "linecolor": "white",
            "ticks": ""
           },
           "baxis": {
            "gridcolor": "white",
            "linecolor": "white",
            "ticks": ""
           },
           "bgcolor": "#E5ECF6",
           "caxis": {
            "gridcolor": "white",
            "linecolor": "white",
            "ticks": ""
           }
          },
          "title": {
           "x": 0.05
          },
          "xaxis": {
           "automargin": true,
           "gridcolor": "white",
           "linecolor": "white",
           "ticks": "",
           "title": {
            "standoff": 15
           },
           "zerolinecolor": "white",
           "zerolinewidth": 2
          },
          "yaxis": {
           "automargin": true,
           "gridcolor": "white",
           "linecolor": "white",
           "ticks": "",
           "title": {
            "standoff": 15
           },
           "zerolinecolor": "white",
           "zerolinewidth": 2
          }
         }
        }
       }
      },
      "image/png": "[encoded data removed]",
      "text/html": [
       "<div>\n",
       "        \n",
       "        \n",
       "            <div id=\"3dfbed4a-b895-4446-884e-af49280ccd9e\" class=\"plotly-graph-div\" style=\"height:525px; width:800px;\"></div>\n",
       "            <script type=\"text/javascript\">\n",
       "                require([\"plotly\"], function(Plotly) {\n",
       "                    window.PLOTLYENV=window.PLOTLYENV || {};\n",
       "                    \n",
       "                if (document.getElementById(\"3dfbed4a-b895-4446-884e-af49280ccd9e\")) {\n",
       "                    Plotly.newPlot(\n",
       "                        '3dfbed4a-b895-4446-884e-af49280ccd9e',\n",
       "                        [{\"customdata\": [[\"Scrypt\"], [\"Scrypt\"], [\"X13\"], [\"SHA-256\"], [\"SHA-256\"], [\"Scrypt\"], [\"X15\"], [\"Scrypt\"], [\"Scrypt\"], [\"Multiple\"], [\"Scrypt\"], [\"SHA-256\"], [\"Scrypt\"], [\"Scrypt\"], [\"Scrypt\"], [\"Quark\"], [\"Groestl\"], [\"Scrypt\"], [\"Scrypt\"], [\"Scrypt\"], [\"Scrypt\"], [\"Scrypt\"], [\"X11\"], [\"Groestl\"], [\"SHA-256\"], [\"Scrypt\"], [\"Scrypt\"], [\"Scrypt\"], [\"PoS\"], [\"Scrypt\"], [\"Scrypt\"], [\"Scrypt\"], [\"Scrypt\"], [\"Scrypt\"], [\"Scrypt\"], [\"X11\"], [\"Scrypt\"], [\"SHA-256\"], [\"Scrypt\"], [\"Scrypt\"], [\"Scrypt\"], [\"SHA3\"], [\"HybridScryptHash256\"], [\"Scrypt\"], [\"SHA-256\"], [\"Scrypt\"], [\"Scrypt\"], [\"Scrypt\"], [\"NeoScrypt\"], [\"Scrypt\"], [\"Scrypt\"], [\"Scrypt\"], [\"Scrypt\"], [\"X11\"], [\"X11\"], [\"Multiple\"], [\"SHA-256\"], [\"X11\"], [\"SHA-256\"], [\"SHA-256\"], [\"SHA-256\"], [\"X11\"], [\"Scrypt\"], [\"Scrypt\"], [\"Scrypt\"], [\"Scrypt\"], [\"X11\"], [\"Multiple\"], [\"SHA-256\"], [\"X13\"], [\"Scrypt\"], [\"Counterparty\"], [\"Scrypt\"], [\"SHA-256\"], [\"Scrypt\"], [\"Scrypt\"], [\"X13\"], [\"Scrypt\"], [\"Scrypt\"], [\"Scrypt\"], [\"Scrypt\"], [\"X13\"], [\"Multiple\"], [\"Scrypt\"], [\"Scrypt\"], [\"X13\"], [\"Stanford Folding\"], [\"Scrypt\"], [\"X11\"], [\"X11\"], [\"Multiple\"], [\"QuBit\"], [\"NeoScrypt\"], [\"Scrypt\"], [\"NeoScrypt\"], [\"Blake\"], [\"Scrypt\"], [\"Scrypt\"], [\"SHA-256\"], [\"Scrypt\"], [\"Scrypt\"], [\"X11\"], [\"Scrypt\"], [\"M7 POW\"], [\"Scrypt\"], [\"Scrypt\"], [\"SHA-256\"], [\"Scrypt\"], [\"X11\"], [\"Scrypt\"], [\"Scrypt\"], [\"X11\"], [\"Lyra2RE\"], [\"SHA-256\"], [\"QUAIT\"], [\"X11\"], [\"SHA-256\"], [\"X11\"], [\"X11\"], [\"Scrypt\"], [\"Scrypt\"], [\"Scrypt\"], [\"Scrypt\"], [\"Scrypt\"], [\"X13\"], [\"X11\"], [\"Scrypt\"], [\"PoS\"], [\"X15\"], [\"X11\"], [\"SHA-256\"], [\"Scrypt\"], [\"X11\"], [\"SHA-256\"], [\"Scrypt\"], [\"1GB AES Pattern Search\"], [\"SHA-256\"], [\"X11\"], [\"SHA-256\"], [\"Scrypt\"], [\"SHA-256\"], [\"NIST5\"], [\"Scrypt\"], [\"X11\"], [\"Scrypt\"], [\"Dagger\"], [\"Scrypt\"], [\"X11\"], [\"Scrypt\"], [\"SHA-256\"], [\"PoS\"], [\"Scrypt\"], [\"X11\"], [\"X11\"], [\"SHA-256\"], [\"POS 3.0\"], [\"Scrypt\"], [\"Scrypt\"], [\"X11\"], [\"X11\"], [\"Scrypt\"], [\"CryptoNight\"], [\"SHA-256\"], [\"SHA-256\"], [\"X11\"], [\"Scrypt\"], [\"Multiple\"], [\"Scrypt\"], [\"Scrypt\"], [\"Scrypt\"], [\"SHA-256\"], [\"Scrypt\"], [\"Scrypt\"], [\"SHA-256D\"], [\"PoS\"], [\"Scrypt\"], [\"X11\"], [\"PoS\"], [\"X13\"], [\"X14\"], [\"PoS\"], [\"Ethash\"], [\"Equihash\"], [\"X11\"], [\"Scrypt\"], [\"X11\"], [\"X13\"], [\"X11\"], [\"PoS\"], [\"Scrypt\"], [\"Scrypt\"], [\"X11\"], [\"PoS\"], [\"X11\"], [\"SHA-256\"], [\"Scrypt\"], [\"X11\"], [\"Scrypt\"], [\"Scrypt\"], [\"X11\"], [\"CryptoNight\"], [\"Scrypt\"], [\"Scrypt\"], [\"Scrypt\"], [\"Scrypt\"], [\"QuBit\"], [\"Scrypt\"], [\"CryptoNight\"], [\"Lyra2RE\"], [\"Scrypt\"], [\"SHA-256\"], [\"X11\"], [\"Scrypt\"], [\"Scrypt\"], [\"CryptoNight-V7\"], [\"Scrypt\"], [\"Scrypt\"], [\"Scrypt\"], [\"X13\"], [\"X11\"], [\"Equihash\"], [\"Scrypt\"], [\"Scrypt\"], [\"Lyra2RE\"], [\"Scrypt\"], [\"Dagger-Hashimoto\"], [\"X11\"], [\"Blake2S\"], [\"X11\"], [\"Scrypt\"], [\"PoS\"], [\"X11\"], [\"NIST5\"], [\"PoS\"], [\"X11\"], [\"Scrypt\"], [\"Scrypt\"], [\"Scrypt\"], [\"SHA-256\"], [\"X11\"], [\"Scrypt\"], [\"Scrypt\"], [\"Scrypt\"], [\"SHA-256\"], [\"PoS\"], [\"Scrypt\"], [\"X15\"], [\"SHA-256\"], [\"Scrypt\"], [\"X11\"], [\"536\"], [\"Argon2d\"], [\"Cloverhash\"], [\"CryptoNight\"], [\"X11\"], [\"NIST5\"], [\"Skein\"], [\"Scrypt\"], [\"X13\"], [\"Scrypt\"], [\"X11\"], [\"X11\"], [\"Scrypt\"], [\"Ethash\"], [\"CryptoNight\"], [\"X13\"], [\"Time Travel\"], [\"Scrypt\"], [\"SkunkHash v2 Raptor\"], [\"X11\"], [\"Skein\"], [\"X11\"], [\"Scrypt\"], [\"Scrypt\"], [\"DPoS\"], [\"Scrypt\"], [\"Scrypt\"], [\"Scrypt\"], [\"X11\"], [\"Equihash\"], [\"NeoScrypt\"], [\"X11\"], [\"Scrypt\"], [\"NeoScrypt\"], [\"Lyra2REv2\"], [\"NIST5\"], [\"PHI1612\"], [\"Quark\"], [\"Scrypt\"], [\"NeoScrypt\"], [\"SHA-256\"], [\"X11\"], [\"DPoS\"], [\"Multiple\"], [\"Scrypt\"], [\"CryptoNight\"], [\"SHA-256\"], [\"NIST5\"], [\"Quark\"], [\"X11\"], [\"CryptoNight-V7\"], [\"Scrypt\"], [\"Scrypt\"], [\"Scrypt\"], [\"BLAKE256\"], [\"X11\"], [\"NeoScrypt\"], [\"Quark\"], [\"NeoScrypt\"], [\"Scrypt\"], [\"Scrypt\"], [\"Scrypt\"], [\"X11\"], [\"SHA-256\"], [\"C11\"], [\"POS 3.0\"], [\"Ethash\"], [\"CryptoNight\"], [\"SkunkHash\"], [\"Scrypt\"], [\"Lyra2REv2\"], [\"X13\"], [\"Proof-of-BibleHash\"], [\"SHA-256 + Hive\"], [\"Scrypt\"], [\"DPoS\"], [\"Scrypt\"], [\"X11\"], [\"C11\"], [\"X11\"], [\"XEVAN\"], [\"Scrypt\"], [\"Ethash\"], [\"CryptoNight\"], [\"Scrypt\"], [\"IMesh\"], [\"NIST5\"], [\"Scrypt\"], [\"Scrypt\"], [\"Scrypt\"], [\"Lyra2Z\"], [\"Scrypt\"], [\"X11\"], [\"CryptoNight\"], [\"X16R\"], [\"Scrypt\"], [\"NIST5\"], [\"XEVAN\"], [\"Scrypt\"], [\"CryptoNight\"], [\"CryptoNight\"], [\"SHA-256D\"], [\"CryptoNight\"], [\"Scrypt\"], [\"X15\"], [\"SHA-256\"], [\"X16R\"], [\"HMQ1725\"], [\"X11\"], [\"Quark\"], [\"Scrypt\"], [\"CryptoNight-V7\"], [\"XEVAN\"], [\"CryptoNight Heavy\"], [\"PoS\"], [\"SHA-256\"], [\"X16R\"], [\"Equihash\"], [\"XEVAN\"], [\"SHA-256\"], [\"XEVAN\"], [\"SHA3-256\"], [\"X11\"], [\"CryptoNight\"], [\"Quark\"], [\"Blake\"], [\"Blake\"], [\"Equihash\"], [\"Exosis\"], [\"Scrypt\"], [\"Equihash\"], [\"TRC10\"], [\"Quark\"], [\"Equihash\"], [\"Quark\"], [\"Scrypt\"], [\"Lyra2REv2\"], [\"QuBit\"], [\"Equihash+Scrypt\"], [\"Scrypt\"], [\"PHI2\"], [\"XEVAN\"], [\"SHA-256D\"], [\"SHA-256\"], [\"X13\"], [\"CryptoNight\"], [\"Quark\"], [\"Cryptonight Haven\"], [\"Quark\"], [\"Quark\"], [\"Scrypt\"], [\"Multiple\"], [\"Scrypt\"], [\"VeChainThor Authority\"], [\"X11\"], [\"X13\"], [\"PoS\"], [\"Scrypt\"], [\"Scrypt\"], [\"X11\"], [\"CryptoNight\"], [\"Scrypt\"], [\"SHA-512\"], [\"Scrypt\"], [\"Scrypt\"], [\"SHA-256\"], [\"Dagger\"], [\"Scrypt\"], [\"NIST5\"], [\"Ethash\"], [\"Scrypt\"], [\"Semux BFT consensus\"], [\"SHA-256\"], [\"NIST5\"], [\"PoS\"], [\"X11\"], [\"Scrypt\"], [\"Quark\"], [\"PoS\"], [\"CryptoNight\"], [\"Ethash\"], [\"X11\"], [\"ProgPowZ\"], [\"Quark\"], [\"Scrypt\"], [\"SHA-256\"], [\"Tribus\"], [\"Quark\"], [\"Scrypt\"], [\"SkunkHash v2 Raptor\"], [\"Quark\"], [\"X11\"], [\"X13\"], [\"Equihash\"], [\"SHA-256\"], [\"CryptoNight-Heavy\"], [\"X11\"], [\"Scrypt\"], [\"Jump Consistent Hash\"], [\"Scrypt\"], [\"Quark\"], [\"DPoS\"], [\"X16R\"], [\"Quark\"], [\"Lyra2REv2\"], [\"Quark\"], [\"Cryptonight-GPU\"], [\"X11\"], [\"Scrypt\"], [\"X11\"], [\"Scrypt\"], [\"PoS\"], [\"X11\"], [\"Quark\"], [\"SHA-256D\"], [\"RandomX\"], [\"DPoS\"], [\"Equihash\"], [\"Scrypt\"], [\"Eaglesong\"], [\"SHA-512\"], [\"ECC 256K1\"], [\"X11\"], [\"X11\"], [\"C31\"], [\"DPoS\"], [\"HEX\"], [\"Dagger\"], [\"Groestl\"], [\"SHA-256\"], [\"Ed25519\"], [\"Green Protocol\"], [\"Scrypt\"], [\"Scrypt\"], [\"SHA-256\"], [\"NeoScrypt\"], [\"X13\"], [\"CryptoNight-V7\"], [\"Scrypt\"], [\"Equihash\"], [\"BMW512 / Echo512\"], [\"Scrypt\"], [\"PoS\"], [\"Equihash210,9\"], [\"VeChainThor Authority\"], [\"Scrypt\"], [\"BLAKE256\"], [\"SHA-512\"], [\"DPoS\"], [\"Dagger\"], [\"SHA-256\"], [\"Ethash\"], [\"Scrypt\"], [\"Scrypt\"], [\"X13\"], [\"SHA-256\"], [\"Scrypt\"], [\"Scrypt\"], [\"X11GOST\"], [\"Groestl\"], [\"Scrypt\"], [\"SHA-256\"], [\"X11\"], [\"Keccak\"], [\"Lyra2Z\"], [\"Multiple\"], [\"CryptoNight\"], [\"Shabal256\"], [\"Blake2b\"], [\"Proof-of-Authority\"], [\"Equihash\"], [\"SHA-256\"], [\"X13\"], [\"SHA3\"], [\"Multiple\"], [\"POS 3.0\"], [\"Equihash\"], [\"Lyra2REv2\"], [\"Blake2b\"], [\"VBFT\"], [\"DPoS\"], [\"X11\"], [\"Ethash\"], [\"DPoS\"], [\"Equihash\"], [\"PoS\"], [\"SHA-256\"], [\"Ethash\"], [\"Leased POS\"], [\"Ouroboros\"], [\"Loopchain\"]], \"hovertemplate\": \"<b>%{hovertext}</b><br><br>PC 3=%{x}<br>PC 2=%{y}<br>PC 1=%{z}<br>Algorithm=%{customdata[0]}<br>class=%{marker.color}<extra></extra>\", \"hovertext\": [\"42 Coin\", \"404Coin\", \"EliteCoin\", \"BitcoinDark\", \"PayCoin\", \"ProsperCoin\", \"KoboCoin\", \"Argentum\", \"BlueCoin\", \"MyriadCoin\", \"MoonCoin\", \"ZetaCoin\", \"SexCoin\", \"Quatloo\", \"EnergyCoin\", \"QuarkCoin\", \"Riecoin\", \"Digitalcoin \", \"BitBar\", \"Catcoin\", \"CryptoBullion\", \"CannaCoin\", \"CryptCoin\", \"Diamond\", \"DevCoin\", \"EarthCoin\", \"E-Gulden\", \"Emerald\", \"Exclusive Coin\", \"FlutterCoin\", \"Franko\", \"GrandCoin\", \"GlobalCoin\", \"GoldCoin\", \"HoboNickels\", \"HyperStake\", \"Infinite Coin\", \"IXcoin\", \"KrugerCoin\", \"LuckyCoin\", \"Litebar \", \"MaxCoin\", \"MediterraneanCoin\", \"MintCoin\", \"MazaCoin\", \"Nautilus Coin\", \"NobleCoin\", \"NyanCoin\", \"Orbitcoin\", \"PhoenixCoin\", \"RonPaulCoin\", \"StableCoin\", \"SmartCoin\", \"SuperCoin\", \"SyncCoin\", \"TeslaCoin\", \"TigerCoin\", \"TorCoin\", \"TerraCoin\", \"UnbreakableCoin\", \"Unobtanium\", \"UroCoin\", \"UnitaryStatus Dollar\", \"UltraCoin\", \"VeriCoin\", \"WorldCoin\", \"X11 Coin\", \"Crypti\", \"JouleCoin\", \"StealthCoin\", \"ZCC Coin\", \"StorjCoin\", \"MonaCoin\", \"Neutron\", \"RubyCoin\", \"PesetaCoin\", \"Kore\", \"Wild Beast Coin\", \"Dnotes\", \"Flo\", \"8BIT Coin\", \"Sativa Coin\", \"JoinCoin\", \"ArtByte\", \"LiteDoge\", \"Triangles Coin\", \"Folding Coin\", \"SolarCoin\", \"TruckCoin\", \"Ucoin\", \"Unitus\", \"CypherPunkCoin\", \"UFO Coin\", \"OrangeCoin\", \"FriendshipCoin\", \"BlakeCoin\", \"OmniCron\", \"BitstarCoin\", \"NeosCoin\", \"HyperCoin\", \"Vtorrent\", \"PinkCoin\", \"GreenCoin\", \"Cryptonite\", \"BitcoinPlus\", \"MasterCoin\", \"SoonCoin\", \"1Credit\", \"IslaCoin\", \"Crypto Escudo\", \"AudioCoin\", \"MarsCoin \", \"Crypto\", \"Anarchists Prime\", \"Droidz\", \"BowsCoin\", \"IncaKoin\", \"Squall Coin\", \"Piggy Coin\", \"Song Coin\", \"SmileyCoin\", \"BitZeny\", \"Diggits\", \"XiaoMiCoin\", \"Paycon\", \"CapriCoin\", \" ClubCoin\", \"Radium\", \"EverGreenCoin\", \"MindCoin\", \"I0coin\", \"Pakcoin\", \"Creditbit \", \"OKCash\", \"Revolution VR\", \"HOdlcoin\", \"EDRCoin\", \"Hitcoin\", \"DubaiCoin\", \"HiCoin\", \"CarpeDiemCoin\", \"PWR Coin\", \"BillaryCoin\", \"Influxcoin\", \"Gapcoin\", \"SoilCoin\", \"YoCoin\", \"EuropeCoin\", \"ZeitCoin\", \"SwingCoin\", \"Nebuchadnezzar\", \"Francs\", \"BolivarCoin\", \"Ratecoin\", \"Clockcoin\", \"Let it Ride\", \"iBankCoin\", \"Frankywillcoin\", \"Lutetium Coin\", \"GoldBlocks\", \"CarterCoin\", \"Karbo\", \"BitTokens\", \"ZayedCoin\", \"MustangCoin\", \"ZoneCoin\", \"Circuits of Value\", \"RootCoin\", \"DopeCoin\", \"BitCurrency\", \"DollarCoin\", \"Swiscoin\", \"Shilling\", \"BuzzCoin\", \"Opair\", \"PesoBit\", \"Halloween Coin\", \"CoffeeCoin\", \"RoyalCoin\", \"GanjaCoin V2\", \"TeamUP\", \"Elementrem\", \"ZClassic\", \"InsaneCoin\", \"KiloCoin\", \"ArtexCoin\", \"EmberCoin\", \"XenixCoin\", \"FreeCoin\", \"PLNCoin\", \"AquariusCoin\", \"Kurrent\", \"Creatio\", \"Eternity\", \"Eurocoin\", \"BitcoinFast\", \"Stakenet\", \"BitConnect Coin\", \"MoneyCoin\", \"Enigma\", \"Cannabis Industry Coin\", \"Russiacoin\", \"PandaCoin\", \"GameUnits\", \"GAKHcoin\", \"LiteCreed\", \"OsmiumCoin\", \"Bikercoins\", \"HexxCoin\", \"Klingon Empire Darsek\", \"Internet of People\", \"KushCoin\", \"Printerium\", \"Impeach\", \"Citadel\", \"Zilbercoin\", \"FirstCoin\", \"BeaverCoin\", \"FindCoin\", \"VaultCoin\", \"Zero\", \"OpenChat\", \"Canada eCoin\", \"Zoin\", \"RenosCoin\", \"DubaiCoin\", \"VirtacoinPlus\", \"TajCoin\", \"Impact\", \"EB3coin\", \"Atmos\", \"HappyCoin\", \"Coinonat\", \"MacronCoin\", \"Condensate\", \"Independent Money System\", \"ArgusCoin\", \"LomoCoin\", \"ProCurrency\", \"GoldReserve\", \"BenjiRolls\", \"ParallelCoin\", \"GrowthCoin\", \"ILCoin\", \"Phreak\", \"Degas Coin\", \"HTML5 Coin\", \"Ultimate Secure Cash\", \"EquiTrader\", \"Insane Coin\", \"Espers\", \"Dynamic\", \"ChanCoin\", \"Dinastycoin\", \"DigitalPrice\", \"Virta Unique Coin\", \"Bitcoin Planet\", \"Unify\", \"BritCoin\", \"SocialCoin\", \"ArcticCoin\", \"DAS\", \"Metrix\", \"Reality Clash\", \"LeviarCoin\", \"DeepOnion\", \"Bitcore\", \"gCn Coin\", \"Signatum\", \"Onix\", \"Cream\", \"Monoeci\", \"Draftcoin\", \"Sojourn Coin\", \"Oxycoin\", \"Kronecoin\", \"AdCoin\", \"Ethereum Dark\", \"Regalcoin\", \"BitcoinZ\", \"TrezarCoin\", \"Elements\", \"TerraNovaCoin\", \"VIVO Coin\", \"Rupee\", \"NamoCoin\", \"LUXCoin\", \"Bitcloud 2.0\", \"BlackholeCoin\", \"Innova\", \"Zeph\", \"Magnet\", \"Lamden Tau\", \"SHIELD\", \"Cash & Back Coin\", \"UltraNote\", \"GlobalToken\", \"Bulwark\", \"Kalkulus\", \"AC3\", \"Lethean\", \"GermanCoin\", \"LiteCoin Ultra\", \"PopularCoin\", \"Photon\", \"Sucre\", \"SparksPay\", \"Digiwage\", \"GunCoin\", \"IrishCoin\", \"Trollcoin\", \"Litecoin Plus\", \"Pioneer Coin\", \"UnitedBitcoin\", \"Interzone\", \"TokenPay\", \"1717 Masonic Commemorative Token\", \"TurtleCoin\", \"MUNcoin\", \"ShareChain\", \"KREDS\", \"Tokyo Coin\", \"BiblePay\", \"LitecoinCash\", \"BitFlip\", \"ALAX\", \"LottoCoin\", \"Crypto Improvement Fund\", \"Stipend\", \"Pushi\", \"Ellerium\", \"Velox\", \"Callisto Network\", \"BitTube\", \"Poseidon\", \"Aidos Kuneen\", \"Bitspace\", \"Briacoin\", \"Ignition\", \"MedicCoin\", \"Alpenschillling\", \"Abjcoin\", \"FuturoCoin\", \"Monero Classic\", \"Proton\", \"iDealCash\", \"Jumpcoin\", \"Bitcoin Incognito\", \"HollyWoodCoin\", \"PlatinCoin\", \"Newton Coin\", \"TheVig\", \"PluraCoin\", \"EmaratCoin\", \"Dekado\", \"BitcoinWSpectrum\", \"Motion\", \"PlusOneCoin\", \"Axe\", \"Dystem\", \"TPCash\", \"Webchain\", \"Urals Coin\", \"Qwertycoin\", \"Ketan\", \"Project Pai\", \"Xchange\", \"CrypticCoin\", \"Bettex coin\", \"TigerCash\", \"BitMoney\", \"Fiii\", \"Junson Ming Chan Coin\", \"FREDEnergy\", \"Zenad\", \"Universal Molecule\", \"Lithium\", \"PirateCash\", \"Exosis\", \"Oduwa\", \"Beam\", \"BitTorrent\", \"Galilel\", \"Bithereum\", \"Crypto Sports\", \"Credit\", \"Scribe Network\", \"SLICE\", \"Vollar\", \"Nasdacoin\", \"Gexan\", \"Beetle Coin\", \"Titan Coin\", \"BLAST\", \"Bitcoin Rhodium\", \"Beldex\", \"STREAMIT COIN\", \"BLOC.MONEY\", \"Lobstex\", \"Bitcoin Turbo Koin\", \"Unified Society USDEX\", \"Crown Coin\", \"Genstake\", \"VeChain Old\", \"PizzaCoin\", \"MudraCoin\", \"Stakecoin\", \"FrazCoin\", \"Linx\", \"CoinonatX\", \"Sumokoin\", \"Omni\", \"Obsidian\", \"ATC Coin\", \"WomenCoin\", \"Theresa May Coin\", \"Pirl\", \"Xios\", \"VIP Tokens\", \"Ellaism\", \"SafeExchangeCoin\", \"Semux\", \"Kahsh\", \"Electra\", \"Particl\", \"Adzcoin\", \"GPU Coin\", \"Carebit\", \"Zealium\", \"BitCoal\", \"DaxxCoin\", \"Monkey Project\", \"Zano\", \"PEPS Coin\", \"Neetcoin\", \"Next.exchange Token\", \"KEYCO\", \"ZCore\", \"Always Evolving\", \"Dextro\", \"GOSSIP-Coin\", \"PENG\", \"X42 Protocol\", \"Bitrolium\", \"Wincash Coin\", \"Loki\", \"Reliance\", \"Xt3ch\", \"MassGrid\", \"Lynx\", \"Poseidon Quark\", \"Muse\", \"Trivechain\", \"Giant\", \"Absolute Coin\", \"Vitae\", \"Ryo\", \"EUNO\", \"MMOCoin\", \"PAC Global\", \"Graviocoin\", \"Deviant Coin\", \"PAXEX\", \"HerbCoin\", \"LanaCoin\", \"Quantum Resistant Ledger\", \"Golos\", \"Pirate Chain\", \"NewYorkCoin\", \"Nervos Network\", \"Kcash\", \"Acute Angle Cloud\", \"Rhypton Club\", \"Pura\", \"MimbleWimbleCoin\", \"ADAMANT Messenger\", \"XDNA\", \"DAPS Coin\", \"FairCoin\", \"Emercoin\", \"DDKoin\", \"BitGreen\", \"MegaCoin\", \"SoulCoin\", \"Infinity Economics\", \"FeatherCoin\", \"CloakCoin\", \"Monero\", \"Gulden\", \"Bitcoin Gold\", \"DigitalNote \", \"WhiteCoin\", \"Nxt\", \"Aion\", \"VeChain\", \"Litecoin\", \"Decred\", \"Bitshares\", \"EOS\", \"Ambrosus\", \"Bitcoin SV\", \"Expanse\", \"PotCoin\", \"Aurora Coin\", \"Bitcoin Diamond\", \"Namecoin\", \"Einsteinium\", \"Reddcoin\", \"SibCoin\", \"Groestlcoin\", \"ViaCoin\", \"SysCoin\", \"IOCoin\", \"SmartCash\", \"Zcoin\", \"Verge\", \"ByteCoin\", \"BurstCoin\", \"Siacoin\", \"Poa Network\", \"Horizen\", \"Bitcoin Cash\", \"NavCoin\", \"Nexus\", \"DigiByte\", \"QTUM\", \"ZCash\", \"Vertcoin\", \"Nano\", \"Ontology\", \"Lisk\", \"Dash\", \"Ethereum Classic\", \"ARK\", \"Komodo\", \"Steem\", \"Bitcoin\", \"Ethereum\", \"Waves\", \"Cardano\", \"ICON Project\"], \"legendgroup\": \"\", \"marker\": {\"color\": [0, 0, 0, 0, 0, 1, 0, 1, 0, 1, 1, 1, 1, 1, 0, 1, 1, 1, 0, 1, 0, 1, 1, 0, 1, 1, 1, 1, 0, 0, 1, 1, 1, 1, 0, 0, 1, 1, 1, 1, 1, 0, 1, 0, 0, 0, 1, 1, 0, 0, 1, 1, 1, 0, 0, 0, 1, 0, 1, 1, 1, 1, 0, 0, 0, 1, 0, 0, 1, 0, 0, 0, 1, 0, 0, 1, 0, 1, 0, 1, 0, 0, 1, 1, 0, 0, 1, 1, 0, 0, 1, 1, 1, 0, 0, 1, 1, 0, 0, 0, 0, 0, 1, 1, 0, 1, 1, 1, 0, 1, 0, 1, 1, 1, 0, 1, 0, 0, 0, 1, 1, 1, 0, 0, 0, 0, 0, 0, 0, 1, 1, 1, 0, 0, 1, 1, 0, 0, 0, 0, 1, 0, 0, 0, 0, 1, 1, 0, 0, 0, 0, 1, 1, 0, 0, 0, 0, 0, 0, 0, 0, 1, 0, 1, 0, 0, 1, 0, 1, 0, 1, 0, 1, 0, 0, 0, 0, 0, 0, 0, 0, 1, 1, 0, 1, 1, 0, 0, 0, 0, 0, 1, 0, 0, 0, 0, 0, 0, 0, 0, 1, 0, 0, 0, 0, 0, 1, 1, 1, 0, 0, 0, 0, 0, 1, 0, 0, 1, 0, 1, 1, 0, 1, 1, 0, 1, 0, 0, 0, 1, 0, 0, 1, 0, 0, 0, 0, 0, 0, 0, 1, 1, 0, 1, 0, 0, 0, 0, 1, 0, 0, 1, 1, 1, 1, 0, 0, 1, 0, 1, 1, 1, 0, 1, 1, 0, 1, 1, 0, 1, 0, 0, 0, 1, 0, 1, 1, 0, 0, 1, 0, 1, 0, 1, 0, 0, 0, 0, 0, 1, 0, 0, 0, 1, 0, 1, 1, 0, 0, 1, 1, 0, 0, 1, 1, 1, 1, 0, 1, 1, 0, 0, 1, 1, 1, 0, 1, 1, 1, 1, 1, 0, 3, 3, 1, 0, 1, 1, 0, 0, 0, 0, 1, 1, 1, 1, 0, 0, 0, 0, 1, 0, 1, 1, 0, 0, 1, 0, 0, 1, 1, 0, 1, 0, 0, 0, 1, 1, 1, 0, 0, 1, 1, 1, 0, 1, 1, 1, 0, 0, 0, 3, 0, 1, 0, 1, 1, 1, 1, 0, 1, 2, 0, 1, 0, 0, 1, 1, 1, 0, 0, 0, 0, 1, 1, 1, 0, 1, 0, 0, 0, 0, 0, 0, 1, 0, 0, 1, 1, 0, 1, 1, 0, 1, 0, 0, 1, 0, 0, 1, 0, 0, 0, 0, 0, 1, 0, 0, 0, 1, 1, 0, 0, 1, 0, 0, 1, 0, 0, 0, 0, 0, 0, 1, 0, 1, 0, 0, 1, 1, 0, 0, 0, 0, 0, 0, 1, 0, 0, 0, 1, 0, 0, 0, 0, 1, 1, 1, 1, 1, 0, 0, 1, 1, 1, 0, 0, 1, 0, 0, 0, 0, 1, 0, 0, 1, 0, 1, 1, 1, 0, 0, 0, 0, 0, 1, 0, 0, 0, 0, 1, 1, 0, 0, 0, 1, 1, 0, 1, 1, 1, 1, 0, 1, 1, 1, 1, 0, 1, 0, 1, 1, 0, 0, 1, 0, 1, 1, 1, 0, 0, 0, 1, 0, 1, 1, 1, 1, 0, 0, 0], \"coloraxis\": \"coloraxis\", \"symbol\": \"circle\"}, \"mode\": \"markers\", \"name\": \"\", \"scene\": \"scene\", \"showlegend\": false, \"type\": \"scatter3d\", \"x\": [-0.3887861047762648, -0.38883714708316536, -0.47715386086746964, -0.2528748433282004, -0.029130301885312616, 0.04139477897396213, -0.47741751655056863, 0.04139198909488125, -0.38867023332066525, 0.2913996556586626, 0.004398135885351678, 0.17732333574599768, 0.04139467566606098, 0.04138736262893551, -0.38876388271471024, 0.11795659826805306, 0.13845282362984995, 0.041397469807688825, -0.3887861445196651, 0.04139494942782061, -0.38878601157805587, 0.041395256370339986, 0.046029060071490165, -0.2917305114813385, 0.17914357934490302, 0.042374267062774224, 0.04139740958988538, 0.04139611388957847, -0.09885443824865192, -0.20591063917786864, 0.04139485253014653, 0.041417079417859486, 0.04140069230570857, 0.041396177059487914, -0.38877828863383274, -0.16010952428501798, 0.04888456649725992, 0.17731059069262242, 0.04139721894191291, 0.041397212995493086, 0.04139577504662399, -0.3214334909772162, 0.38309202773753004, -0.16123246421887177, -0.2527916883008328, -0.16504305770443614, 0.040374627869180724, 0.04142369148330229, -0.22448138259198208, -0.38878230704538236, 0.04139386039318419, 0.04137592818747321, 0.04139595031798128, -0.16040073189423368, -0.38415188744423523, 0.08484455030108962, 0.17731209486757377, -0.3841525947135686, 0.1773088898001758, 0.17730153062894632, 0.17730884281940731, 0.04603011359852675, -0.38874353226909464, -0.3887867467030108, -0.2478279170177473, 0.04139151897895689, -0.3841510786135638, 0.08485731396408265, 0.17731173985911497, -0.4521561464678516, -0.38885131955686625, -0.06679272050666898, 0.041397760039507694, -0.2528725026831061, -0.16503945437040624, 0.04140426704677121, -0.45216352803816195, 0.04139545961515693, -0.16502818166577254, 0.04140810419121388, -0.38878584201425104, -0.45216242695467534, 0.29127982779380096, 0.041441208496740975, -0.38921838924634733, -0.4521627172169094, 0.3425399385591569, 0.03195484227083196, -0.3841084631667963, -0.16041162347713286, 0.2912911442337634, 0.17375654630207582, 0.2060158825028999, -0.3888047411313649, -0.22448719240038856, 0.280568245802233, 0.041397170649597255, -0.38878754694649204, -0.029132481905777028, -0.388784380650933, -0.38878595431642204, -0.38412022454279504, 0.041257522440896026, 0.4121502506702963, -0.1650444655017614, 0.04139573146133587, 0.17730903831989178, 0.03253170103427739, -0.3841516165829397, 0.04143994277331333, -0.38962219059735625, 0.04603248613918337, 0.3828232874024849, 0.17730629094086559, -0.5889965966470933, 0.04603071403288458, -0.24967978146238115, -0.189751151536941, -0.38415957516459787, 0.041381253770902834, 0.04218348417497336, 0.04138512943396462, -0.16503612854139793, -0.3887522651940237, -0.4521634263342978, -0.38413587485304, -0.38878297055804534, -0.0988556172504616, -0.47738848639761555, 0.046031196462293957, 0.1773105664800449, 0.04139104476753995, -0.26877245119743165, -0.2528694044198595, 0.04141304035866355, 0.16679169310976608, -0.25287441712406467, -0.38474141554440827, -0.25287304788420323, -0.16421853095090963, 0.17911696676724387, -0.3859896043356264, -0.3887885404765646, -0.38415249516111943, -0.38880729542126796, 0.312280410442884, 0.041379573914512316, -0.3841869811970154, -0.1679644172821588, -0.25287595827977927, -0.09885383243377532, 0.041394929568217165, 0.04603012550368533, -0.3841350262951498, -0.2529205540890809, -0.05633838815259592, -0.3887895659179156, -0.3887778380617242, -0.16035586570091803, -0.38415391878120214, -0.3887870488092928, 0.3299444342022044, -0.2528748711153081, 0.1773090103265907, -0.3841520584595516, -0.3887876658717098, 0.291342885604897, -0.3887857575106008, 0.04139732773934783, -0.16501403457131597, 0.1773094358894404, -0.28073204284494285, 0.04139478032073563, -0.5385052295659177, -0.09884936235412663, -0.38878010366920024, -0.3842490278148336, -0.09883271714475214, -0.22842081771782724, -0.5424572440171688, -0.09888129664616545, 0.31866523093591614, 0.32489331240624186, -0.38415149435395535, 0.04046734280442265, 0.04612923190648228, -0.43574073579214, -0.3841515690149297, -0.09885135241837147, -0.3887867587289401, -0.38878960834718024, 0.046018915399059675, -0.09885383243377532, -0.3841561148623022, -0.2528726586094124, -0.3887848367776536, -0.2266154215685772, -0.3887868006768352, -0.38884684056084934, -0.3841522234591574, 0.3299419969538693, -0.38879847909434745, -0.16208705014384375, -0.38878673558488586, -0.3887858306728102, -0.2564285625863333, 0.04139557877944983, 0.32994311151886013, 0.38282653826074103, -0.3888299885057331, -0.25287452550018513, -0.384151775732676, -0.388785915469104, -0.3887881628388513, 0.2884830097312672, -0.16504915507297893, -0.1713445034881108, 0.04139591420008452, -0.22841982366751448, 0.04593898916614222, 0.3248941922642144, -0.38870343759960907, 0.04140392587277978, 0.38282846254477704, -0.16504125861420021, 0.3358532797675405, -0.38415901472153663, -0.4816763731509909, -0.3841426813199233, 0.041021763315201125, -0.0988462066809208, -0.38415681982133804, 0.0423641022232465, -0.09882216445329507, -0.3841782815095209, -0.3887871874008689, -0.3887886547588456, -0.38888236304408724, -0.0363393285777178, -0.3841526675353376, 0.04139588766435682, 0.04139564024247154, -0.16515069853415693, 0.17735739525775787, -0.09885633718977734, -0.38879239775766766, -0.4787811017683733, -0.029148670977438416, 0.04139137486643704, -0.3841503497844777, -0.48279751699809403, 0.2065006355609774, 0.28268456388708146, 0.33007507128451125, 0.046027236061142465, -0.3878151401988895, -0.44307414099594217, 0.04139706908714019, -0.4521618170430419, 0.041389379276943, 0.046029249016653784, 0.046028546034908885, -0.16824260597248553, 0.31866508894719775, 0.32994117754930224, -0.4521605624499305, 0.3259220040782255, 0.05131542633043422, -0.08220448875724519, 0.04594630435219858, -0.4430666125425014, -0.38415055317768576, -0.16504259911625616, 0.04038411550722295, 0.8120615401941902, 0.041391776730687446, 0.04139202236314157, -0.38878575757758044, -0.38415318886987515, 0.32426036669746955, -0.22447869080901697, 0.04634032306039659, -0.38878741644270864, 0.20569833351186867, -0.036678160493886114, -0.38783011416709867, -0.6251628205998091, -0.31226212212760807, -0.3887846004569723, 0.20569699474818134, 0.45152270062273586, -0.38415892351811215, 0.8118640156168438, 0.291302135423958, -0.3887864712735622, 0.3217543553844171, 0.1773124589017056, -0.16407343546188716, -0.08850588336812899, 0.045991283999417966, 0.2884815629693068, -0.39272426138629346, -0.38879904974660867, 0.04165190576746515, 0.09993366482975848, 0.046028746847585594, 0.20569964182156927, -0.0885139664695092, 0.20570851733682372, 0.04139894416533745, -0.3887652185713583, -0.38878597786713404, 0.046029402705706955, 0.17731049769413412, 0.10712085379756958, -0.05634062931036145, 0.11222312284588122, 0.24827951901915943, 0.34758144274880415, 0.04222235205211601, 0.16965538980911948, -0.2284568756624953, 7.450949401700376, 22.826534402250264, 0.041394054377957575, 0.8119432841637868, 0.04221631700754475, 0.0460195490226763, -0.32306078099933155, -0.3841539081794199, -0.38942982184884073, -0.16505176496844418, 0.31808113041241026, 0.32986182736540126, 0.0413943855764606, 0.390270323497977, -0.38781715991388743, -0.38878624244123994, -0.3887863462551019, -0.16504471886464112, 0.25758823301998657, -0.38878722645523434, 0.046025955631848886, 0.32994493961363475, -0.027169519928911427, -0.38897850451376126, 0.042368704801791404, -0.19502259348542883, -0.16503997120384115, 0.3298860515324535, 0.3196081916552958, -0.540086675420252, 0.3299785443613809, -0.3887903313878166, -0.25364991527099895, -0.029130555888951037, 0.17927351308195266, 0.37679464652804556, 0.04602891041276184, -0.0885077834337208, -0.38888148519011884, 0.2883330508849619, 0.04074010720770627, 0.3578631872803024, -0.09887404911344666, 0.17748243170604802, 0.17926621417557465, 0.3249202360165968, -0.16568598827031739, -0.029048577702339744, -0.2635606240958508, 15.288265241018708, -0.1558096050519828, 0.32949958589657835, 0.05156941230768201, 0.2812280037270983, 0.28123824292788635, 0.11844850923944433, 0.379273835651994, -0.3887854781865343, 0.32488158814603096, 1.044611419686557, -0.31224521838685787, 0.3248959847456535, -0.0885080259880721, -0.3904746551177277, 0.1697582621948212, 0.1737481126198014, 0.4479943653420087, -0.38879013373923, -0.57733704081828, -0.38942964708578465, -0.5404016791979019, 0.17731079763557625, -0.021980920554888733, 0.32998441132671125, -0.08858580269916606, 0.386962793384584, -0.08851125365916873, -0.08850517181655983, -0.3887652314811126, 0.0848399292546245, -0.3887768090991969, -9.91513318802622, 0.04602773544543505, -0.22843939887563358, -0.09886070473694199, 0.04139549046401269, 0.04139208123593616, -0.3841530386528672, 0.32993688249285513, 0.04139573121085445, 0.15981609722397813, 0.04142957379468909, -0.38878243411101804, -0.252866110710437, 0.312273304496364, -0.38878774325665094, -0.3878085784683831, 0.3186383708022172, -0.2896227810772846, 0.8540232770478986, -0.02921438063182683, -0.3856214066835654, -0.09885375212201167, 0.0460298796816353, -0.16505844719223128, -0.31223970477927, -0.0988604406227911, 0.3299434463746328, 0.31779283429661187, -0.16041141237746565, -0.5845822471346315, 0.11793582073548413, -0.38898698262364617, -0.05846235725125637, 0.23635364818005875, -0.08850790060690036, -0.3888227965911623, -0.08221260528001172, -0.08850142926647091, -0.1601223018859061, -0.22842155491248906, 0.3249003601533257, -0.25287416510032334, 0.3944252898495647, -0.16041485256379562, -0.1650472686772849, 0.3203170924750186, -0.21374495159603926, -0.08856943158744009, 0.33137352086174643, -0.25090902553240013, -0.31224801447166006, -0.26042391076986804, -0.08851315975518369, 0.40642664128192924, -0.38414956634795216, -0.16504959307637124, -0.1699488274006995, 0.04144406938319902, -0.09885873876992467, -0.160419006417711, -0.31224788267856424, -0.5404759715628288, 0.2648806113938926, 0.537834372091407, 0.3249049109716028, 0.0671241565197919, 0.25650378727979234, 0.5993837830019489, 5.408617357277188, 0.046204012857615384, 0.04602754201042652, 0.2821820728587066, 0.8118601638368277, -0.36191564022267037, 0.15876270393648803, -0.29172119718678563, -0.25296159382752176, 0.9609727810802116, -0.02671482804057007, 0.041398628326292625, -0.3889046156796786, -0.028387240263106604, 0.20570878509723098, -0.4521617500559731, 0.2885020371333127, 0.041308113002894366, 0.3248953869767024, -0.6120100559380861, -0.38876987794189666, -0.126804127444717, -0.5040363021488885, -9.905384976292327, 0.041399377313249705, -0.32796563864020245, 0.1601180759817484, 0.8120433097124228, 0.25047708661945206, 0.17731012097897414, 0.3186633145159093, -0.3887863631848299, -0.38878435169476266, -0.45215011161379004, 0.17730944536050916, 0.041406250388165027, -0.3834734970243623, 0.3582935984652928, 0.13845451830943606, 0.04139761214002492, 0.1773297333522397, -0.3841507185761939, 0.35148542308801634, 0.25761154405951125, 0.2926120938188006, 0.3451215327816825, -0.3775101645795173, 0.379969014372966, 0.13893875478498044, 0.3248940788520458, 0.17731012123743872, -0.45215029930168754, -0.008452618253054394, 0.29167791483114835, -0.05633380193697033, 0.3248940960945423, 0.1697619389244746, 0.37403499239952015, -0.051828741486373966, 0.8118738369868385, -0.3841522713303437, 0.3186644978200812, 0.8118799867745287, 0.3584439146075136, 0.10759283099980609, 0.17731011608692876, 0.31868320683301965, -0.7459974259218667, -0.12053160378270905, -0.08947808820198723], \"y\": [0.7539111582187336, 0.7537634229154255, 1.4458350008030645, 0.7386600450867162, 0.44721042451399584, -1.1257228795908003, 1.5580529150415068, -1.1257333535716134, 0.7540384206135118, -1.603099369694403, -1.2325244968217273, -1.1409768468072292, -1.1257624547506393, -1.1257446384352319, 0.7539355648634409, -0.5264261309669681, -1.086339001944029, -1.1257246055247678, 0.7539110284146261, -1.1257226923801993, 0.7539110882643674, -1.1257210008137148, -0.8038981935267924, 0.7933024450316685, -1.1425671598722766, -1.1269698271029127, -1.1257199903679007, -1.1257233089841205, 1.0122068753177433, -0.07177327992777503, -1.1257211162211116, -1.1259395701372195, -1.1257248287083894, -1.1257301748163395, 0.7538990641289673, 0.7846110992251291, -1.1331055341798864, -1.1409652040577292, -1.125762318794193, -1.1257200339670075, -1.1257183994738926, 1.188993295007761, -2.0265436334946605, 0.46664345939555746, 0.7383382849446957, 0.4624554711513579, -1.1294245268058796, -1.1257455784843582, 0.4639884250483683, 0.7538984417609066, -1.1257238884741574, -1.1257830452306081, -1.1257267972147753, 0.7842912639781562, 1.0757352571181407, -0.014723235058611358, -1.1409680344420008, 1.0757327572736974, -1.1409706909173312, -1.1409853217729047, -1.140963548080762, -0.8038939346383609, 0.7536822009855692, 0.7538932210118786, 0.062424270841499485, -1.12576857910128, 1.0757351978645557, -0.014691984461267267, -1.1409680776441626, 1.5274266516068935, 0.7536672105833069, 1.0747153941303584, -1.125734101178001, 0.738654689029161, 0.4624622168840003, -1.1257375119572417, 1.5274164765175025, -1.1257189661416453, 0.4623884368617168, -1.1257321971489491, 0.7539114468192357, 1.5274180304884255, -1.6028868162996028, -1.125840588797067, 0.7474051137339311, 1.5274194142310424, -1.956069924396125, -1.1529919761147742, 1.0757829504621377, 0.7842758552441422, -1.6028739048775122, -1.3267911380460176, -1.4159831478974465, 0.7538562254302753, 0.4639723254664749, -1.995014261992168, -1.1257172149943633, 0.7539002247678489, 0.4472065654476374, 0.7539130518442516, 0.7539078770406774, 1.0756838719564539, -1.1275932287621657, -1.9948827662884776, 0.462456540803408, -1.125718321459025, -1.1409669090389867, -1.1513072452286526, 1.0757355547792185, -1.1258419789494951, 0.751183500549936, -0.8038970154811955, -1.9501476657300956, -1.140975571766301, 1.8043040311151897, -0.8038968939354831, 0.7421402526417084, 0.8491607752330066, 1.0755544919992757, -1.1257703445915934, -1.1334691115322082, -1.1257729394406122, 0.4624486374823429, 0.7538793957366106, 1.5274100399904844, 1.0757170010875554, 0.7538870290678991, 1.012204029515889, 1.5581405799676649, -0.8038955024709811, -1.140965230650564, -1.1257547247069923, 0.7500091467844455, 0.7386517159649887, -1.1257353918143764, -1.0261368420406964, 0.7386605131895502, 1.0705126304308534, 0.7386639987356588, 0.46163910177336, -1.1427043103502066, 1.2395677398540788, 0.7539012455638814, 1.0757325219691782, 0.7538448039458996, -1.2401779166050675, -1.1257649712521045, 1.0756305420115095, 0.44218985085503787, 0.7386557187353107, 1.0122040942518973, -1.1257225418703163, -0.8038982296082708, 1.0757408518659666, 0.738523162781198, 1.0259595809180913, 0.7538997172306678, 0.7539030054316396, 0.7842273253818451, 1.0757244101687624, 0.7538946124247167, -2.0630000656162415, 0.7386601868897759, -1.1409649987512682, 1.075734552497757, 0.7539058249063456, -1.6030238631670788, 0.7539115396301544, -1.1257509258701255, 0.4624901356177926, -1.140964686838401, 0.08015333519939341, -1.125724429007984, 1.6568761268626497, 1.012199698391881, 0.7539177492816315, 1.0753700846522536, 1.012223838894995, 1.23596484478938, 1.7304088775996314, 1.0121255076948608, -1.8651686971388743, -1.811293759584716, 1.0757305193696136, -1.1284610882932595, -0.8038712332523815, 1.5453093323890952, 1.075734943011208, 1.0122016484147403, 0.7539037987025914, 0.7539000727145079, -0.8039455230693126, 1.0122040942518973, 1.0757202749801678, 0.7386627892214802, 0.7539068642572918, 0.6696303820728057, 0.753905568902891, 0.7537323288266314, 1.0757340266339623, -2.0630046380022264, 0.7538727530887787, 0.4601018324525602, 0.753908225221065, 0.7539108878928297, 0.5528210554904314, -1.1257188501316728, -2.0630041031553787, -1.950134481611679, 0.7537767995266073, 0.7386605664811559, 1.0757337680857326, 0.753907919706945, 0.7539051182504026, -2.0088944662574812, 0.4624420848381467, -0.04666872544279663, -1.1257185930075768, 1.2359638644385376, -0.8041663390232799, -1.8112921039436065, 0.753829630316945, -1.1257264469147559, -1.9501342636979289, 0.4624543028473219, -1.900996281479056, 1.0757101971728753, 1.7270317808785491, 1.0757264130379354, -1.1268182336704324, 1.0121969107247673, 1.075712607846308, -0.6420777948944377, 1.0121733931142678, 1.0756201076051677, 0.7539063138609651, 0.7539034291592425, 0.7536331153155735, 0.4263707204751095, 1.0757275076385564, -1.125724164090505, -1.125718487217551, 0.46199539304782433, -1.1413409840779416, 1.012199620043612, 0.7538861528120161, 1.541106629469382, 0.4471579247682158, -1.1257354067573204, 1.0757317764578556, 1.6618625680546792, -1.9427028069962207, -1.915990153373973, -2.0631995064588065, -0.8039143272384359, 1.2375420630999772, 1.6890801412624885, -1.1257200673993664, 1.5274152539220758, -1.1257381154919364, -0.8039052235233796, -0.8038989131862113, 0.4503280834044033, -1.8651685571069334, -2.0630112245796517, 1.5274185449344837, -2.092364083438446, -1.1492877114926496, 1.0247453380847211, -0.8041755368876548, 1.6890884098127912, 1.0757350844140428, 0.4624557635739966, -1.1286386582937877, 1.0976895375106752, -1.1257370332489542, -1.1257395206182734, 0.7539108158049588, 1.0757291752370002, -1.8156040674492386, 0.46392310237789924, -0.8038634088012393, 0.7539070064174975, -1.415647279479812, 0.20113892686197626, 1.2373395095291382, 1.7336183899760675, 1.3531708309786323, 0.7539102620872334, -1.4156518516455465, 0.5441535011977517, 1.075702715182254, 1.0973864340499375, -1.6029755655796845, 0.7538745681180005, -2.0866409146798968, -1.1409884834984072, 0.9461035924228302, 1.061763438516034, -0.8040313584437103, -2.009036408180455, 0.7409697638754225, 0.7538710924067169, -1.1262984658560848, -1.1483506930771188, -0.803898847721953, -1.415644808623696, 1.0617373286105267, -1.4157176027368035, -1.1257257147716417, 0.7537790080479605, 0.753910608323846, -0.8038986788184462, -1.1409651624821895, -1.1773109707874945, 1.0259585841751104, -0.2769916313438705, -2.325013276888271, -2.0026505850477756, -1.1265335500064386, -1.387338549981261, 1.2357878154821382, 7.262385218936712, 8.177217312294703, -1.1257269495339175, 1.0973873343118565, -1.1279888843771295, -0.803991698690511, 0.7023192539870767, 1.0757287298581943, 1.4843442467325492, 0.46242732816729126, -1.8669257946387523, -2.0632613918513187, -1.1257233116618839, -1.9112099974159054, 1.2375519073607981, 0.7539104900621691, 0.753910031399083, 0.462370273946611, -2.0213494706379134, 0.7539047566240199, -0.8039157335424142, -2.063000958022781, 0.4428127319534713, 0.7528172203786347, -0.6420680437377653, 1.2577836159335316, 0.4624571688751725, -2.063165857650593, -2.1060579204056373, 1.6585684185585943, -2.063133200801176, 0.7538920410778729, 1.2666717878553748, 0.44719502219749807, -1.145355130674119, -1.9467118379383999, -0.803898874863416, 1.0617611793395865, 0.7536340794684041, -2.00932885069568, -0.3953240522112788, -2.0958252066895673, 1.0121491489934182, -1.1411347269914067, -1.145376575168324, -1.8125702162558492, 1.1928939348686154, 0.44713001493147625, 1.750474861366167, 1.4686283594179064, 0.7893337290134366, -2.0648792825211615, 1.3398402125525068, -1.9931015072420804, -1.9930764944630097, -0.22313836580671412, -1.8949964404327433, 0.7539082276554714, -1.8113483038327423, 1.1212440886592734, 1.3532238608325098, -1.8112925281101138, 1.0617622277559982, 0.7391669402870429, -1.38704164548308, -1.326817632996845, -1.8809693932084193, 0.7538922581566255, 1.6913904562592825, 1.4842686170765056, 1.6573780709189923, -1.1409723866090413, -0.3522103433677019, -2.0631957241616217, 1.0615343586952326, -1.984302554521367, 1.061747442231323, 1.0617639681946616, 0.7538941048428262, -0.014718315719182406, 0.7539187829024442, 7.573555567522304, -0.8039008546250852, 1.235910403443145, 1.0121893777742328, -1.125721925834747, -1.1257394559578933, 1.0757256780380804, -2.0630219539851824, -1.1257183212119957, 0.7339608112334162, -1.1257516973954198, 0.7384062262147874, 0.7386561950769585, -1.2402074865188963, 0.7539057399139516, 1.237554439546585, -1.8652419321243678, 0.472085757488702, 1.2453124140196143, 0.44694791247527965, 1.2348024792662555, 1.012207628895178, -0.8039086665834583, 0.46240326475073645, 1.3531954521008671, 1.0121864971250911, -2.063001581358352, -1.8678455585326008, 0.7842759147744888, 1.7108216431949308, -0.5264193117161582, 0.7533286569393862, 0.5120815807803965, -2.022940790730723, 1.061761567612957, 0.7537976225903121, 1.0247558098583887, 1.0617717769217405, 0.7818399164299054, 1.2359572284331959, -1.811294462766421, 0.7386611346325299, -2.0391816888855203, 0.7842650712005494, 0.462446052219025, -2.0518636193067783, -0.013062828631849184, 1.0615850803409537, 1.000362396115756, 0.7342630503871058, 1.3532199022443627, 0.49258394565077585, 1.0617416610665547, -1.9968983037696284, 1.0757291904750437, 0.46240627780364, 0.7565723457133382, -1.1260097684834798, 1.0121869877068366, 0.7842539607662229, 1.3532116292451561, 1.6568646366489503, -2.0245629788588584, -0.5877867311114165, -1.811311866408756, -1.097460514970861, -2.110297566903547, 0.25428533229464323, 5.38811345586078, -0.8040648157453434, -0.8039570716665517, -1.9649190519354065, 1.0974339001595097, 1.617017193409557, -0.10214049436763936, 0.793313429752658, 0.7383962357014464, 1.2588261913768966, 1.1159312779591097, -1.1257222705797845, 0.7535397463716527, 0.44647779168778395, -1.4156890478757909, 1.527420497148926, -2.0088416887995857, -1.1261039472954932, -1.8112914810702316, 1.5646746144000745, 0.7538772837206023, 1.1020224682467432, 1.6880394847297326, 7.584262093068992, -1.1257286854787585, 0.7492909454918675, 0.7336877679624229, 1.0976695148517408, 0.477618266860009, -1.1409657199473413, -1.8651691995106214, 0.7538384992510087, 0.7539101940541428, 1.5273970921455375, -1.1409664619835793, -1.1257583224834833, 0.759746030525429, -2.004020411610945, -1.0863407594243664, -1.1257201125493739, -1.1410935825631292, 1.0757327499860057, -2.007365018874322, -2.0212758591105184, -1.6042758848745209, -2.078116999011734, 1.210925338296522, -1.9603816779484335, 1.5036676334233752, -1.8112929177922104, -1.1409657196634684, 1.5274330735882398, 0.618082482993365, -1.6060678703236926, 1.0259531585882755, -1.8112928988546617, -1.3870464474157478, -1.9669576916811558, 1.1369189750376205, 1.0974558244049144, 1.0757310445858328, -1.865201174120322, 1.0974901361867428, -1.1013269284174607, -0.5759774641073436, -1.140965725320308, -1.8651444383058684, 8.692179218666341, 0.9353992802918116, 1.040110743458093], \"z\": [-0.352753361425409, -0.348865609903529, 2.34267801349751, -0.34128548702967576, -0.2995974171344274, -0.16024671223107906, -0.262789911753285, -0.1598402403714111, -0.34475202785472264, -0.08782445090340826, 2.6350182305646674, -0.14581787952491224, -0.15706316831459244, -0.15965812296814427, -0.35121885000142844, -0.21848869966464463, -0.18608242353623683, -0.15968239430493075, -0.35274913988787343, -0.16023494178893063, -0.3527329932540207, -0.16032326041173897, -0.22176380580783828, -0.3795751062240397, 0.27010550437106945, 0.09519453235404804, -0.1600650588901726, -0.16000126758876218, -0.38248486964243206, -0.29505022464070957, -0.16037767821608254, -0.1392059004207526, -0.15915565431512332, -0.15943615850813217, -0.35054165886566324, -0.351846981592225, 1.618995019521473, -0.14877115294681528, -0.15667268671481435, -0.1600925675192095, -0.16045171511373496, -0.44019980173910184, -0.1251765008769138, -0.04790115094038749, -0.3021429338328566, -0.31081068196605677, -0.021987996486935, -0.15384734456613144, -0.36107286495900276, -0.35112567239497555, -0.1603101434853834, -0.15835774807100295, -0.15974504745157977, -0.3719558977878377, -0.41423304561645496, -0.272891952219667, -0.14830485724149634, -0.41414256809687994, -0.14859601069324732, -0.14857473008195154, -0.1491809614042144, -0.2219418516633332, -0.3275206351189257, -0.35140438028841103, -0.31785363968573266, -0.1570662893329243, -0.4141005749316866, -0.2734038851470088, -0.14835740476414314, -0.3083507557507408, -0.3433235830882163, -0.3731976626705441, -0.1588688075420373, -0.34048293504385, -0.31078729639872166, -0.15756585094372075, -0.3086932822246285, -0.16045569028357645, -0.3030423310612014, -0.15738985925279253, -0.35273521736343005, -0.3086451146931271, -0.12392615719389205, -0.14340009387385483, 0.1050540278478903, -0.3088028172605959, -0.10592432091928404, 0.5544358137361892, -0.4112344594846929, -0.3724293383324243, -0.12318372961099554, -0.16964992643096066, -0.09133172464620917, -0.35125365022446203, -0.3606882523437644, -0.07310339076193188, -0.16032718031737223, -0.35209699356086954, -0.2996295239956462, -0.3526343050535803, -0.35246431041863807, -0.40508007894791714, -0.030686452962133966, -0.10453395500182128, -0.31111939966620245, -0.16046490326118173, -0.1488783497787522, 0.509278102035753, -0.4142143556182961, -0.14348749655677867, -0.26419059862735716, -0.2213182273510437, -0.13214996888378502, -0.14861161798506842, -0.43953661829151763, -0.2216077946479835, -0.11831439654405937, -0.37796112200529997, -0.4008308334907945, -0.15854397735715645, 0.5905780968480678, -0.15772236943137596, -0.30916432709717356, -0.3448433829310902, -0.3081568017790731, -0.4102292506529559, -0.3503076386905645, -0.38244088607747445, -0.2652954461512342, -0.2216441466414381, -0.14877282491099045, -0.15826134485426668, -0.40838216751796835, -0.33975346465644457, -0.15635234489988376, -0.0863784797489196, -0.3412560561251663, -0.08501851249674867, -0.34132173580523284, -0.11464561716439338, 0.27699382751570384, -0.23870274400249267, -0.3523363659426741, -0.41410782746716523, -0.35073337846551267, -0.07836018222005281, -0.15924361642930573, -0.41130610070042983, 0.866609606954148, -0.3411116827559297, -0.38216437417360183, -0.16025024625519937, -0.22159270231094988, -0.41202375574512173, -0.33743363241725327, -0.37484430474200076, -0.3523746657581572, -0.3507892070739184, -0.35970368796012664, -0.41367667603928043, -0.3515645727001678, 0.38493170666004733, -0.3413013389178825, -0.14903722514511306, -0.41420306949137736, -0.3525685662792287, -0.10289109635260855, -0.35272938208727944, -0.15757668778475678, -0.3090319692937979, -0.1489952667244187, -0.278470810747003, -0.1601212214184641, 0.021702558058732037, -0.3811033124717095, -0.3523389643258275, -0.4000413104416735, -0.3804276283393233, -0.2671316560955345, -0.4296402924480718, -0.38014567686179457, -0.14318556215192033, -0.13206332941897714, -0.4137879225634274, -0.08525115383703999, -0.2081308364718555, 0.8370345833774944, -0.41415738212865627, -0.381575127620673, -0.35226153845505526, -0.3524101061885781, -0.2195383823719987, -0.38216437417360183, -0.4136889923090131, -0.34116249064459886, -0.35220601023623127, -0.4054533881275877, -0.35241128987811793, -0.347881680672903, -0.41418659711748534, 0.3849166700294028, -0.35160148746310727, 0.3461199412328089, -0.35261579140401633, -0.352688235009065, -0.3610573240945729, -0.16044625933671125, 0.38504936704869114, -0.13270280019965944, -0.3488171436834487, -0.34127747297027167, -0.41409501534370075, -0.352461627873778, -0.3525898794064259, -0.13204601565558136, -0.3106908442787809, -0.29993658293721875, -0.1604141005631019, -0.26689547178823153, -0.21430122590826026, -0.1320583044730312, -0.3331118104860536, -0.1585143723522345, -0.13241665756773296, -0.3104322193566382, -0.13008422569618622, -0.41333191423923366, -0.42508961993433547, -0.41206470413934726, -0.1305649972719884, -0.3803797697995991, -0.4131803486112944, -0.1719894423147318, -0.37468301368970314, -0.4090891180029288, -0.35253257067297783, -0.35253096094953396, -0.3454672457645775, 0.24740138567329037, -0.4137296039869439, -0.15996783918975607, -0.16046590039925476, -0.2906029189499302, -0.11099900104453649, -0.38219800553792266, -0.3517249401635351, 0.8921512532479344, -0.2982522403568991, -0.15977119029679093, -0.41370888598961597, 0.5859699137583894, -0.14123997036008615, -0.1394038757061505, 0.42167950942568094, -0.22074724676908, -0.3630904863148141, -0.4327796954570577, -0.16011258131130046, -0.3083243363287127, -0.15986719354398443, -0.22116556868028922, -0.2217867620719706, 0.1646782654626292, -0.14321929838183844, 0.38531987922558014, -0.30839238478859005, -0.13687212455393563, 3.311134581027817, -0.37436926882334004, -0.2124027773815297, -0.4322598290987469, -0.4140084580554924, -0.31076193437615374, -0.08403174812506264, 3.0027854656559456, -0.15957624306346477, -0.15933635182726916, -0.3526708677329378, -0.41394673415679667, 0.11653183167038868, -0.35536627942318155, -0.17544122763038078, -0.35262472327101363, -0.16861577450346146, -0.33090699392404804, -0.3490767542318208, -0.44620924491091307, -0.4139703640899908, -0.35244343705295866, -0.16845742524834884, 2.029351478921568, -0.41271256034403336, 2.9961122395989452, -0.11322890938409266, -0.3498527209702769, 1.0035511239513277, -0.14659398221357886, -0.3227517362685685, -0.3738501449861516, -0.21695997322683733, -0.12079767512960084, 0.07195750237552768, -0.35155729447951845, -0.07311834009797467, 1.2312033465262957, -0.22176035546450729, -0.16860902962982474, -0.3730150027117817, -0.1613221936017955, -0.15935996813776185, -0.3387713143058643, -0.35268886612442374, -0.22167048025055017, -0.14878919501897853, -0.1981474256450668, -0.37511749588672033, -0.2943199104269916, 8.678631277180068, -0.13060258503029237, 0.03593844687255726, -0.17261951981581306, -0.2585099469723168, -0.19053710185708023, -0.3680641445320661, -0.1600320194332672, 3.0085525585308557, 0.1526569154633448, -0.21570482784004574, -0.39046432979263535, -0.41402427120771723, -0.32788473200796586, -0.30990968356386395, -0.09331980761523469, 0.3930211716358927, -0.16027387772117282, -0.13040749632634913, -0.3642052711098762, -0.35272106899331634, -0.3527003715272036, -0.3041842831793328, -0.1387000927610479, -0.35241282520295364, -0.2208356649440949, 0.38508364506735243, -0.33526608396601015, -0.29467463573966923, -0.17205132255312977, -0.2917078579118165, -0.31046072522742085, 0.3891207071890825, 2.234726867558218, -0.3647703741816888, 0.40108089334812075, -0.35187484490866044, -0.2229997176468194, -0.29839215825181453, -0.18472985291999128, -0.12570923116732055, -0.2217323410016857, -0.37396741815047885, -0.3454066268407586, -0.1205959183818435, -0.13433717394651537, 4.527139789856906, -0.38091312029657287, -0.10793802784683955, -0.18414814192784637, -0.024605266971214543, -0.28625250919788253, -0.2801951462907806, 0.5550180404372186, -0.6300479105824662, -0.05492233824918058, 0.4666533957593291, -0.3733478672136157, -0.12361175677726208, -0.12401783504820776, -0.2818708227509597, -0.12524123729503137, -0.35241749887416807, -0.1295039098370963, 34.0401752235416, -0.41558971902986663, -0.13174105239209416, -0.37409047686648655, 0.5728414190598629, -0.18038660479178362, -0.16883899300830507, -0.10941794284860842, -0.3518611965741606, -0.4422992357263736, -0.32174210424115385, -0.31825035726554635, -0.1481577399177889, -0.1164981350691255, 0.40706236586127115, -0.3679437235858051, -0.12851884714543432, -0.37340450349629606, -0.37378064865428856, -0.34807951013177757, -0.2740191710760409, -0.3519024662499881, 2.9676925159663536, -0.2217577442931542, -0.26566296719451943, -0.3820593149615911, -0.1602115144151392, -0.15933228645242808, -0.4136402551043453, 0.38550940040395415, -0.16046496277508368, -0.3392935860311789, -0.15242403454702497, 0.9014782429790207, -0.3395956878139855, -0.07709102985984143, -0.3525739099833537, -0.3630553683078324, -0.1415042083014232, -0.25762854670291585, 3.2482087988093715, -0.2916444254597642, 0.2047153180248809, -0.382437490169326, -0.2207876248622928, -0.3090188716777268, -0.41242236683719, -0.38178470759431005, 0.3848983263955647, -0.06446185861842019, -0.37240082806281494, -0.43748631707129176, -0.2223199533763891, -0.33736519865411324, -0.3028367158236098, -0.14087443845019326, -0.3740173086444194, -0.34936549830244995, -0.37649721611591075, -0.37382123530783684, -0.12979987437335463, -0.2666322066547597, -0.13089393610840383, -0.34126651917446216, -0.135809325950618, -0.3720671284011873, -0.3107138459728521, -0.13293629470387558, 2.278213735655075, -0.3694605275414934, 0.6993624864586447, -0.37621563601500757, -0.415711029234238, -0.37241380930643836, -0.37323795803938187, -0.14019516435087345, -0.41337612511718247, -0.3078648064392297, 0.36202334654760504, -0.12926944917553485, -0.38155572390697806, -0.3718245092835688, -0.41502131092336125, -0.28846418358766845, -0.13157990731795352, 0.8511965994897599, -0.1287683842509349, 1.6161652859574411, 0.4161089979456951, -0.29294038108141235, -0.3938931586983563, -0.18067400251723342, -0.2172428472976099, -0.1344363471077938, 2.991666333446155, -0.4247134978734667, 0.39944654090131504, -0.3789929481514045, -0.3336493537019493, 3.268547536682131, -0.3829553731434883, -0.15968830592972924, -0.3414306328744641, -0.12306273230004233, -0.1635887306172037, -0.3087377033453726, -0.13330972791053142, -0.14311630739228515, -0.13192007298539554, -0.2599028958493324, -0.3474529145512446, -0.3882293835728465, 0.20011465477335283, 3.6408410416597823, -0.15905139593399104, -0.05714505162201788, -0.26954714018585424, 3.001526586360028, -0.20660082735072938, -0.14880358833683888, -0.14344746352264032, -0.3469193080846991, -0.35239866733141584, -0.30500807874040925, -0.1488502421833269, -0.15557012996595482, 0.014101008145033178, -0.13120709226544444, -0.18567280501460764, -0.1600232059053632, -0.13536929519783322, -0.4138458170859077, -0.04156086793754531, -0.14097214194321425, 0.1986948259030214, 4.00302627518349, -0.3054919456728472, 0.39310939343094325, -0.3455386376803232, -0.1320104036232635, -0.14880357048895368, -0.30794698823003863, -0.4423137802193306, 0.1961190467769712, -0.3736010598103556, -0.132009212967854, -0.17941794605924896, -0.01191464335654592, -0.3506330506478963, 2.9920520522982246, -0.4139530402561955, -0.14067536156219898, 2.9902485593887356, -0.24699749516044134, -0.22994768565234902, -0.14880392614991506, -0.1423093869710194, -0.4386038891575153, 0.6389629136783715, -0.37964765768549885]}],\n",
       "                        {\"coloraxis\": {\"colorbar\": {\"title\": {\"text\": \"class\"}}, \"colorscale\": [[0.0, \"#0d0887\"], [0.1111111111111111, \"#46039f\"], [0.2222222222222222, \"#7201a8\"], [0.3333333333333333, \"#9c179e\"], [0.4444444444444444, \"#bd3786\"], [0.5555555555555556, \"#d8576b\"], [0.6666666666666666, \"#ed7953\"], [0.7777777777777778, \"#fb9f3a\"], [0.8888888888888888, \"#fdca26\"], [1.0, \"#f0f921\"]]}, \"legend\": {\"tracegroupgap\": 0}, \"margin\": {\"t\": 60}, \"scene\": {\"domain\": {\"x\": [0.0, 1.0], \"y\": [0.0, 1.0]}, \"xaxis\": {\"title\": {\"text\": \"PC 3\"}}, \"yaxis\": {\"title\": {\"text\": \"PC 2\"}}, \"zaxis\": {\"title\": {\"text\": \"PC 1\"}}}, \"template\": {\"data\": {\"bar\": [{\"error_x\": {\"color\": \"#2a3f5f\"}, \"error_y\": {\"color\": \"#2a3f5f\"}, \"marker\": {\"line\": {\"color\": \"#E5ECF6\", \"width\": 0.5}}, \"type\": \"bar\"}], \"barpolar\": [{\"marker\": {\"line\": {\"color\": \"#E5ECF6\", \"width\": 0.5}}, \"type\": \"barpolar\"}], \"carpet\": [{\"aaxis\": {\"endlinecolor\": \"#2a3f5f\", \"gridcolor\": \"white\", \"linecolor\": \"white\", \"minorgridcolor\": \"white\", \"startlinecolor\": \"#2a3f5f\"}, \"baxis\": {\"endlinecolor\": \"#2a3f5f\", \"gridcolor\": \"white\", \"linecolor\": \"white\", \"minorgridcolor\": \"white\", \"startlinecolor\": \"#2a3f5f\"}, \"type\": \"carpet\"}], \"choropleth\": [{\"colorbar\": {\"outlinewidth\": 0, \"ticks\": \"\"}, \"type\": \"choropleth\"}], \"contour\": [{\"colorbar\": {\"outlinewidth\": 0, \"ticks\": \"\"}, \"colorscale\": [[0.0, \"#0d0887\"], [0.1111111111111111, \"#46039f\"], [0.2222222222222222, \"#7201a8\"], [0.3333333333333333, \"#9c179e\"], [0.4444444444444444, \"#bd3786\"], [0.5555555555555556, \"#d8576b\"], [0.6666666666666666, \"#ed7953\"], [0.7777777777777778, \"#fb9f3a\"], [0.8888888888888888, \"#fdca26\"], [1.0, \"#f0f921\"]], \"type\": \"contour\"}], \"contourcarpet\": [{\"colorbar\": {\"outlinewidth\": 0, \"ticks\": \"\"}, \"type\": \"contourcarpet\"}], \"heatmap\": [{\"colorbar\": {\"outlinewidth\": 0, \"ticks\": \"\"}, \"colorscale\": [[0.0, \"#0d0887\"], [0.1111111111111111, \"#46039f\"], [0.2222222222222222, \"#7201a8\"], [0.3333333333333333, \"#9c179e\"], [0.4444444444444444, \"#bd3786\"], [0.5555555555555556, \"#d8576b\"], [0.6666666666666666, \"#ed7953\"], [0.7777777777777778, \"#fb9f3a\"], [0.8888888888888888, \"#fdca26\"], [1.0, \"#f0f921\"]], \"type\": \"heatmap\"}], \"heatmapgl\": [{\"colorbar\": {\"outlinewidth\": 0, \"ticks\": \"\"}, \"colorscale\": [[0.0, \"#0d0887\"], [0.1111111111111111, \"#46039f\"], [0.2222222222222222, \"#7201a8\"], [0.3333333333333333, \"#9c179e\"], [0.4444444444444444, \"#bd3786\"], [0.5555555555555556, \"#d8576b\"], [0.6666666666666666, \"#ed7953\"], [0.7777777777777778, \"#fb9f3a\"], [0.8888888888888888, \"#fdca26\"], [1.0, \"#f0f921\"]], \"type\": \"heatmapgl\"}], \"histogram\": [{\"marker\": {\"colorbar\": {\"outlinewidth\": 0, \"ticks\": \"\"}}, \"type\": \"histogram\"}], \"histogram2d\": [{\"colorbar\": {\"outlinewidth\": 0, \"ticks\": \"\"}, \"colorscale\": [[0.0, \"#0d0887\"], [0.1111111111111111, \"#46039f\"], [0.2222222222222222, \"#7201a8\"], [0.3333333333333333, \"#9c179e\"], [0.4444444444444444, \"#bd3786\"], [0.5555555555555556, \"#d8576b\"], [0.6666666666666666, \"#ed7953\"], [0.7777777777777778, \"#fb9f3a\"], [0.8888888888888888, \"#fdca26\"], [1.0, \"#f0f921\"]], \"type\": \"histogram2d\"}], \"histogram2dcontour\": [{\"colorbar\": {\"outlinewidth\": 0, \"ticks\": \"\"}, \"colorscale\": [[0.0, \"#0d0887\"], [0.1111111111111111, \"#46039f\"], [0.2222222222222222, \"#7201a8\"], [0.3333333333333333, \"#9c179e\"], [0.4444444444444444, \"#bd3786\"], [0.5555555555555556, \"#d8576b\"], [0.6666666666666666, \"#ed7953\"], [0.7777777777777778, \"#fb9f3a\"], [0.8888888888888888, \"#fdca26\"], [1.0, \"#f0f921\"]], \"type\": \"histogram2dcontour\"}], \"mesh3d\": [{\"colorbar\": {\"outlinewidth\": 0, \"ticks\": \"\"}, \"type\": \"mesh3d\"}], \"parcoords\": [{\"line\": {\"colorbar\": {\"outlinewidth\": 0, \"ticks\": \"\"}}, \"type\": \"parcoords\"}], \"pie\": [{\"automargin\": true, \"type\": \"pie\"}], \"scatter\": [{\"marker\": {\"colorbar\": {\"outlinewidth\": 0, \"ticks\": \"\"}}, \"type\": \"scatter\"}], \"scatter3d\": [{\"line\": {\"colorbar\": {\"outlinewidth\": 0, \"ticks\": \"\"}}, \"marker\": {\"colorbar\": {\"outlinewidth\": 0, \"ticks\": \"\"}}, \"type\": \"scatter3d\"}], \"scattercarpet\": [{\"marker\": {\"colorbar\": {\"outlinewidth\": 0, \"ticks\": \"\"}}, \"type\": \"scattercarpet\"}], \"scattergeo\": [{\"marker\": {\"colorbar\": {\"outlinewidth\": 0, \"ticks\": \"\"}}, \"type\": \"scattergeo\"}], \"scattergl\": [{\"marker\": {\"colorbar\": {\"outlinewidth\": 0, \"ticks\": \"\"}}, \"type\": \"scattergl\"}], \"scattermapbox\": [{\"marker\": {\"colorbar\": {\"outlinewidth\": 0, \"ticks\": \"\"}}, \"type\": \"scattermapbox\"}], \"scatterpolar\": [{\"marker\": {\"colorbar\": {\"outlinewidth\": 0, \"ticks\": \"\"}}, \"type\": \"scatterpolar\"}], \"scatterpolargl\": [{\"marker\": {\"colorbar\": {\"outlinewidth\": 0, \"ticks\": \"\"}}, \"type\": \"scatterpolargl\"}], \"scatterternary\": [{\"marker\": {\"colorbar\": {\"outlinewidth\": 0, \"ticks\": \"\"}}, \"type\": \"scatterternary\"}], \"surface\": [{\"colorbar\": {\"outlinewidth\": 0, \"ticks\": \"\"}, \"colorscale\": [[0.0, \"#0d0887\"], [0.1111111111111111, \"#46039f\"], [0.2222222222222222, \"#7201a8\"], [0.3333333333333333, \"#9c179e\"], [0.4444444444444444, \"#bd3786\"], [0.5555555555555556, \"#d8576b\"], [0.6666666666666666, \"#ed7953\"], [0.7777777777777778, \"#fb9f3a\"], [0.8888888888888888, \"#fdca26\"], [1.0, \"#f0f921\"]], \"type\": \"surface\"}], \"table\": [{\"cells\": {\"fill\": {\"color\": \"#EBF0F8\"}, \"line\": {\"color\": \"white\"}}, \"header\": {\"fill\": {\"color\": \"#C8D4E3\"}, \"line\": {\"color\": \"white\"}}, \"type\": \"table\"}]}, \"layout\": {\"annotationdefaults\": {\"arrowcolor\": \"#2a3f5f\", \"arrowhead\": 0, \"arrowwidth\": 1}, \"coloraxis\": {\"colorbar\": {\"outlinewidth\": 0, \"ticks\": \"\"}}, \"colorscale\": {\"diverging\": [[0, \"#8e0152\"], [0.1, \"#c51b7d\"], [0.2, \"#de77ae\"], [0.3, \"#f1b6da\"], [0.4, \"#fde0ef\"], [0.5, \"#f7f7f7\"], [0.6, \"#e6f5d0\"], [0.7, \"#b8e186\"], [0.8, \"#7fbc41\"], [0.9, \"#4d9221\"], [1, \"#276419\"]], \"sequential\": [[0.0, \"#0d0887\"], [0.1111111111111111, \"#46039f\"], [0.2222222222222222, \"#7201a8\"], [0.3333333333333333, \"#9c179e\"], [0.4444444444444444, \"#bd3786\"], [0.5555555555555556, \"#d8576b\"], [0.6666666666666666, \"#ed7953\"], [0.7777777777777778, \"#fb9f3a\"], [0.8888888888888888, \"#fdca26\"], [1.0, \"#f0f921\"]], \"sequentialminus\": [[0.0, \"#0d0887\"], [0.1111111111111111, \"#46039f\"], [0.2222222222222222, \"#7201a8\"], [0.3333333333333333, \"#9c179e\"], [0.4444444444444444, \"#bd3786\"], [0.5555555555555556, \"#d8576b\"], [0.6666666666666666, \"#ed7953\"], [0.7777777777777778, \"#fb9f3a\"], [0.8888888888888888, \"#fdca26\"], [1.0, \"#f0f921\"]]}, \"colorway\": [\"#636efa\", \"#EF553B\", \"#00cc96\", \"#ab63fa\", \"#FFA15A\", \"#19d3f3\", \"#FF6692\", \"#B6E880\", \"#FF97FF\", \"#FECB52\"], \"font\": {\"color\": \"#2a3f5f\"}, \"geo\": {\"bgcolor\": \"white\", \"lakecolor\": \"white\", \"landcolor\": \"#E5ECF6\", \"showlakes\": true, \"showland\": true, \"subunitcolor\": \"white\"}, \"hoverlabel\": {\"align\": \"left\"}, \"hovermode\": \"closest\", \"mapbox\": {\"style\": \"light\"}, \"paper_bgcolor\": \"white\", \"plot_bgcolor\": \"#E5ECF6\", \"polar\": {\"angularaxis\": {\"gridcolor\": \"white\", \"linecolor\": \"white\", \"ticks\": \"\"}, \"bgcolor\": \"#E5ECF6\", \"radialaxis\": {\"gridcolor\": \"white\", \"linecolor\": \"white\", \"ticks\": \"\"}}, \"scene\": {\"xaxis\": {\"backgroundcolor\": \"#E5ECF6\", \"gridcolor\": \"white\", \"gridwidth\": 2, \"linecolor\": \"white\", \"showbackground\": true, \"ticks\": \"\", \"zerolinecolor\": \"white\"}, \"yaxis\": {\"backgroundcolor\": \"#E5ECF6\", \"gridcolor\": \"white\", \"gridwidth\": 2, \"linecolor\": \"white\", \"showbackground\": true, \"ticks\": \"\", \"zerolinecolor\": \"white\"}, \"zaxis\": {\"backgroundcolor\": \"#E5ECF6\", \"gridcolor\": \"white\", \"gridwidth\": 2, \"linecolor\": \"white\", \"showbackground\": true, \"ticks\": \"\", \"zerolinecolor\": \"white\"}}, \"shapedefaults\": {\"line\": {\"color\": \"#2a3f5f\"}}, \"ternary\": {\"aaxis\": {\"gridcolor\": \"white\", \"linecolor\": \"white\", \"ticks\": \"\"}, \"baxis\": {\"gridcolor\": \"white\", \"linecolor\": \"white\", \"ticks\": \"\"}, \"bgcolor\": \"#E5ECF6\", \"caxis\": {\"gridcolor\": \"white\", \"linecolor\": \"white\", \"ticks\": \"\"}}, \"title\": {\"x\": 0.05}, \"xaxis\": {\"automargin\": true, \"gridcolor\": \"white\", \"linecolor\": \"white\", \"ticks\": \"\", \"title\": {\"standoff\": 15}, \"zerolinecolor\": \"white\", \"zerolinewidth\": 2}, \"yaxis\": {\"automargin\": true, \"gridcolor\": \"white\", \"linecolor\": \"white\", \"ticks\": \"\", \"title\": {\"standoff\": 15}, \"zerolinecolor\": \"white\", \"zerolinewidth\": 2}}}, \"width\": 800},\n",
       "                        {\"responsive\": true}\n",
       "                    ).then(function(){\n",
       "                            \n",
       "var gd = document.getElementById('3dfbed4a-b895-4446-884e-af49280ccd9e');\n",
       "var x = new MutationObserver(function (mutations, observer) {{\n",
       "        var display = window.getComputedStyle(gd).display;\n",
       "        if (!display || display === 'none') {{\n",
       "            console.log([gd, 'removed!']);\n",
       "            Plotly.purge(gd);\n",
       "            observer.disconnect();\n",
       "        }}\n",
       "}});\n",
       "\n",
       "// Listen for the removal of the full notebook cells\n",
       "var notebookContainer = gd.closest('#notebook-container');\n",
       "if (notebookContainer) {{\n",
       "    x.observe(notebookContainer, {childList: true});\n",
       "}}\n",
       "\n",
       "// Listen for the clearing of the current output cell\n",
       "var outputEl = gd.closest('.output');\n",
       "if (outputEl) {{\n",
       "    x.observe(outputEl, {childList: true});\n",
       "}}\n",
       "\n",
       "                        })\n",
       "                };\n",
       "                });\n",
       "            </script>\n",
       "        </div>"
      ]
     },
     "metadata": {},
     "output_type": "display_data"
    }
   ],
   "source": [
    "# Create a 3D-Scatter with the PCA data and the clusters\n",
    "fig = px.scatter_3d(clustered_df,\n",
    "                   x='PC 3',\n",
    "                   y='PC 2',\n",
    "                   z='PC 1',\n",
    "                    color='class',\n",
    "                   hover_name='CoinName',\n",
    "                   hover_data=['Algorithm'],\n",
    "                   width=800)\n",
    "fig.show()"
   ]
  },
  {
   "cell_type": "markdown",
   "metadata": {},
   "source": [
    "#### Table of Tradable Cryptocurrencies"
   ]
  },
  {
   "cell_type": "code",
   "execution_count": 91,
   "metadata": {},
   "outputs": [
    {
     "data": {
      "application/vnd.holoviews_exec.v0+json": "",
      "text/html": [
       "<div id='1095'>\n",
       "\n",
       "\n",
       "\n",
       "\n",
       "\n",
       "  <div class=\"bk-root\" id=\"262cf461-e9a3-4e5b-8f18-5dfae9415624\" data-root-id=\"1095\"></div>\n",
       "</div>\n",
       "<script type=\"application/javascript\">(function(root) {\n",
       "  function embed_document(root) {\n",
       "  var docs_json = {\"e5d9f11f-2b30-4ff3-b854-2942f03ac71e\":{\"roots\":{\"references\":[{\"attributes\":{},\"id\":\"1110\",\"type\":\"StringEditor\"},{\"attributes\":{},\"id\":\"1125\",\"type\":\"IntEditor\"},{\"attributes\":{\"columns\":[{\"id\":\"1101\"},{\"id\":\"1106\"},{\"id\":\"1111\"},{\"id\":\"1116\"},{\"id\":\"1121\"},{\"id\":\"1126\"}],\"height\":300,\"reorderable\":false,\"source\":{\"id\":\"1097\"},\"view\":{\"id\":\"1130\"},\"width\":700},\"id\":\"1129\",\"type\":\"DataTable\"},{\"attributes\":{\"editor\":{\"id\":\"1110\"},\"field\":\"ProofType\",\"formatter\":{\"id\":\"1109\"},\"title\":\"ProofType\"},\"id\":\"1111\",\"type\":\"TableColumn\"},{\"attributes\":{\"editor\":{\"id\":\"1105\"},\"field\":\"Algorithm\",\"formatter\":{\"id\":\"1104\"},\"title\":\"Algorithm\"},\"id\":\"1106\",\"type\":\"TableColumn\"},{\"attributes\":{\"editor\":{\"id\":\"1115\"},\"field\":\"TotalCoinSupply\",\"formatter\":{\"id\":\"1114\"},\"title\":\"TotalCoinSupply\"},\"id\":\"1116\",\"type\":\"TableColumn\"},{\"attributes\":{},\"id\":\"1105\",\"type\":\"StringEditor\"},{\"attributes\":{},\"id\":\"1109\",\"type\":\"StringFormatter\"},{\"attributes\":{},\"id\":\"1119\",\"type\":\"StringFormatter\"},{\"attributes\":{},\"id\":\"1120\",\"type\":\"StringEditor\"},{\"attributes\":{\"data\":{\"Algorithm\":[\"Scrypt\",\"Scrypt\",\"X13\",\"SHA-256\",\"SHA-256\",\"Scrypt\",\"X15\",\"Scrypt\",\"Scrypt\",\"Multiple\",\"Scrypt\",\"SHA-256\",\"Scrypt\",\"Scrypt\",\"Scrypt\",\"Quark\",\"Groestl\",\"Scrypt\",\"Scrypt\",\"Scrypt\",\"Scrypt\",\"Scrypt\",\"X11\",\"Groestl\",\"SHA-256\",\"Scrypt\",\"Scrypt\",\"Scrypt\",\"PoS\",\"Scrypt\",\"Scrypt\",\"Scrypt\",\"Scrypt\",\"Scrypt\",\"Scrypt\",\"X11\",\"Scrypt\",\"SHA-256\",\"Scrypt\",\"Scrypt\",\"Scrypt\",\"SHA3\",\"HybridScryptHash256\",\"Scrypt\",\"SHA-256\",\"Scrypt\",\"Scrypt\",\"Scrypt\",\"NeoScrypt\",\"Scrypt\",\"Scrypt\",\"Scrypt\",\"Scrypt\",\"X11\",\"X11\",\"Multiple\",\"SHA-256\",\"X11\",\"SHA-256\",\"SHA-256\",\"SHA-256\",\"X11\",\"Scrypt\",\"Scrypt\",\"Scrypt\",\"Scrypt\",\"X11\",\"Multiple\",\"SHA-256\",\"X13\",\"Scrypt\",\"Counterparty\",\"Scrypt\",\"SHA-256\",\"Scrypt\",\"Scrypt\",\"X13\",\"Scrypt\",\"Scrypt\",\"Scrypt\",\"Scrypt\",\"X13\",\"Multiple\",\"Scrypt\",\"Scrypt\",\"X13\",\"Stanford Folding\",\"Scrypt\",\"X11\",\"X11\",\"Multiple\",\"QuBit\",\"NeoScrypt\",\"Scrypt\",\"NeoScrypt\",\"Blake\",\"Scrypt\",\"Scrypt\",\"SHA-256\",\"Scrypt\",\"Scrypt\",\"X11\",\"Scrypt\",\"M7 POW\",\"Scrypt\",\"Scrypt\",\"SHA-256\",\"Scrypt\",\"X11\",\"Scrypt\",\"Scrypt\",\"X11\",\"Lyra2RE\",\"SHA-256\",\"QUAIT\",\"X11\",\"SHA-256\",\"X11\",\"X11\",\"Scrypt\",\"Scrypt\",\"Scrypt\",\"Scrypt\",\"Scrypt\",\"X13\",\"X11\",\"Scrypt\",\"PoS\",\"X15\",\"X11\",\"SHA-256\",\"Scrypt\",\"X11\",\"SHA-256\",\"Scrypt\",\"1GB AES Pattern Search\",\"SHA-256\",\"X11\",\"SHA-256\",\"Scrypt\",\"SHA-256\",\"NIST5\",\"Scrypt\",\"X11\",\"Scrypt\",\"Dagger\",\"Scrypt\",\"X11\",\"Scrypt\",\"SHA-256\",\"PoS\",\"Scrypt\",\"X11\",\"X11\",\"SHA-256\",\"POS 3.0\",\"Scrypt\",\"Scrypt\",\"X11\",\"X11\",\"Scrypt\",\"CryptoNight\",\"SHA-256\",\"SHA-256\",\"X11\",\"Scrypt\",\"Multiple\",\"Scrypt\",\"Scrypt\",\"Scrypt\",\"SHA-256\",\"Scrypt\",\"Scrypt\",\"SHA-256D\",\"PoS\",\"Scrypt\",\"X11\",\"PoS\",\"X13\",\"X14\",\"PoS\",\"Ethash\",\"Equihash\",\"X11\",\"Scrypt\",\"X11\",\"X13\",\"X11\",\"PoS\",\"Scrypt\",\"Scrypt\",\"X11\",\"PoS\",\"X11\",\"SHA-256\",\"Scrypt\",\"X11\",\"Scrypt\",\"Scrypt\",\"X11\",\"CryptoNight\",\"Scrypt\",\"Scrypt\",\"Scrypt\",\"Scrypt\",\"QuBit\",\"Scrypt\",\"CryptoNight\",\"Lyra2RE\",\"Scrypt\",\"SHA-256\",\"X11\",\"Scrypt\",\"Scrypt\",\"CryptoNight-V7\",\"Scrypt\",\"Scrypt\",\"Scrypt\",\"X13\",\"X11\",\"Equihash\",\"Scrypt\",\"Scrypt\",\"Lyra2RE\",\"Scrypt\",\"Dagger-Hashimoto\",\"X11\",\"Blake2S\",\"X11\",\"Scrypt\",\"PoS\",\"X11\",\"NIST5\",\"PoS\",\"X11\",\"Scrypt\",\"Scrypt\",\"Scrypt\",\"SHA-256\",\"X11\",\"Scrypt\",\"Scrypt\",\"Scrypt\",\"SHA-256\",\"PoS\",\"Scrypt\",\"X15\",\"SHA-256\",\"Scrypt\",\"X11\",\"536\",\"Argon2d\",\"Cloverhash\",\"CryptoNight\",\"X11\",\"NIST5\",\"Skein\",\"Scrypt\",\"X13\",\"Scrypt\",\"X11\",\"X11\",\"Scrypt\",\"Ethash\",\"CryptoNight\",\"X13\",\"Time Travel\",\"Scrypt\",\"SkunkHash v2 Raptor\",\"X11\",\"Skein\",\"X11\",\"Scrypt\",\"Scrypt\",\"DPoS\",\"Scrypt\",\"Scrypt\",\"Scrypt\",\"X11\",\"Equihash\",\"NeoScrypt\",\"X11\",\"Scrypt\",\"NeoScrypt\",\"Lyra2REv2\",\"NIST5\",\"PHI1612\",\"Quark\",\"Scrypt\",\"NeoScrypt\",\"SHA-256\",\"X11\",\"DPoS\",\"Multiple\",\"Scrypt\",\"CryptoNight\",\"SHA-256\",\"NIST5\",\"Quark\",\"X11\",\"CryptoNight-V7\",\"Scrypt\",\"Scrypt\",\"Scrypt\",\"BLAKE256\",\"X11\",\"NeoScrypt\",\"Quark\",\"NeoScrypt\",\"Scrypt\",\"Scrypt\",\"Scrypt\",\"X11\",\"SHA-256\",\"C11\",\"POS 3.0\",\"Ethash\",\"CryptoNight\",\"SkunkHash\",\"Scrypt\",\"Lyra2REv2\",\"X13\",\"Proof-of-BibleHash\",\"SHA-256 + Hive\",\"Scrypt\",\"DPoS\",\"Scrypt\",\"X11\",\"C11\",\"X11\",\"XEVAN\",\"Scrypt\",\"Ethash\",\"CryptoNight\",\"Scrypt\",\"IMesh\",\"NIST5\",\"Scrypt\",\"Scrypt\",\"Scrypt\",\"Lyra2Z\",\"Scrypt\",\"X11\",\"CryptoNight\",\"X16R\",\"Scrypt\",\"NIST5\",\"XEVAN\",\"Scrypt\",\"CryptoNight\",\"CryptoNight\",\"SHA-256D\",\"CryptoNight\",\"Scrypt\",\"X15\",\"SHA-256\",\"X16R\",\"HMQ1725\",\"X11\",\"Quark\",\"Scrypt\",\"CryptoNight-V7\",\"XEVAN\",\"CryptoNight Heavy\",\"PoS\",\"SHA-256\",\"X16R\",\"Equihash\",\"XEVAN\",\"SHA-256\",\"XEVAN\",\"SHA3-256\",\"X11\",\"CryptoNight\",\"Quark\",\"Blake\",\"Blake\",\"Equihash\",\"Exosis\",\"Scrypt\",\"Equihash\",\"TRC10\",\"Quark\",\"Equihash\",\"Quark\",\"Scrypt\",\"Lyra2REv2\",\"QuBit\",\"Equihash+Scrypt\",\"Scrypt\",\"PHI2\",\"XEVAN\",\"SHA-256D\",\"SHA-256\",\"X13\",\"CryptoNight\",\"Quark\",\"Cryptonight Haven\",\"Quark\",\"Quark\",\"Scrypt\",\"Multiple\",\"Scrypt\",\"VeChainThor Authority\",\"X11\",\"X13\",\"PoS\",\"Scrypt\",\"Scrypt\",\"X11\",\"CryptoNight\",\"Scrypt\",\"SHA-512\",\"Scrypt\",\"Scrypt\",\"SHA-256\",\"Dagger\",\"Scrypt\",\"NIST5\",\"Ethash\",\"Scrypt\",\"Semux BFT consensus\",\"SHA-256\",\"NIST5\",\"PoS\",\"X11\",\"Scrypt\",\"Quark\",\"PoS\",\"CryptoNight\",\"Ethash\",\"X11\",\"ProgPowZ\",\"Quark\",\"Scrypt\",\"SHA-256\",\"Tribus\",\"Quark\",\"Scrypt\",\"SkunkHash v2 Raptor\",\"Quark\",\"X11\",\"X13\",\"Equihash\",\"SHA-256\",\"CryptoNight-Heavy\",\"X11\",\"Scrypt\",\"Jump Consistent Hash\",\"Scrypt\",\"Quark\",\"DPoS\",\"X16R\",\"Quark\",\"Lyra2REv2\",\"Quark\",\"Cryptonight-GPU\",\"X11\",\"Scrypt\",\"X11\",\"Scrypt\",\"PoS\",\"X11\",\"Quark\",\"SHA-256D\",\"RandomX\",\"DPoS\",\"Equihash\",\"Scrypt\",\"Eaglesong\",\"SHA-512\",\"ECC 256K1\",\"X11\",\"X11\",\"C31\",\"DPoS\",\"HEX\",\"Dagger\",\"Groestl\",\"SHA-256\",\"Ed25519\",\"Green Protocol\",\"Scrypt\",\"Scrypt\",\"SHA-256\",\"NeoScrypt\",\"X13\",\"CryptoNight-V7\",\"Scrypt\",\"Equihash\",\"BMW512 / Echo512\",\"Scrypt\",\"PoS\",\"Equihash210,9\",\"VeChainThor Authority\",\"Scrypt\",\"BLAKE256\",\"SHA-512\",\"DPoS\",\"Dagger\",\"SHA-256\",\"Ethash\",\"Scrypt\",\"Scrypt\",\"X13\",\"SHA-256\",\"Scrypt\",\"Scrypt\",\"X11GOST\",\"Groestl\",\"Scrypt\",\"SHA-256\",\"X11\",\"Keccak\",\"Lyra2Z\",\"Multiple\",\"CryptoNight\",\"Shabal256\",\"Blake2b\",\"Proof-of-Authority\",\"Equihash\",\"SHA-256\",\"X13\",\"SHA3\",\"Multiple\",\"POS 3.0\",\"Equihash\",\"Lyra2REv2\",\"Blake2b\",\"VBFT\",\"DPoS\",\"X11\",\"Ethash\",\"DPoS\",\"Equihash\",\"PoS\",\"SHA-256\",\"Ethash\",\"Leased POS\",\"Ouroboros\",\"Loopchain\"],\"CoinName\":[\"42 Coin\",\"404Coin\",\"EliteCoin\",\"BitcoinDark\",\"PayCoin\",\"ProsperCoin\",\"KoboCoin\",\"Argentum\",\"BlueCoin\",\"MyriadCoin\",\"MoonCoin\",\"ZetaCoin\",\"SexCoin\",\"Quatloo\",\"EnergyCoin\",\"QuarkCoin\",\"Riecoin\",\"Digitalcoin \",\"BitBar\",\"Catcoin\",\"CryptoBullion\",\"CannaCoin\",\"CryptCoin\",\"Diamond\",\"DevCoin\",\"EarthCoin\",\"E-Gulden\",\"Emerald\",\"Exclusive Coin\",\"FlutterCoin\",\"Franko\",\"GrandCoin\",\"GlobalCoin\",\"GoldCoin\",\"HoboNickels\",\"HyperStake\",\"Infinite Coin\",\"IXcoin\",\"KrugerCoin\",\"LuckyCoin\",\"Litebar \",\"MaxCoin\",\"MediterraneanCoin\",\"MintCoin\",\"MazaCoin\",\"Nautilus Coin\",\"NobleCoin\",\"NyanCoin\",\"Orbitcoin\",\"PhoenixCoin\",\"RonPaulCoin\",\"StableCoin\",\"SmartCoin\",\"SuperCoin\",\"SyncCoin\",\"TeslaCoin\",\"TigerCoin\",\"TorCoin\",\"TerraCoin\",\"UnbreakableCoin\",\"Unobtanium\",\"UroCoin\",\"UnitaryStatus Dollar\",\"UltraCoin\",\"VeriCoin\",\"WorldCoin\",\"X11 Coin\",\"Crypti\",\"JouleCoin\",\"StealthCoin\",\"ZCC Coin\",\"StorjCoin\",\"MonaCoin\",\"Neutron\",\"RubyCoin\",\"PesetaCoin\",\"Kore\",\"Wild Beast Coin\",\"Dnotes\",\"Flo\",\"8BIT Coin\",\"Sativa Coin\",\"JoinCoin\",\"ArtByte\",\"LiteDoge\",\"Triangles Coin\",\"Folding Coin\",\"SolarCoin\",\"TruckCoin\",\"Ucoin\",\"Unitus\",\"CypherPunkCoin\",\"UFO Coin\",\"OrangeCoin\",\"FriendshipCoin\",\"BlakeCoin\",\"OmniCron\",\"BitstarCoin\",\"NeosCoin\",\"HyperCoin\",\"Vtorrent\",\"PinkCoin\",\"GreenCoin\",\"Cryptonite\",\"BitcoinPlus\",\"MasterCoin\",\"SoonCoin\",\"1Credit\",\"IslaCoin\",\"Crypto Escudo\",\"AudioCoin\",\"MarsCoin \",\"Crypto\",\"Anarchists Prime\",\"Droidz\",\"BowsCoin\",\"IncaKoin\",\"Squall Coin\",\"Piggy Coin\",\"Song Coin\",\"SmileyCoin\",\"BitZeny\",\"Diggits\",\"XiaoMiCoin\",\"Paycon\",\"CapriCoin\",\" ClubCoin\",\"Radium\",\"EverGreenCoin\",\"MindCoin\",\"I0coin\",\"Pakcoin\",\"Creditbit \",\"OKCash\",\"Revolution VR\",\"HOdlcoin\",\"EDRCoin\",\"Hitcoin\",\"DubaiCoin\",\"HiCoin\",\"CarpeDiemCoin\",\"PWR Coin\",\"BillaryCoin\",\"Influxcoin\",\"Gapcoin\",\"SoilCoin\",\"YoCoin\",\"EuropeCoin\",\"ZeitCoin\",\"SwingCoin\",\"Nebuchadnezzar\",\"Francs\",\"BolivarCoin\",\"Ratecoin\",\"Clockcoin\",\"Let it Ride\",\"iBankCoin\",\"Frankywillcoin\",\"Lutetium Coin\",\"GoldBlocks\",\"CarterCoin\",\"Karbo\",\"BitTokens\",\"ZayedCoin\",\"MustangCoin\",\"ZoneCoin\",\"Circuits of Value\",\"RootCoin\",\"DopeCoin\",\"BitCurrency\",\"DollarCoin\",\"Swiscoin\",\"Shilling\",\"BuzzCoin\",\"Opair\",\"PesoBit\",\"Halloween Coin\",\"CoffeeCoin\",\"RoyalCoin\",\"GanjaCoin V2\",\"TeamUP\",\"Elementrem\",\"ZClassic\",\"InsaneCoin\",\"KiloCoin\",\"ArtexCoin\",\"EmberCoin\",\"XenixCoin\",\"FreeCoin\",\"PLNCoin\",\"AquariusCoin\",\"Kurrent\",\"Creatio\",\"Eternity\",\"Eurocoin\",\"BitcoinFast\",\"Stakenet\",\"BitConnect Coin\",\"MoneyCoin\",\"Enigma\",\"Cannabis Industry Coin\",\"Russiacoin\",\"PandaCoin\",\"GameUnits\",\"GAKHcoin\",\"LiteCreed\",\"OsmiumCoin\",\"Bikercoins\",\"HexxCoin\",\"Klingon Empire Darsek\",\"Internet of People\",\"KushCoin\",\"Printerium\",\"Impeach\",\"Citadel\",\"Zilbercoin\",\"FirstCoin\",\"BeaverCoin\",\"FindCoin\",\"VaultCoin\",\"Zero\",\"OpenChat\",\"Canada eCoin\",\"Zoin\",\"RenosCoin\",\"DubaiCoin\",\"VirtacoinPlus\",\"TajCoin\",\"Impact\",\"EB3coin\",\"Atmos\",\"HappyCoin\",\"Coinonat\",\"MacronCoin\",\"Condensate\",\"Independent Money System\",\"ArgusCoin\",\"LomoCoin\",\"ProCurrency\",\"GoldReserve\",\"BenjiRolls\",\"ParallelCoin\",\"GrowthCoin\",\"ILCoin\",\"Phreak\",\"Degas Coin\",\"HTML5 Coin\",\"Ultimate Secure Cash\",\"EquiTrader\",\"Insane Coin\",\"Espers\",\"Dynamic\",\"ChanCoin\",\"Dinastycoin\",\"DigitalPrice\",\"Virta Unique Coin\",\"Bitcoin Planet\",\"Unify\",\"BritCoin\",\"SocialCoin\",\"ArcticCoin\",\"DAS\",\"Metrix\",\"Reality Clash\",\"LeviarCoin\",\"DeepOnion\",\"Bitcore\",\"gCn Coin\",\"Signatum\",\"Onix\",\"Cream\",\"Monoeci\",\"Draftcoin\",\"Sojourn Coin\",\"Oxycoin\",\"Kronecoin\",\"AdCoin\",\"Ethereum Dark\",\"Regalcoin\",\"BitcoinZ\",\"TrezarCoin\",\"Elements\",\"TerraNovaCoin\",\"VIVO Coin\",\"Rupee\",\"NamoCoin\",\"LUXCoin\",\"Bitcloud 2.0\",\"BlackholeCoin\",\"Innova\",\"Zeph\",\"Magnet\",\"Lamden Tau\",\"SHIELD\",\"Cash & Back Coin\",\"UltraNote\",\"GlobalToken\",\"Bulwark\",\"Kalkulus\",\"AC3\",\"Lethean\",\"GermanCoin\",\"LiteCoin Ultra\",\"PopularCoin\",\"Photon\",\"Sucre\",\"SparksPay\",\"Digiwage\",\"GunCoin\",\"IrishCoin\",\"Trollcoin\",\"Litecoin Plus\",\"Pioneer Coin\",\"UnitedBitcoin\",\"Interzone\",\"TokenPay\",\"1717 Masonic Commemorative Token\",\"TurtleCoin\",\"MUNcoin\",\"ShareChain\",\"KREDS\",\"Tokyo Coin\",\"BiblePay\",\"LitecoinCash\",\"BitFlip\",\"ALAX\",\"LottoCoin\",\"Crypto Improvement Fund\",\"Stipend\",\"Pushi\",\"Ellerium\",\"Velox\",\"Callisto Network\",\"BitTube\",\"Poseidon\",\"Aidos Kuneen\",\"Bitspace\",\"Briacoin\",\"Ignition\",\"MedicCoin\",\"Alpenschillling\",\"Abjcoin\",\"FuturoCoin\",\"Monero Classic\",\"Proton\",\"iDealCash\",\"Jumpcoin\",\"Bitcoin Incognito\",\"HollyWoodCoin\",\"PlatinCoin\",\"Newton Coin\",\"TheVig\",\"PluraCoin\",\"EmaratCoin\",\"Dekado\",\"BitcoinWSpectrum\",\"Motion\",\"PlusOneCoin\",\"Axe\",\"Dystem\",\"TPCash\",\"Webchain\",\"Urals Coin\",\"Qwertycoin\",\"Ketan\",\"Project Pai\",\"Xchange\",\"CrypticCoin\",\"Bettex coin\",\"TigerCash\",\"BitMoney\",\"Fiii\",\"Junson Ming Chan Coin\",\"FREDEnergy\",\"Zenad\",\"Universal Molecule\",\"Lithium\",\"PirateCash\",\"Exosis\",\"Oduwa\",\"Beam\",\"BitTorrent\",\"Galilel\",\"Bithereum\",\"Crypto Sports\",\"Credit\",\"Scribe Network\",\"SLICE\",\"Vollar\",\"Nasdacoin\",\"Gexan\",\"Beetle Coin\",\"Titan Coin\",\"BLAST\",\"Bitcoin Rhodium\",\"Beldex\",\"STREAMIT COIN\",\"BLOC.MONEY\",\"Lobstex\",\"Bitcoin Turbo Koin\",\"Unified Society USDEX\",\"Crown Coin\",\"Genstake\",\"VeChain Old\",\"PizzaCoin\",\"MudraCoin\",\"Stakecoin\",\"FrazCoin\",\"Linx\",\"CoinonatX\",\"Sumokoin\",\"Omni\",\"Obsidian\",\"ATC Coin\",\"WomenCoin\",\"Theresa May Coin\",\"Pirl\",\"Xios\",\"VIP Tokens\",\"Ellaism\",\"SafeExchangeCoin\",\"Semux\",\"Kahsh\",\"Electra\",\"Particl\",\"Adzcoin\",\"GPU Coin\",\"Carebit\",\"Zealium\",\"BitCoal\",\"DaxxCoin\",\"Monkey Project\",\"Zano\",\"PEPS Coin\",\"Neetcoin\",\"Next.exchange Token\",\"KEYCO\",\"ZCore\",\"Always Evolving\",\"Dextro\",\"GOSSIP-Coin\",\"PENG\",\"X42 Protocol\",\"Bitrolium\",\"Wincash Coin\",\"Loki\",\"Reliance\",\"Xt3ch\",\"MassGrid\",\"Lynx\",\"Poseidon Quark\",\"Muse\",\"Trivechain\",\"Giant\",\"Absolute Coin\",\"Vitae\",\"Ryo\",\"EUNO\",\"MMOCoin\",\"PAC Global\",\"Graviocoin\",\"Deviant Coin\",\"PAXEX\",\"HerbCoin\",\"LanaCoin\",\"Quantum Resistant Ledger\",\"Golos\",\"Pirate Chain\",\"NewYorkCoin\",\"Nervos Network\",\"Kcash\",\"Acute Angle Cloud\",\"Rhypton Club\",\"Pura\",\"MimbleWimbleCoin\",\"ADAMANT Messenger\",\"XDNA\",\"DAPS Coin\",\"FairCoin\",\"Emercoin\",\"DDKoin\",\"BitGreen\",\"MegaCoin\",\"SoulCoin\",\"Infinity Economics\",\"FeatherCoin\",\"CloakCoin\",\"Monero\",\"Gulden\",\"Bitcoin Gold\",\"DigitalNote \",\"WhiteCoin\",\"Nxt\",\"Aion\",\"VeChain\",\"Litecoin\",\"Decred\",\"Bitshares\",\"EOS\",\"Ambrosus\",\"Bitcoin SV\",\"Expanse\",\"PotCoin\",\"Aurora Coin\",\"Bitcoin Diamond\",\"Namecoin\",\"Einsteinium\",\"Reddcoin\",\"SibCoin\",\"Groestlcoin\",\"ViaCoin\",\"SysCoin\",\"IOCoin\",\"SmartCash\",\"Zcoin\",\"Verge\",\"ByteCoin\",\"BurstCoin\",\"Siacoin\",\"Poa Network\",\"Horizen\",\"Bitcoin Cash\",\"NavCoin\",\"Nexus\",\"DigiByte\",\"QTUM\",\"ZCash\",\"Vertcoin\",\"Nano\",\"Ontology\",\"Lisk\",\"Dash\",\"Ethereum Classic\",\"ARK\",\"Komodo\",\"Steem\",\"Bitcoin\",\"Ethereum\",\"Waves\",\"Cardano\",\"ICON Project\"],\"ProofType\":[\"PoW/PoS\",\"PoW/PoS\",\"PoW/PoS\",\"PoW/PoS\",\"PoS\",\"PoW\",\"PoW/PoS\",\"PoW\",\"PoW/PoS\",\"PoW\",\"PoW\",\"PoW\",\"PoW\",\"PoW\",\"PoW/PoS\",\"PoW\",\"PoW\",\"PoW\",\"PoW/PoS\",\"PoW\",\"PoW/PoS\",\"PoW\",\"PoW\",\"PoW/PoS\",\"PoW\",\"PoW\",\"PoW\",\"PoW\",\"PoS\",\"PoS/PoW/PoT\",\"PoW\",\"PoW\",\"PoW\",\"PoW\",\"PoW/PoS\",\"PoS\",\"PoW\",\"PoW\",\"PoW\",\"PoW\",\"PoW\",\"PoW/PoS\",\"PoW\",\"PoS\",\"PoW/PoS\",\"PoS\",\"PoW\",\"PoW\",\"PoW/PoS\",\"PoW/PoS\",\"PoW\",\"PoW\",\"PoW\",\"PoS\",\"PoW/PoS\",\"PoS\",\"PoW\",\"PoW/PoS\",\"PoW\",\"PoW\",\"PoW\",\"PoW\",\"PoW/PoS\",\"PoW/PoS\",\"PoST\",\"PoW\",\"PoW/PoS\",\"PoS\",\"PoW\",\"PoW/PoS\",\"PoW/PoS\",\"PoS\",\"PoW\",\"PoW/PoS\",\"PoS\",\"PoW\",\"PoW/PoS\",\"PoW\",\"PoS\",\"PoW\",\"PoW/PoS\",\"PoW/PoS\",\"PoW\",\"PoW\",\"PoW/PoS\",\"PoW/PoS\",\"PoW\",\"PoW\",\"PoW/PoS\",\"PoS\",\"PoW\",\"PoW\",\"PoW\",\"PoW/PoS\",\"PoW/PoS\",\"PoW\",\"PoW\",\"PoW/PoS\",\"PoS\",\"PoW/PoS\",\"PoW/PoS\",\"PoW/PoS\",\"PoW\",\"PoW\",\"PoS\",\"PoW\",\"PoW\",\"PoW\",\"PoW/PoS\",\"PoW\",\"PoW/PoS\",\"PoW\",\"PoW\",\"PoW\",\"PoW/PoS\",\"PoW\",\"PoW/PoS\",\"PoS/PoW\",\"PoW/PoS\",\"PoW\",\"PoW\",\"PoW\",\"PoS\",\"PoW/PoS\",\"PoW/PoS\",\"PoW/PoS\",\"PoW/PoS\",\"PoS\",\"PoW/PoS\",\"PoW\",\"PoW\",\"PoW\",\"Proof of Trust\",\"PoW/PoS\",\"PoW\",\"PoW\",\"PoW/PoS\",\"PoW/PoS\",\"PoW/PoS\",\"PoS\",\"PoW\",\"PoW/PoS\",\"PoW/PoS\",\"PoW/PoS\",\"PoW/PoS\",\"PoW\",\"PoW\",\"PoW/PoS\",\"PoS\",\"PoW/PoS\",\"PoS\",\"PoW\",\"PoW\",\"PoW/PoS\",\"PoW/PoS\",\"PoS\",\"PoW/PoS\",\"PoW/PoS\",\"PoS\",\"PoW/PoS\",\"PoW/PoS\",\"PoW\",\"PoW/PoS\",\"PoW\",\"PoW/PoS\",\"PoW/PoS\",\"PoW\",\"PoW/PoS\",\"PoW\",\"PoS\",\"PoW\",\"PoW/PoW\",\"PoW\",\"PoW/PoS\",\"PoS\",\"PoW/PoS\",\"PoW/PoS\",\"PoS\",\"PoS\",\"PoW/PoS\",\"PoS\",\"PoW\",\"PoW\",\"PoW/PoS\",\"PoW\",\"PoW\",\"PoW/PoS\",\"PoW/PoS\",\"PoS\",\"PoW/PoS\",\"PoW/PoS\",\"PoW\",\"PoS\",\"PoW/PoS\",\"PoW/PoS\",\"PoW/PoS\",\"TPoS\",\"PoW/PoS\",\"PoW/PoS\",\"PoW/PoS\",\"PoW\",\"PoW/PoS\",\"PoS\",\"PoW/PoS\",\"PoW/PoS\",\"PoW/PoS\",\"PoW\",\"PoW\",\"PoW\",\"PoW/PoS\",\"PoW/PoS\",\"PoW/PoS\",\"PoW/PoS\",\"PoW/PoS\",\"PoW\",\"PoS\",\"PoW/PoS \",\"PoW\",\"PoS\",\"PoW\",\"PoW\",\"PoW/PoS\",\"PoW\",\"PoW\",\"PoS\",\"PoW\",\"PoW/PoS\",\"PoW/PoS\",\"PoW/PoS\",\"PoW\",\"PoS\",\"PoW/PoS\",\"PoW\",\"PoS\",\"PoW/PoS\",\"PoW/PoS\",\"PoW/PoS\",\"PoW/PoS\",\"PoS\",\"PoW/PoS\",\"PoW\",\"PoW\",\"PoS\",\"PoW\",\"PoS\",\"PoW/PoS\",\"PoW/PoS\",\"PoS\",\"PoW\",\"PoW/PoS\",\"PoW/PoS\",\"PoW\",\"PoW\",\"PoW\",\"PoW\",\"PoW/PoS\",\"PoW/PoS\",\"PoW\",\"PoW/PoS\",\"PoW\",\"PoW\",\"PoW\",\"PoS\",\"PoW\",\"PoW\",\"PoW/PoS\",\"PoW\",\"PoW\",\"PoS\",\"PoW\",\"PoW/PoS\",\"PoW/PoS\",\"PoS\",\"PoW\",\"DPoS\",\"PoW\",\"PoW\",\"PoW/PoS\",\"PoW/PoS\",\"PoW\",\"PoW/PoS\",\"PoW\",\"PoW/PoS\",\"PoW\",\"PoS\",\"PoW/PoS\",\"PoW/PoS\",\"PoW/PoS\",\"PoW/PoS\",\"PoW\",\"DPoS\",\"PoW/PoS\",\"DPoS\",\"PoW\",\"PoW/PoS\",\"PoW\",\"PoW\",\"PoS\",\"PoS\",\"PoW\",\"PoW\",\"PoW/PoS\",\"PoW/PoS\",\"PoW\",\"PoW\",\"PoW\",\"PoW\",\"PoS\",\"PoW\",\"PoW\",\"PoW/PoS\",\"PoW/PoS\",\"PoW\",\"PoW\",\"PoW\",\"PoS\",\"PoS\",\"PoW\",\"PoW\",\"PoW\",\"PoW\",\"PoS\",\"POBh\",\"PoW + Hive\",\"PoW\",\"DPoS\",\"PoW\",\"PoW\",\"PoW/PoS\",\"PoW/PoS\",\"PoW/PoS\",\"PoS\",\"PoW\",\"PoW\",\"PoW\",\"PoW\",\"PoW/PoS\",\"PoW/PoS\",\"PoW/PoS\",\"PoS\",\"PoW\",\"PoW/PoS\",\"PoW\",\"PoW\",\"PoS\",\"PoW/PoS\",\"PoW\",\"PoS/PoW\",\"PoS\",\"PoW\",\"PoW\",\"PoW/PoS\",\"PoW\",\"PoW/PoS\",\"PoS\",\"PoS\",\"PoW\",\"PoW\",\"PoW\",\"PoS\",\"PoW/PoS\",\"PoW\",\"PoW\",\"PoW\",\"PoS\",\"PoW\",\"PoW\",\"PoW\",\"PoS\",\"PoS\",\"Pos\",\"DPoC\",\"PoS\",\"PoW\",\"POS / MN\",\"PoW\",\"PoW\",\"PoS\",\"PoW\",\"PoW/PoS\",\"PoW\",\"DPoS\",\"PoW/PoS\",\"PoW\",\"PoS\",\"PoW/PoS\",\"PoW\",\"PoW\",\"PoW\",\"PoW/PoS\",\"PoW/PoS\",\"PoW/PoS\",\"PoW/PoS\",\"PoW\",\"PoW\",\"PoW\",\"PoS\",\"PoW\",\"PoS\",\"PoS\",\"PoW/PoS\",\"PoS\",\"PoW/PoS\",\"Proof of Authority\",\"PoW\",\"PoS\",\"PoS\",\"PoW\",\"PoW\",\"PoW/PoS\",\"PoW\",\"PoW\",\"PoS\",\"PoW\",\"PoW/PoS\",\"PoW/PoS\",\"PoW\",\"PoW/PoS\",\"PoW/PoS\",\"PoW\",\"PoC\",\"DPoS\",\"PoS\",\"PoW/PoS\",\"PoS\",\"PoW\",\"PoS\",\"PoW/PoS\",\"PoS\",\"PoW\",\"PoW\",\"PoS\",\"PoW/PoS\",\"PoW\",\"PoW/PoS\",\"PoS/PoW\",\"PoW\",\"PoS\",\"PoW/PoS\",\"PoS\",\"PoS\",\"PoS\",\"PoS\",\"PoW\",\"PoW/PoS\",\"PoW\",\"PoS\",\"PoS\",\"PoW\",\"HPoW\",\"PoS\",\"PoS\",\"PoW/PoS\",\"PoW/PoS\",\"PoW/PoS\",\"PoS\",\"PoW\",\"PoW/PoS\",\"PoS\",\"PoS\",\"PoW\",\"PoS\",\"PoS\",\"PoW/PoS\",\"PoW/PoS\",\"PoW\",\"PoW\",\"PoW\",\"PoW\",\"PoW\",\"Zero-Knowledge Proof\",\"DPOS\",\"PoW\",\"PoW\",\"PoW\",\"DPoS\",\"PoW/PoS\",\" PoW/PoS/PoA\",\"PoW/PoS\",\"PoW/PoS\",\"DPoS\",\"PoS\",\"PoW\",\"PoW/PoS\",\"PoS\",\"PoW\",\"PoW/PoS\",\"PoW\",\"PoW\",\"PoW\",\"PoW/PoS\",\"PoW/PoS\",\"PoS/LPoS\",\"PoW/PoS\",\"Proof of Authority\",\"PoW\",\"PoW/PoS\",\"PoS\",\"DPoS\",\"PoA\",\"PoW\",\"PoW\",\"PoW/PoS\",\"PoW/PoS\",\"PoW/PoS\",\"PoW\",\"PoW\",\"PoW/PoS\",\"PoW\",\"PoW\",\"PoW\",\"PoW\",\"PoW/PoS\",\"PoW\",\"PoW\",\"PoW\",\"PoW\",\"PoC\",\"PoW\",\"PoA\",\"PoW\",\"PoW\",\"PoW/PoS\",\"PoW/nPoS\",\"PoW\",\"PoS\",\"PoW\",\"PoW\",\"PoW\",\"PoS\",\"DPoS\",\"PoW/PoS\",\"PoW\",\"DPoS\",\"dPoW/PoW\",\"PoW\",\"PoW\",\"PoW\",\"LPoS\",\"PoS\",\"PoS\"],\"TotalCoinSupply\":[\"42\",\"532000000\",\"314159265359\",\"22000000\",\"12500000\",\"21000000\",\"350000000\",\"64000000\",\"0\",\"2000000000\",\"384000000000\",\"169795588\",\"250000000\",\"100000000\",\"0\",\"247000000\",\"84000000\",\"48166000\",\"500000\",\"21000000 \",\"1000000\",\"13140000\",\"18000000\",\"4380000\",\"21000000000\",\"13500000000\",\"21000000 \",\"32000000\",\"0\",\"0\",\"11235813\",\"1420609614\",\"70000000\",\"72245700\",\"120000000\",\"0\",\"90600000000\",\"21000000\",\"265420800\",\"20000000\",\"1350000\",\"100000000\",\"200000000\",\"0\",\"2419200000\",\"16180000\",\"15000000000\",\"337000000\",\"3770000\",\"98000000\",\"21000000\",\"250000000\",\"51200000\",\"0\",\"1000\",\"100000000\",\"47011968\",\"10000000\",\"42000000\",\"80000000\",\"250000\",\"0\",\"1600000000\",\"100000000\",\"0\",\"265420800\",\"5500000\",\"0\",\"45000000\",\"0\",\"1000000000\",\"500000000\",\"105120000\",\"68000000\",\"0\",\"166386000\",\"12000000\",\"2628000\",\"500000000\",\"160000000\",\"0\",\"10000000\",\"2800000\",\"1000000000\",\"35000000000\",\"120000\",\"1000000000\",\"98100000000\",\"0\",\"20000000\",\"0\",\"0\",\"4000000000\",\"200000000\",\"60168145\",\"7000000000\",\"3371337\",\"54256119\",\"21000000\",\"0\",\"20000000\",\"500000000\",\"10000000000\",\"1840000000\",\"1000000\",\"619478\",\"21000000\",\"92000000000\",\"0\",\"1000000000\",\"10500000000\",\"33000000\",\"65789100\",\"53760000\",\"5060000\",\"21000000\",\"190000000\",\"0\",\"1000000000\",\"210240000\",\"50000000000\",\"250000000\",\"100000000\",\"400000000\",\"50000000\",\"208000000\",\"160000000\",\"9000000\",\"26298000\",\"16000000\",\"21000000\",\"182000000\",\"16504333\",\"105000000\",\"210000000\",\"81962100\",\"22000000\",\"26550000000\",\"10500000\",\"10008835635\",\"21626280000 \",\"0\",\"42000000\",\"12000000\",\"250000000\",\"30000000\",\"168351300\",\"384000000\",\" 99000000000\",\"40000000\",\"20000000\",\"20000000\",\"25000000\",\"75000000\",\"525000000\",\"33500000\",\"44333333\",\"100000000\",\"657000000\",\"50000000\",\"90000000\",\"10000000\",\"21000000\",\"9736000\",\"3000000\",\"21000000\",\"1200000000\",\"0\",\"200000000\",\"0\",\"10638298\",\"3100000000\",\"30000000\",\"20000000000\",\"74000000\",\"0\",\"1500000000\",\"39999898\",\"2500124\",\"100000000\",\"301000000\",\"26205539\",\"21000000\",\"30000000\",\"10000000000\",\"500000000\",\"850000000\",\"3853326.77707314\",\"50000000\",\"38540000 \",\"42000000\",\"228000000\",\"20000000\",\"60000000\",\"20000000\",\"33000000\",\"76500000\",\"28000000\",\"650659833\",\"5000000\",\"21000000\",\"144000000\",\"32514916898\",\"13000000\",\"3315789\",\"78835200\",\"2714286\",\"25000000\",\"9999999\",\"500000000\",\"21000000\",\"9354000\",\"20000000\",\"21933333\",\"185000000\",\"55000000\",\"110000000\",\"3360000\",\"14524851.4827\",\"1000000000\",\"17000000\",\"1000000000\",\"100000000 \",\"21000000\",\"34426423\",\"2232901\",\"100000000\",\"36900000\",\"110000000\",\"4000000000\",\"110290030\",\"100000000\",\"48252000\",\"400000000\",\"500000000\",\"21212121\",\"28600000\",\"1000000000\",\"75000000000\",\"40000000\",\"35520400\",\"1000000\",\"2000000000\",\"2500000000\",\"30000000\",\"105000000\",\"90000000000\",\"200084200\",\"72000000\",\"30000000\",\"50000000000\",\"0\",\"30000000\",\"2000000000\",\"100000000\",\"120000000\",\"100000000\",\"19276800\",\"30000000\",\" 75000000\",\"60000000\",\"18900000\",\"50000000000\",\"24487944\",\"54000000\",\"18898187.6216583\",\"21000000\",\"200000000000\",\"137500000\",\"1100000000\",\"100000000\",\"9507271\",\"17405891.19707116\",\"10500000000\",\"0\",\"84000000\",\"100000000\",\"4200000\",\"27000000\",\"21000000000\",\"400000000\",\"1800000000\",\"15733333\",\"27000000\",\"24000000\",\"1200000000\",\"60000000\",\"200000000\",\"14788275.991\",\"45000000\",\"2000000000\",\"144000000\",\"500000000\",\"660000000\",\"210000000\",\"85000000000\",\"168000000\",\"27716121\",\"20000000\",\"550000000\",\"999481516\",\"50000000000\",\"150000000\",\"4999999999\",\" 90000000000\",\"19800000\",\"21000000\",\"120000000\",\"500000000\",\"64000000\",\"900000000\",\"4000000\",\"23000000\",\"20166000\",\"23000000\",\"25000000\",\"1618033\",\"1000000000000\",\"16600000\",\"10000000000\",\"1100000000\",\"800000000\",\"5200000000\",\"840000000\",\"40000000\",\"1000000000\",\"18406979840\",\"500000000\",\"19340594\",\"25000000\",\"60000000\",\"124000000\",\"6500000000\",\"1000000000\",\"21000000\",\"25000000\",\"50000000\",\"3000000\",\"5000000\",\"500000000\",\"300000000\",\"30000000\",\"100000000\",\"18400000\",\"45000000\",\"5121951220\",\"21000000\",\"21000000\",\"26000000\",\"600000518\",\"184000000000\",\"100000000\",\"1000000000\",\"84000000\",\"90000000\",\"100262205\",\"22075700\",\"21000000\",\"21000000\",\"21000000\",\"1000000000\",\"1750000000\",\"210000000\",\"184470000000\",\"210000000\",\"2100000000\",\"100000000\",\"7600000000\",\"50000000\",\"1000000000\",\"70000000000\",\"5000000000\",\"0\",\"8080000000\",\"46000000\",\"105120001.44\",\"25228800\",\"105000000\",\"21000000\",\"21000000\",\"262800000\",\"990000000000\",\"0\",\"30886000\",\"13370000\",\"74800000000\",\"32700000\",\"100000000\",\"2100000000\",\"84000000\",\"21000000\",\"500000000\",\"5000000000\",\"64000000\",\"2100000\",\"1400222610\",\"840000000\",\"50000000\",\"78600000\",\"21461354\",\"232000000\",\"42000000\",\"15000000\",\"86712634466\",\"25000000\",\"200000000\",\"61599965\",\"20000000\",\"100000000\",\"48252000\",\"88888888\",\"616448\",\"91388946\",\"410000000\",\"90000000000\",\"100000000\",\"156306732.71\",\"21000000\",\"90000000\",\"280000000\",\"2147483647\",\"100000000\",\"1000000000\",\"30000000000\",\"0\",\"84000000\",\"221052632\",\"200000000\",\"80000000\",\"12500000\",\"10000000000\",\"21000000\",\"0\",\"75000000\",\"2100000000\",\"120000000\",\"18000000\",\"18000000\",\"425000000\",\"25000000\",\"0\",\"16000000000\",\"42000000\",\"70000000\",\"20000000\",\"150000000\",\"62000000\",\"44000000\",\"168000000\",\"92000000000\",\"650000000 \",\"18081806 \",\"82546564\",\"5151000\",\"52500000\",\"100000000\",\"88188888\",\"50000000\",\"260000000\",\"100000000000\",\"2000000000\",\"88000000\",\"100000000\",\"54000000\",\"7506000000\",\"105000000\",\"0\",\"200000000\",\"0\",\"25200000000\",\"1000000000\",\"1000000000\",\"2100000000\",\"350000000\",\"20000000\",\"200000000\",\"21000000\",\"70000000000\",\"0\",\"1000000000\",\"45000000\",\"21000000\",\"42000000\",\"1400000000\",\"9000000000\",\"336000000\",\"0\",\"0\",\"1680000000\",\"21000000\",\"6999999982\",\"300000000\",\"1000000000\",\"0\",\"86712634466\",\"84000000\",\"21000000\",\"3600570502\",\"0\",\"0\",\"21000000\",\"16906397\",\"420000000\",\"16768584\",\"210000000\",\"21000000\",\"299792458\",\"0\",\"24000000\",\"105000000\",\"23000000\",\"888000000\",\"22000000\",\"5000000000\",\"21400000\",\"16555000000\",\"184467440735\",\"2158812800\",\"0\",\"252460800\",\"21000000\",\"21000000\",\"0\",\"78000000\",\"21000000000\",\"100000000\",\"21000000\",\"84000000\",\"340282367\",\"1000000000\",\"159918400\",\"22000000\",\"210000000\",\"0\",\"200000000\",\"99692126\",\"21000000\",\"0\",\"100000000\",\"45000000000\",\"0\"],\"TotalCoinsMined\":{\"__ndarray__\":\"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\",\"dtype\":\"float64\",\"shape\":[541]},\"class\":{\"__ndarray__\":\"AAAAAAAAAAAAAAAAAAAAAAAAAAABAAAAAAAAAAEAAAAAAAAAAQAAAAEAAAABAAAAAQAAAAEAAAAAAAAAAQAAAAEAAAABAAAAAAAAAAEAAAAAAAAAAQAAAAEAAAAAAAAAAQAAAAEAAAABAAAAAQAAAAAAAAAAAAAAAQAAAAEAAAABAAAAAQAAAAAAAAAAAAAAAQAAAAEAAAABAAAAAQAAAAEAAAAAAAAAAQAAAAAAAAAAAAAAAAAAAAEAAAABAAAAAAAAAAAAAAABAAAAAQAAAAEAAAAAAAAAAAAAAAAAAAABAAAAAAAAAAEAAAABAAAAAQAAAAEAAAAAAAAAAAAAAAAAAAABAAAAAAAAAAAAAAABAAAAAAAAAAAAAAAAAAAAAQAAAAAAAAAAAAAAAQAAAAAAAAABAAAAAAAAAAEAAAAAAAAAAAAAAAEAAAABAAAAAAAAAAAAAAABAAAAAQAAAAAAAAAAAAAAAQAAAAEAAAABAAAAAAAAAAAAAAABAAAAAQAAAAAAAAAAAAAAAAAAAAAAAAAAAAAAAQAAAAEAAAAAAAAAAQAAAAEAAAABAAAAAAAAAAEAAAAAAAAAAQAAAAEAAAABAAAAAAAAAAEAAAAAAAAAAAAAAAAAAAABAAAAAQAAAAEAAAAAAAAAAAAAAAAAAAAAAAAAAAAAAAAAAAAAAAAAAQAAAAEAAAABAAAAAAAAAAAAAAABAAAAAQAAAAAAAAAAAAAAAAAAAAAAAAABAAAAAAAAAAAAAAAAAAAAAAAAAAEAAAABAAAAAAAAAAAAAAAAAAAAAAAAAAEAAAABAAAAAAAAAAAAAAAAAAAAAAAAAAAAAAAAAAAAAAAAAAAAAAABAAAAAAAAAAEAAAAAAAAAAAAAAAEAAAAAAAAAAQAAAAAAAAABAAAAAAAAAAEAAAAAAAAAAAAAAAAAAAAAAAAAAAAAAAAAAAAAAAAAAAAAAAEAAAABAAAAAAAAAAEAAAABAAAAAAAAAAAAAAAAAAAAAAAAAAAAAAABAAAAAAAAAAAAAAAAAAAAAAAAAAAAAAAAAAAAAAAAAAAAAAABAAAAAAAAAAAAAAAAAAAAAAAAAAAAAAABAAAAAQAAAAEAAAAAAAAAAAAAAAAAAAAAAAAAAAAAAAEAAAAAAAAAAAAAAAEAAAAAAAAAAQAAAAEAAAAAAAAAAQAAAAEAAAAAAAAAAQAAAAAAAAAAAAAAAAAAAAEAAAAAAAAAAAAAAAEAAAAAAAAAAAAAAAAAAAAAAAAAAAAAAAAAAAAAAAAAAQAAAAEAAAAAAAAAAQAAAAAAAAAAAAAAAAAAAAAAAAABAAAAAAAAAAAAAAABAAAAAQAAAAEAAAABAAAAAAAAAAAAAAABAAAAAAAAAAEAAAABAAAAAQAAAAAAAAABAAAAAQAAAAAAAAABAAAAAQAAAAAAAAABAAAAAAAAAAAAAAAAAAAAAQAAAAAAAAABAAAAAQAAAAAAAAAAAAAAAQAAAAAAAAABAAAAAAAAAAEAAAAAAAAAAAAAAAAAAAAAAAAAAAAAAAEAAAAAAAAAAAAAAAAAAAABAAAAAAAAAAEAAAABAAAAAAAAAAAAAAABAAAAAQAAAAAAAAAAAAAAAQAAAAEAAAABAAAAAQAAAAAAAAABAAAAAQAAAAAAAAAAAAAAAQAAAAEAAAABAAAAAAAAAAEAAAABAAAAAQAAAAEAAAABAAAAAAAAAAMAAAADAAAAAQAAAAAAAAABAAAAAQAAAAAAAAAAAAAAAAAAAAAAAAABAAAAAQAAAAEAAAABAAAAAAAAAAAAAAAAAAAAAAAAAAEAAAAAAAAAAQAAAAEAAAAAAAAAAAAAAAEAAAAAAAAAAAAAAAEAAAABAAAAAAAAAAEAAAAAAAAAAAAAAAAAAAABAAAAAQAAAAEAAAAAAAAAAAAAAAEAAAABAAAAAQAAAAAAAAABAAAAAQAAAAEAAAAAAAAAAAAAAAAAAAADAAAAAAAAAAEAAAAAAAAAAQAAAAEAAAABAAAAAQAAAAAAAAABAAAAAgAAAAAAAAABAAAAAAAAAAAAAAABAAAAAQAAAAEAAAAAAAAAAAAAAAAAAAAAAAAAAQAAAAEAAAABAAAAAAAAAAEAAAAAAAAAAAAAAAAAAAAAAAAAAAAAAAAAAAABAAAAAAAAAAAAAAABAAAAAQAAAAAAAAABAAAAAQAAAAAAAAABAAAAAAAAAAAAAAABAAAAAAAAAAAAAAABAAAAAAAAAAAAAAAAAAAAAAAAAAAAAAABAAAAAAAAAAAAAAAAAAAAAQAAAAEAAAAAAAAAAAAAAAEAAAAAAAAAAAAAAAEAAAAAAAAAAAAAAAAAAAAAAAAAAAAAAAAAAAABAAAAAAAAAAEAAAAAAAAAAAAAAAEAAAABAAAAAAAAAAAAAAAAAAAAAAAAAAAAAAAAAAAAAQAAAAAAAAAAAAAAAAAAAAEAAAAAAAAAAAAAAAAAAAAAAAAAAQAAAAEAAAABAAAAAQAAAAEAAAAAAAAAAAAAAAEAAAABAAAAAQAAAAAAAAAAAAAAAQAAAAAAAAAAAAAAAAAAAAAAAAABAAAAAAAAAAAAAAABAAAAAAAAAAEAAAABAAAAAQAAAAAAAAAAAAAAAAAAAAAAAAAAAAAAAQAAAAAAAAAAAAAAAAAAAAAAAAABAAAAAQAAAAAAAAAAAAAAAAAAAAEAAAABAAAAAAAAAAEAAAABAAAAAQAAAAEAAAAAAAAAAQAAAAEAAAABAAAAAQAAAAAAAAABAAAAAAAAAAEAAAABAAAAAAAAAAAAAAABAAAAAAAAAAEAAAABAAAAAQAAAAAAAAAAAAAAAAAAAAEAAAAAAAAAAQAAAAEAAAABAAAAAQAAAAAAAAAAAAAAAAAAAA==\",\"dtype\":\"int32\",\"shape\":[541]}},\"selected\":{\"id\":\"1098\"},\"selection_policy\":{\"id\":\"1132\"}},\"id\":\"1097\",\"type\":\"ColumnDataSource\"},{\"attributes\":{\"editor\":{\"id\":\"1100\"},\"field\":\"CoinName\",\"formatter\":{\"id\":\"1099\"},\"title\":\"CoinName\"},\"id\":\"1101\",\"type\":\"TableColumn\"},{\"attributes\":{\"margin\":[5,5,5,5],\"name\":\"HSpacer01720\",\"sizing_mode\":\"stretch_width\"},\"id\":\"1096\",\"type\":\"Spacer\"},{\"attributes\":{},\"id\":\"1100\",\"type\":\"StringEditor\"},{\"attributes\":{},\"id\":\"1124\",\"type\":\"NumberFormatter\"},{\"attributes\":{},\"id\":\"1098\",\"type\":\"Selection\"},{\"attributes\":{},\"id\":\"1099\",\"type\":\"StringFormatter\"},{\"attributes\":{\"margin\":[5,5,5,5],\"name\":\"HSpacer01721\",\"sizing_mode\":\"stretch_width\"},\"id\":\"1133\",\"type\":\"Spacer\"},{\"attributes\":{},\"id\":\"1115\",\"type\":\"StringEditor\"},{\"attributes\":{\"editor\":{\"id\":\"1120\"},\"field\":\"TotalCoinsMined\",\"formatter\":{\"id\":\"1119\"},\"title\":\"TotalCoinsMined\"},\"id\":\"1121\",\"type\":\"TableColumn\"},{\"attributes\":{},\"id\":\"1114\",\"type\":\"StringFormatter\"},{\"attributes\":{\"editor\":{\"id\":\"1125\"},\"field\":\"class\",\"formatter\":{\"id\":\"1124\"},\"title\":\"class\"},\"id\":\"1126\",\"type\":\"TableColumn\"},{\"attributes\":{},\"id\":\"1104\",\"type\":\"StringFormatter\"},{\"attributes\":{\"children\":[{\"id\":\"1096\"},{\"id\":\"1129\"},{\"id\":\"1133\"}],\"margin\":[0,0,0,0],\"name\":\"Row01716\",\"tags\":[\"embedded\"]},\"id\":\"1095\",\"type\":\"Row\"},{\"attributes\":{\"source\":{\"id\":\"1097\"}},\"id\":\"1130\",\"type\":\"CDSView\"},{\"attributes\":{},\"id\":\"1132\",\"type\":\"UnionRenderers\"}],\"root_ids\":[\"1095\"]},\"title\":\"Bokeh Application\",\"version\":\"2.0.2\"}};\n",
       "  var render_items = [{\"docid\":\"e5d9f11f-2b30-4ff3-b854-2942f03ac71e\",\"root_ids\":[\"1095\"],\"roots\":{\"1095\":\"262cf461-e9a3-4e5b-8f18-5dfae9415624\"}}];\n",
       "  root.Bokeh.embed.embed_items_notebook(docs_json, render_items);\n",
       "  }\n",
       "if (root.Bokeh !== undefined) {\n",
       "    embed_document(root);\n",
       "  } else {\n",
       "    var attempts = 0;\n",
       "    var timer = setInterval(function(root) {\n",
       "      if (root.Bokeh !== undefined) {\n",
       "        clearInterval(timer);\n",
       "        embed_document(root);\n",
       "      } else if (document.readyState == \"complete\") {\n",
       "        attempts++;\n",
       "        if (attempts > 100) {\n",
       "          clearInterval(timer);\n",
       "          console.log(\"Bokeh: ERROR: Unable to run BokehJS code because BokehJS library is missing\");\n",
       "        }\n",
       "      }\n",
       "    }, 10, root)\n",
       "  }\n",
       "})(window);</script>"
      ],
      "text/plain": [
       ":Table   [CoinName,Algorithm,ProofType,TotalCoinSupply,TotalCoinsMined,class]"
      ]
     },
     "execution_count": 91,
     "metadata": {
      "application/vnd.holoviews_exec.v0+json": {
       "id": "1095"
      }
     },
     "output_type": "execute_result"
    }
   ],
   "source": [
    "# Table with tradable cryptos\n",
    "clustered_df.hvplot.table(columns=['CoinName', 'Algorithm', 'ProofType',\n",
    "                                  'TotalCoinSupply', 'TotalCoinsMined',\n",
    "                                  'class']\n",
    "                         )"
   ]
  },
  {
   "cell_type": "code",
   "execution_count": 100,
   "metadata": {},
   "outputs": [
    {
     "name": "stdout",
     "output_type": "stream",
     "text": [
      "The total number of tradable cryptocurrenices is: 541\n"
     ]
    }
   ],
   "source": [
    "# Print the total number of tradable cryptocurrencies\n",
    "print(f'The total number of tradable cryptocurrenices is: {len(clustered_df)}')"
   ]
  },
  {
   "cell_type": "markdown",
   "metadata": {},
   "source": [
    "#### Scatter Plot with Tradable Cryptocurrencies"
   ]
  },
  {
   "cell_type": "code",
   "execution_count": 103,
   "metadata": {},
   "outputs": [],
   "source": [
    "# Scale data to create the scatter plot\n"
   ]
  },
  {
   "cell_type": "code",
   "execution_count": null,
   "metadata": {},
   "outputs": [],
   "source": [
    "# Plot the scatter with x=\"TotalCoinsMined\" and y=\"TotalCoinSupply\"\n",
    ".hvplot.scatter(\n",
    "    x='TotalCoinsMined',\n",
    "    y='TotalCoinSupply',\n",
    "    hover_cols=[\"CoinName\"],\n",
    ")"
   ]
  }
 ],
 "metadata": {
  "file_extension": ".py",
  "kernelspec": {
   "display_name": "Python 3",
   "language": "python",
   "name": "python3"
  },
  "language_info": {
   "codemirror_mode": {
    "name": "ipython",
    "version": 3
   },
   "file_extension": ".py",
   "mimetype": "text/x-python",
   "name": "python",
   "nbconvert_exporter": "python",
   "pygments_lexer": "ipython3",
   "version": "3.7.7"
  },
  "mimetype": "text/x-python",
  "name": "python",
  "npconvert_exporter": "python",
  "pygments_lexer": "ipython3",
  "version": 3
 },
 "nbformat": 4,
 "nbformat_minor": 4
}
