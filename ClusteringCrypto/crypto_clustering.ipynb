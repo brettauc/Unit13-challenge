{
 "cells": [
  {
   "cell_type": "markdown",
   "metadata": {},
   "source": [
    "# Clustering Crypto"
   ]
  },
  {
   "cell_type": "code",
   "execution_count": 143,
   "metadata": {},
   "outputs": [],
   "source": [
    "# Initial imports\n",
    "import requests\n",
    "import pandas as pd\n",
    "import matplotlib.pyplot as plt\n",
    "import hvplot.pandas\n",
    "import plotly.express as px\n",
    "from sklearn.preprocessing import StandardScaler, MinMaxScaler\n",
    "from sklearn.decomposition import PCA\n",
    "from sklearn.cluster import KMeans"
   ]
  },
  {
   "cell_type": "markdown",
   "metadata": {},
   "source": [
    "### Fetching Cryptocurrency Data"
   ]
  },
  {
   "cell_type": "code",
   "execution_count": 2,
   "metadata": {
    "scrolled": true
   },
   "outputs": [],
   "source": [
    "# Use the following endpoint to fetch json data\n",
    "import json\n",
    "import pprint\n",
    "url = \"https://min-api.cryptocompare.com/data/all/coinlist\"\n",
    "r = requests.get(url)\n",
    "content = r.content\n",
    "content_d = content.decode('utf-8')\n",
    "data = json.loads(content_d)"
   ]
  },
  {
   "cell_type": "code",
   "execution_count": 129,
   "metadata": {},
   "outputs": [
    {
     "data": {
      "text/html": [
       "<div>\n",
       "<style scoped>\n",
       "    .dataframe tbody tr th:only-of-type {\n",
       "        vertical-align: middle;\n",
       "    }\n",
       "\n",
       "    .dataframe tbody tr th {\n",
       "        vertical-align: top;\n",
       "    }\n",
       "\n",
       "    .dataframe thead th {\n",
       "        text-align: right;\n",
       "    }\n",
       "</style>\n",
       "<table border=\"1\" class=\"dataframe\">\n",
       "  <thead>\n",
       "    <tr style=\"text-align: right;\">\n",
       "      <th></th>\n",
       "      <th>Algorithm</th>\n",
       "      <th>BlockNumber</th>\n",
       "      <th>BlockReward</th>\n",
       "      <th>BlockTime</th>\n",
       "      <th>BuiltOn</th>\n",
       "      <th>CoinName</th>\n",
       "      <th>ContentCreatedOn</th>\n",
       "      <th>DecimalPlaces</th>\n",
       "      <th>FullName</th>\n",
       "      <th>FullyPremined</th>\n",
       "      <th>...</th>\n",
       "      <th>Rating</th>\n",
       "      <th>SmartContractAddress</th>\n",
       "      <th>SortOrder</th>\n",
       "      <th>Sponsored</th>\n",
       "      <th>Symbol</th>\n",
       "      <th>Taxonomy</th>\n",
       "      <th>TotalCoinSupply</th>\n",
       "      <th>TotalCoinsFreeFloat</th>\n",
       "      <th>TotalCoinsMined</th>\n",
       "      <th>Url</th>\n",
       "    </tr>\n",
       "  </thead>\n",
       "  <tbody>\n",
       "    <tr>\n",
       "      <th>42</th>\n",
       "      <td>Scrypt</td>\n",
       "      <td>195131</td>\n",
       "      <td>0</td>\n",
       "      <td>0</td>\n",
       "      <td>N/A</td>\n",
       "      <td>42 Coin</td>\n",
       "      <td>1427211129</td>\n",
       "      <td>0</td>\n",
       "      <td>42 Coin (42)</td>\n",
       "      <td>0</td>\n",
       "      <td>...</td>\n",
       "      <td>{'Weiss': {'Rating': '', 'TechnologyAdoptionRa...</td>\n",
       "      <td>N/A</td>\n",
       "      <td>34</td>\n",
       "      <td>False</td>\n",
       "      <td>42</td>\n",
       "      <td>{'Access': '', 'FCA': '', 'FINMA': '', 'Indust...</td>\n",
       "      <td>42</td>\n",
       "      <td>N/A</td>\n",
       "      <td>42</td>\n",
       "      <td>/coins/42/overview</td>\n",
       "    </tr>\n",
       "    <tr>\n",
       "      <th>300</th>\n",
       "      <td>N/A</td>\n",
       "      <td>0</td>\n",
       "      <td>0</td>\n",
       "      <td>0</td>\n",
       "      <td>7605</td>\n",
       "      <td>300 token</td>\n",
       "      <td>1517935016</td>\n",
       "      <td>18</td>\n",
       "      <td>300 token (300)</td>\n",
       "      <td>0</td>\n",
       "      <td>...</td>\n",
       "      <td>{'Weiss': {'Rating': '', 'TechnologyAdoptionRa...</td>\n",
       "      <td>0xaec98a708810414878c3bcdf46aad31ded4a4557</td>\n",
       "      <td>2212</td>\n",
       "      <td>False</td>\n",
       "      <td>300</td>\n",
       "      <td>{'Access': '', 'FCA': '', 'FINMA': '', 'Indust...</td>\n",
       "      <td>300</td>\n",
       "      <td>N/A</td>\n",
       "      <td>300</td>\n",
       "      <td>/coins/300/overview</td>\n",
       "    </tr>\n",
       "    <tr>\n",
       "      <th>365</th>\n",
       "      <td>X11</td>\n",
       "      <td>NaN</td>\n",
       "      <td>NaN</td>\n",
       "      <td>NaN</td>\n",
       "      <td>N/A</td>\n",
       "      <td>365Coin</td>\n",
       "      <td>1480032918</td>\n",
       "      <td>0</td>\n",
       "      <td>365Coin (365)</td>\n",
       "      <td>0</td>\n",
       "      <td>...</td>\n",
       "      <td>{'Weiss': {'Rating': '', 'TechnologyAdoptionRa...</td>\n",
       "      <td>N/A</td>\n",
       "      <td>916</td>\n",
       "      <td>False</td>\n",
       "      <td>365</td>\n",
       "      <td>{'Access': '', 'FCA': '', 'FINMA': '', 'Indust...</td>\n",
       "      <td>2300000000</td>\n",
       "      <td>N/A</td>\n",
       "      <td>NaN</td>\n",
       "      <td>/coins/365/overview</td>\n",
       "    </tr>\n",
       "    <tr>\n",
       "      <th>404</th>\n",
       "      <td>Scrypt</td>\n",
       "      <td>44634</td>\n",
       "      <td>34.0905</td>\n",
       "      <td>60</td>\n",
       "      <td>N/A</td>\n",
       "      <td>404Coin</td>\n",
       "      <td>1466100361</td>\n",
       "      <td>0</td>\n",
       "      <td>404Coin (404)</td>\n",
       "      <td>0</td>\n",
       "      <td>...</td>\n",
       "      <td>{'Weiss': {'Rating': '', 'TechnologyAdoptionRa...</td>\n",
       "      <td>N/A</td>\n",
       "      <td>602</td>\n",
       "      <td>False</td>\n",
       "      <td>404</td>\n",
       "      <td>{'Access': '', 'FCA': '', 'FINMA': '', 'Indust...</td>\n",
       "      <td>532000000</td>\n",
       "      <td>N/A</td>\n",
       "      <td>1.19519e+06</td>\n",
       "      <td>/coins/404/overview</td>\n",
       "    </tr>\n",
       "    <tr>\n",
       "      <th>433</th>\n",
       "      <td>N/A</td>\n",
       "      <td>10817625</td>\n",
       "      <td>2</td>\n",
       "      <td>0</td>\n",
       "      <td>7605</td>\n",
       "      <td>433 Token</td>\n",
       "      <td>1541597321</td>\n",
       "      <td>18</td>\n",
       "      <td>433 Token (433)</td>\n",
       "      <td>0</td>\n",
       "      <td>...</td>\n",
       "      <td>{'Weiss': {'Rating': '', 'TechnologyAdoptionRa...</td>\n",
       "      <td>0x738505a5f31bf72e0b70298bca81150eb1b7c751</td>\n",
       "      <td>3505</td>\n",
       "      <td>False</td>\n",
       "      <td>433</td>\n",
       "      <td>{'Access': '', 'FCA': '', 'FINMA': '', 'Indust...</td>\n",
       "      <td>1000000000</td>\n",
       "      <td>N/A</td>\n",
       "      <td>1.12509e+08</td>\n",
       "      <td>/coins/433/overview</td>\n",
       "    </tr>\n",
       "  </tbody>\n",
       "</table>\n",
       "<p>5 rows × 27 columns</p>\n",
       "</div>"
      ],
      "text/plain": [
       "    Algorithm BlockNumber BlockReward BlockTime BuiltOn   CoinName  \\\n",
       "42     Scrypt      195131           0         0     N/A    42 Coin   \n",
       "300       N/A           0           0         0    7605  300 token   \n",
       "365       X11         NaN         NaN       NaN     N/A    365Coin   \n",
       "404    Scrypt       44634     34.0905        60     N/A    404Coin   \n",
       "433       N/A    10817625           2         0    7605  433 Token   \n",
       "\n",
       "    ContentCreatedOn DecimalPlaces         FullName FullyPremined  ...  \\\n",
       "42        1427211129             0     42 Coin (42)             0  ...   \n",
       "300       1517935016            18  300 token (300)             0  ...   \n",
       "365       1480032918             0    365Coin (365)             0  ...   \n",
       "404       1466100361             0    404Coin (404)             0  ...   \n",
       "433       1541597321            18  433 Token (433)             0  ...   \n",
       "\n",
       "                                                Rating  \\\n",
       "42   {'Weiss': {'Rating': '', 'TechnologyAdoptionRa...   \n",
       "300  {'Weiss': {'Rating': '', 'TechnologyAdoptionRa...   \n",
       "365  {'Weiss': {'Rating': '', 'TechnologyAdoptionRa...   \n",
       "404  {'Weiss': {'Rating': '', 'TechnologyAdoptionRa...   \n",
       "433  {'Weiss': {'Rating': '', 'TechnologyAdoptionRa...   \n",
       "\n",
       "                           SmartContractAddress SortOrder Sponsored Symbol  \\\n",
       "42                                          N/A        34     False     42   \n",
       "300  0xaec98a708810414878c3bcdf46aad31ded4a4557      2212     False    300   \n",
       "365                                         N/A       916     False    365   \n",
       "404                                         N/A       602     False    404   \n",
       "433  0x738505a5f31bf72e0b70298bca81150eb1b7c751      3505     False    433   \n",
       "\n",
       "                                              Taxonomy TotalCoinSupply  \\\n",
       "42   {'Access': '', 'FCA': '', 'FINMA': '', 'Indust...              42   \n",
       "300  {'Access': '', 'FCA': '', 'FINMA': '', 'Indust...             300   \n",
       "365  {'Access': '', 'FCA': '', 'FINMA': '', 'Indust...      2300000000   \n",
       "404  {'Access': '', 'FCA': '', 'FINMA': '', 'Indust...       532000000   \n",
       "433  {'Access': '', 'FCA': '', 'FINMA': '', 'Indust...      1000000000   \n",
       "\n",
       "    TotalCoinsFreeFloat TotalCoinsMined                  Url  \n",
       "42                  N/A              42   /coins/42/overview  \n",
       "300                 N/A             300  /coins/300/overview  \n",
       "365                 N/A             NaN  /coins/365/overview  \n",
       "404                 N/A     1.19519e+06  /coins/404/overview  \n",
       "433                 N/A     1.12509e+08  /coins/433/overview  \n",
       "\n",
       "[5 rows x 27 columns]"
      ]
     },
     "execution_count": 129,
     "metadata": {},
     "output_type": "execute_result"
    }
   ],
   "source": [
    "# Create a DataFrame \n",
    "# HINT: You will need to use the 'Data' key from the json response, then transpose the DataFrame.\n",
    "# dataframe creation\n",
    "crypto_df = pd.DataFrame(data=data['Data'])\n",
    "\n",
    "# Transpose Dataframe\n",
    "crypto_df = crypto_df.T\n",
    "\n",
    "\n",
    "crypto_df.head()"
   ]
  },
  {
   "cell_type": "code",
   "execution_count": 130,
   "metadata": {},
   "outputs": [],
   "source": [
    "# Alternatively, use the provided csv file:\n",
    "# file_path = Path(\"Resources/crypto_data.csv\")\n",
    "\n",
    "# Create a DataFrame"
   ]
  },
  {
   "cell_type": "markdown",
   "metadata": {},
   "source": [
    "### Data Preprocessing"
   ]
  },
  {
   "cell_type": "code",
   "execution_count": 131,
   "metadata": {},
   "outputs": [
    {
     "data": {
      "text/html": [
       "<div>\n",
       "<style scoped>\n",
       "    .dataframe tbody tr th:only-of-type {\n",
       "        vertical-align: middle;\n",
       "    }\n",
       "\n",
       "    .dataframe tbody tr th {\n",
       "        vertical-align: top;\n",
       "    }\n",
       "\n",
       "    .dataframe thead th {\n",
       "        text-align: right;\n",
       "    }\n",
       "</style>\n",
       "<table border=\"1\" class=\"dataframe\">\n",
       "  <thead>\n",
       "    <tr style=\"text-align: right;\">\n",
       "      <th></th>\n",
       "      <th>CoinName</th>\n",
       "      <th>Algorithm</th>\n",
       "      <th>IsTrading</th>\n",
       "      <th>ProofType</th>\n",
       "      <th>TotalCoinsMined</th>\n",
       "      <th>TotalCoinSupply</th>\n",
       "    </tr>\n",
       "  </thead>\n",
       "  <tbody>\n",
       "    <tr>\n",
       "      <th>42</th>\n",
       "      <td>42 Coin</td>\n",
       "      <td>Scrypt</td>\n",
       "      <td>True</td>\n",
       "      <td>PoW/PoS</td>\n",
       "      <td>42</td>\n",
       "      <td>42</td>\n",
       "    </tr>\n",
       "    <tr>\n",
       "      <th>300</th>\n",
       "      <td>300 token</td>\n",
       "      <td>N/A</td>\n",
       "      <td>True</td>\n",
       "      <td>N/A</td>\n",
       "      <td>300</td>\n",
       "      <td>300</td>\n",
       "    </tr>\n",
       "    <tr>\n",
       "      <th>365</th>\n",
       "      <td>365Coin</td>\n",
       "      <td>X11</td>\n",
       "      <td>True</td>\n",
       "      <td>PoW/PoS</td>\n",
       "      <td>NaN</td>\n",
       "      <td>2300000000</td>\n",
       "    </tr>\n",
       "    <tr>\n",
       "      <th>404</th>\n",
       "      <td>404Coin</td>\n",
       "      <td>Scrypt</td>\n",
       "      <td>True</td>\n",
       "      <td>PoW/PoS</td>\n",
       "      <td>1.19519e+06</td>\n",
       "      <td>532000000</td>\n",
       "    </tr>\n",
       "    <tr>\n",
       "      <th>433</th>\n",
       "      <td>433 Token</td>\n",
       "      <td>N/A</td>\n",
       "      <td>False</td>\n",
       "      <td>N/A</td>\n",
       "      <td>1.12509e+08</td>\n",
       "      <td>1000000000</td>\n",
       "    </tr>\n",
       "  </tbody>\n",
       "</table>\n",
       "</div>"
      ],
      "text/plain": [
       "      CoinName Algorithm IsTrading ProofType TotalCoinsMined TotalCoinSupply\n",
       "42     42 Coin    Scrypt      True   PoW/PoS              42              42\n",
       "300  300 token       N/A      True       N/A             300             300\n",
       "365    365Coin       X11      True   PoW/PoS             NaN      2300000000\n",
       "404    404Coin    Scrypt      True   PoW/PoS     1.19519e+06       532000000\n",
       "433  433 Token       N/A     False       N/A     1.12509e+08      1000000000"
      ]
     },
     "execution_count": 131,
     "metadata": {},
     "output_type": "execute_result"
    }
   ],
   "source": [
    "# Keep only necessary columns:\n",
    "# 'CoinName','Algorithm','IsTrading','ProofType','TotalCoinsMined','TotalCoinSupply'\n",
    "crypto_df.drop(columns = ['BlockNumber', 'BlockReward', 'BlockTime', 'BuiltOn',\n",
    "                          'ContentCreatedOn', 'DecimalPlaces', 'FullName',\n",
    "                          'FullyPremined', 'Id', 'ImageUrl', 'Name',\n",
    "                          'NetHashesPerSecond', 'PreMinedValue', 'Rating',\n",
    "                          'SmartContractAddress', 'SortOrder', 'Sponsored', 'Symbol', 'Taxonomy',\n",
    "                          'TotalCoinsFreeFloat', 'Url'], inplace=True)\n",
    "\n",
    "# Reorder Columns that are still in the dataframe\n",
    "crypto_df = crypto_df[['CoinName', 'Algorithm', 'IsTrading', 'ProofType', 'TotalCoinsMined', 'TotalCoinSupply']]\n",
    "\n",
    "crypto_df.head()"
   ]
  },
  {
   "cell_type": "code",
   "execution_count": 132,
   "metadata": {},
   "outputs": [],
   "source": [
    "# Keep only cryptocurrencies that are trading\n",
    "\n",
    "# determine the count of false values(1094)\n",
    "# crypto_df['IsTrading'].value_counts() \n",
    "\n",
    "crypto_df.drop(crypto_df[crypto_df['IsTrading'] == False].index,\n",
    "              inplace=True)"
   ]
  },
  {
   "cell_type": "code",
   "execution_count": 133,
   "metadata": {},
   "outputs": [],
   "source": [
    "# Keep only cryptocurrencies with a working algorithm\n",
    "crypto_df.drop(crypto_df[crypto_df['Algorithm'] == 'N/A'].index, inplace=True)"
   ]
  },
  {
   "cell_type": "code",
   "execution_count": 134,
   "metadata": {},
   "outputs": [],
   "source": [
    "# Remove the \"IsTrading\" column\n",
    "crypto_df.drop(columns = ['IsTrading'], inplace=True)"
   ]
  },
  {
   "cell_type": "code",
   "execution_count": 135,
   "metadata": {},
   "outputs": [],
   "source": [
    "# Remove rows with at least 1 null value\n",
    "crypto_df.dropna(inplace=True)"
   ]
  },
  {
   "cell_type": "code",
   "execution_count": 136,
   "metadata": {},
   "outputs": [],
   "source": [
    "# Remove rows with cryptocurrencies having no coins mined\n",
    "crypto_df.drop(crypto_df[crypto_df['TotalCoinsMined'] == 0].index, inplace=True)"
   ]
  },
  {
   "cell_type": "code",
   "execution_count": 137,
   "metadata": {},
   "outputs": [],
   "source": [
    "# Drop rows where there are 'N/A' text values\n",
    "crypto_df = crypto_df[crypto_df != 'N/A'].dropna()"
   ]
  },
  {
   "cell_type": "code",
   "execution_count": 138,
   "metadata": {},
   "outputs": [],
   "source": [
    "# Store the 'CoinName'column in its own DataFrame prior to dropping it from crypto_df\n",
    "CoinName_df = crypto_df['CoinName'].to_frame()"
   ]
  },
  {
   "cell_type": "code",
   "execution_count": 139,
   "metadata": {},
   "outputs": [],
   "source": [
    "# Drop the 'CoinName' column since it's not going to be used on the clustering algorithm\n",
    "crypto_df.drop(columns = ['CoinName'], inplace=True)"
   ]
  },
  {
   "cell_type": "code",
   "execution_count": 140,
   "metadata": {},
   "outputs": [
    {
     "data": {
      "text/html": [
       "<div>\n",
       "<style scoped>\n",
       "    .dataframe tbody tr th:only-of-type {\n",
       "        vertical-align: middle;\n",
       "    }\n",
       "\n",
       "    .dataframe tbody tr th {\n",
       "        vertical-align: top;\n",
       "    }\n",
       "\n",
       "    .dataframe thead th {\n",
       "        text-align: right;\n",
       "    }\n",
       "</style>\n",
       "<table border=\"1\" class=\"dataframe\">\n",
       "  <thead>\n",
       "    <tr style=\"text-align: right;\">\n",
       "      <th></th>\n",
       "      <th>Algorithm</th>\n",
       "      <th>ProofType</th>\n",
       "      <th>TotalCoinsMined</th>\n",
       "      <th>TotalCoinSupply</th>\n",
       "    </tr>\n",
       "  </thead>\n",
       "  <tbody>\n",
       "    <tr>\n",
       "      <th>42</th>\n",
       "      <td>Scrypt</td>\n",
       "      <td>PoW/PoS</td>\n",
       "      <td>42</td>\n",
       "      <td>42</td>\n",
       "    </tr>\n",
       "    <tr>\n",
       "      <th>404</th>\n",
       "      <td>Scrypt</td>\n",
       "      <td>PoW/PoS</td>\n",
       "      <td>1.19519e+06</td>\n",
       "      <td>532000000</td>\n",
       "    </tr>\n",
       "    <tr>\n",
       "      <th>1337</th>\n",
       "      <td>X13</td>\n",
       "      <td>PoW/PoS</td>\n",
       "      <td>2.94803e+10</td>\n",
       "      <td>314159265359</td>\n",
       "    </tr>\n",
       "    <tr>\n",
       "      <th>BTCD</th>\n",
       "      <td>SHA-256</td>\n",
       "      <td>PoW/PoS</td>\n",
       "      <td>1288862</td>\n",
       "      <td>22000000</td>\n",
       "    </tr>\n",
       "    <tr>\n",
       "      <th>XPY</th>\n",
       "      <td>SHA-256</td>\n",
       "      <td>PoS</td>\n",
       "      <td>1.19953e+07</td>\n",
       "      <td>12500000</td>\n",
       "    </tr>\n",
       "  </tbody>\n",
       "</table>\n",
       "</div>"
      ],
      "text/plain": [
       "     Algorithm ProofType TotalCoinsMined TotalCoinSupply\n",
       "42      Scrypt   PoW/PoS              42              42\n",
       "404     Scrypt   PoW/PoS     1.19519e+06       532000000\n",
       "1337       X13   PoW/PoS     2.94803e+10    314159265359\n",
       "BTCD   SHA-256   PoW/PoS         1288862        22000000\n",
       "XPY    SHA-256       PoS     1.19953e+07        12500000"
      ]
     },
     "execution_count": 140,
     "metadata": {},
     "output_type": "execute_result"
    }
   ],
   "source": [
    "crypto_df.head()"
   ]
  },
  {
   "cell_type": "code",
   "execution_count": 149,
   "metadata": {},
   "outputs": [],
   "source": [
    "# Create dummy variables for text features\n",
    "X = pd.get_dummies(crypto_df, columns=['Algorithm', 'ProofType'], drop_first=True)"
   ]
  },
  {
   "cell_type": "code",
   "execution_count": 150,
   "metadata": {},
   "outputs": [],
   "source": [
    "# Standardize data\n",
    "X_scaled = StandardScaler().fit_transform(X)"
   ]
  },
  {
   "cell_type": "markdown",
   "metadata": {},
   "source": [
    "### Reducing Dimensions Using PCA"
   ]
  },
  {
   "cell_type": "code",
   "execution_count": null,
   "metadata": {},
   "outputs": [],
   "source": [
    "# Use PCA to reduce dimensions to 3 principal components\n"
   ]
  },
  {
   "cell_type": "code",
   "execution_count": null,
   "metadata": {},
   "outputs": [],
   "source": [
    "# Create a DataFrame with the principal components data\n"
   ]
  },
  {
   "cell_type": "markdown",
   "metadata": {},
   "source": [
    "### Clustering Crytocurrencies Using K-Means\n",
    "\n",
    "#### Find the Best Value for `k` Using the Elbow Curve"
   ]
  },
  {
   "cell_type": "code",
   "execution_count": null,
   "metadata": {},
   "outputs": [],
   "source": [
    "inertia = []\n",
    "k = list(range(1, 11))\n",
    "\n",
    "# Calculate the inertia for the range of k values\n",
    "\n",
    "\n",
    "# Create the Elbow Curve using hvPlot\n"
   ]
  },
  {
   "cell_type": "markdown",
   "metadata": {},
   "source": [
    "Running K-Means with `k=<your best value for k here>`"
   ]
  },
  {
   "cell_type": "code",
   "execution_count": null,
   "metadata": {},
   "outputs": [],
   "source": [
    "# Initialize the K-Means model\n",
    "\n",
    "# Fit the model\n",
    "\n",
    "# Predict clusters\n",
    "\n",
    "# Create a new DataFrame including predicted clusters and cryptocurrencies features\n"
   ]
  },
  {
   "cell_type": "markdown",
   "metadata": {},
   "source": [
    "### Visualizing Results\n",
    "\n",
    "#### 3D-Scatter with Clusters"
   ]
  },
  {
   "cell_type": "code",
   "execution_count": null,
   "metadata": {},
   "outputs": [],
   "source": [
    "# Create a 3D-Scatter with the PCA data and the clusters\n"
   ]
  },
  {
   "cell_type": "markdown",
   "metadata": {},
   "source": [
    "#### Table of Tradable Cryptocurrencies"
   ]
  },
  {
   "cell_type": "code",
   "execution_count": null,
   "metadata": {},
   "outputs": [],
   "source": [
    "# Table with tradable cryptos\n"
   ]
  },
  {
   "cell_type": "code",
   "execution_count": null,
   "metadata": {},
   "outputs": [],
   "source": [
    "# Print the total number of tradable cryptocurrencies\n"
   ]
  },
  {
   "cell_type": "markdown",
   "metadata": {},
   "source": [
    "#### Scatter Plot with Tradable Cryptocurrencies"
   ]
  },
  {
   "cell_type": "code",
   "execution_count": null,
   "metadata": {},
   "outputs": [],
   "source": [
    "# Scale data to create the scatter plot\n"
   ]
  },
  {
   "cell_type": "code",
   "execution_count": null,
   "metadata": {},
   "outputs": [],
   "source": [
    "# Plot the scatter with x=\"TotalCoinsMined\" and y=\"TotalCoinSupply\"\n"
   ]
  }
 ],
 "metadata": {
  "file_extension": ".py",
  "kernelspec": {
   "display_name": "Python 3",
   "language": "python",
   "name": "python3"
  },
  "language_info": {
   "codemirror_mode": {
    "name": "ipython",
    "version": 3
   },
   "file_extension": ".py",
   "mimetype": "text/x-python",
   "name": "python",
   "nbconvert_exporter": "python",
   "pygments_lexer": "ipython3",
   "version": "3.7.7"
  },
  "mimetype": "text/x-python",
  "name": "python",
  "npconvert_exporter": "python",
  "pygments_lexer": "ipython3",
  "version": 3
 },
 "nbformat": 4,
 "nbformat_minor": 4
}
